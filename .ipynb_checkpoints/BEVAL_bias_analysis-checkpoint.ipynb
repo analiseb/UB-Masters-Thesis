{
 "cells": [
  {
   "cell_type": "markdown",
   "id": "61bfd8a8",
   "metadata": {},
   "source": [
    "## Bias Evaluation : AIF360\n",
    "\n",
    "Quantification of model bias in terms of fairness against protected groups before and after implementation of mitigation methods"
   ]
  },
  {
   "cell_type": "code",
   "execution_count": null,
   "id": "3978efbc",
   "metadata": {},
   "outputs": [],
   "source": [
    "import matplotlib.pyplot as plt\n",
    "import numpy as np\n",
    "import pandas as pd\n",
    "import seaborn as sns\n",
    "sns.set(context='talk', style='whitegrid')\n",
    "\n",
    "from sklearn.metrics import RocCurveDisplay\n",
    "from sklearn.model_selection import train_test_split\n",
    "from sklearn.linear_model import LogisticRegression\n",
    "\n",
    "from aif360.sklearn.datasets import fetch_compas\n",
    "from aif360.sklearn.metrics import mdss_bias_scan, mdss_bias_score"
   ]
  },
  {
   "cell_type": "markdown",
   "id": "e9e168d3",
   "metadata": {},
   "source": [
    "### Preparation.\n",
    "\n",
    "Define privileged and unprivileged groups for each protected attribute"
   ]
  },
  {
   "cell_type": "markdown",
   "id": "d353b007",
   "metadata": {},
   "source": [
    "#### Sex. Privileged group: Males (1) Unprivileged group: Females (0)"
   ]
  },
  {
   "cell_type": "code",
   "execution_count": null,
   "id": "e3ce4094",
   "metadata": {},
   "outputs": [],
   "source": [
    "male_df = original_output[original_output['Sex']==1]\n",
    "num_privileged = male_df.shape[0]\n",
    "female_df = original_output[original_output['Sex']==0]\n",
    "num_unprivileged = female_df.shape[0]  "
   ]
  },
  {
   "cell_type": "markdown",
   "id": "bd76bc22",
   "metadata": {},
   "source": [
    "#### Gender. Privileged group: White (1) Unprivileged group: Non-white (0)"
   ]
  },
  {
   "cell_type": "code",
   "execution_count": null,
   "id": "ea9e2a03",
   "metadata": {},
   "outputs": [],
   "source": []
  },
  {
   "cell_type": "markdown",
   "id": "a4626dc8",
   "metadata": {},
   "source": [
    "#### Age"
   ]
  },
  {
   "cell_type": "code",
   "execution_count": null,
   "id": "01d51838",
   "metadata": {},
   "outputs": [],
   "source": []
  },
  {
   "cell_type": "markdown",
   "id": "0d1cc546",
   "metadata": {},
   "source": [
    "### Method 1. Disparate Impact Ratio\n",
    "\n",
    "The ***disparate impact ratio*** is defined as the ratio of the proportion of positive predictions (y'=1) for facet d over the proportion of positive predicitons (y'=1) for facet a.\n",
    "\n",
    "Industry generally considers the four-fifths rule: if the unprivileged group receives a positive outcome less than 80% of their proportion of the privileged group it is considered a disparate impact violation.\n"
   ]
  },
  {
   "cell_type": "code",
   "execution_count": null,
   "id": "e67dce44",
   "metadata": {},
   "outputs": [],
   "source": [
    "unprivileged_outcomes = female_df[female_df['prediction']==1].shape[0]\n",
    "unprivileged_ratio = unprivileged_outcomes/num_unprivileged"
   ]
  },
  {
   "cell_type": "code",
   "execution_count": null,
   "id": "aff081aa",
   "metadata": {},
   "outputs": [],
   "source": [
    "privileged_outcomes = male_df[male_df['prediction']==1].shape[0]\n",
    "privileged_ratio = privileged_outcomes/num_privileged"
   ]
  },
  {
   "cell_type": "code",
   "execution_count": null,
   "id": "c27f06b2",
   "metadata": {},
   "outputs": [],
   "source": [
    "disparate_impact = unprivileged_ratio / privileged_ratio"
   ]
  },
  {
   "cell_type": "markdown",
   "id": "92ca3fb4",
   "metadata": {},
   "source": [
    "### Method 2. Decile Score"
   ]
  },
  {
   "cell_type": "code",
   "execution_count": null,
   "id": "f4a6280e",
   "metadata": {},
   "outputs": [],
   "source": []
  }
 ],
 "metadata": {
  "kernelspec": {
   "display_name": "Python 3",
   "language": "python",
   "name": "python3"
  },
  "language_info": {
   "codemirror_mode": {
    "name": "ipython",
    "version": 3
   },
   "file_extension": ".py",
   "mimetype": "text/x-python",
   "name": "python",
   "nbconvert_exporter": "python",
   "pygments_lexer": "ipython3",
   "version": "3.8.3"
  }
 },
 "nbformat": 4,
 "nbformat_minor": 5
}
