{
 "cells": [
  {
   "cell_type": "markdown",
   "id": "a1cb935b",
   "metadata": {},
   "source": [
    "## In-processing Mitigation Methods: AIF360\n"
   ]
  },
  {
   "cell_type": "markdown",
   "id": "fe130ba0",
   "metadata": {},
   "source": [
    "### Method 1. Adversarial Debiasing\n",
    "\n",
    "Learns a classifier to maximize predictino accuracy and simultaneously reduce an adversary's ability to determine the protected attribute from the predictions"
   ]
  },
  {
   "cell_type": "markdown",
   "id": "d2fe207a",
   "metadata": {},
   "source": [
    "### Method 2. Prejudice Remover\n",
    "\n",
    "Adds a discrimination-aware regularization term to the learning objective"
   ]
  },
  {
   "cell_type": "code",
   "execution_count": null,
   "id": "964baf44",
   "metadata": {},
   "outputs": [],
   "source": [
    "# set to 50 iterations for fast running of notebook - set >= 1000 when running real experiments\n",
    "pareto_iters = 50\n",
    "def multiple_classifiers_pareto(dataset, gamma_list=[0.002, 0.005, 0.01, 0.02, 0.05, 0.1], save_results=False, iters=pareto_iters):\n",
    "\n",
    "    ln_predictor = linear_model.LinearRegression()\n",
    "    svm_predictor = svm.LinearSVR()\n",
    "    tree_predictor = tree.DecisionTreeRegressor(max_depth=3)\n",
    "    kernel_predictor = KernelRidge(alpha=1.0, gamma=1.0, kernel='rbf')\n",
    "    predictor_dict = {'Linear': {'predictor': ln_predictor, 'iters': iters},\n",
    "                      'SVR': {'predictor': svm_predictor, 'iters': iters},\n",
    "                      'Tree': {'predictor': tree_predictor, 'iters': iters},\n",
    "                      'Kernel': {'predictor': kernel_predictor, 'iters': iters}}\n",
    "\n",
    "    results_dict = {}\n",
    "\n",
    "    for pred in predictor_dict:\n",
    "        print('Curr Predictor: {}'.format(pred))\n",
    "        predictor = predictor_dict[pred]['predictor']\n",
    "        max_iters = predictor_dict[pred]['iters']\n",
    "        fair_clf = GerryFairClassifier(C=100, printflag=True, gamma=1, predictor=predictor, max_iters=max_iters)\n",
    "        fair_clf.printflag = False\n",
    "        fair_clf.max_iters=max_iters\n",
    "        errors, fp_violations, fn_violations = fair_clf.pareto(dataset, gamma_list)\n",
    "        results_dict[pred] = {'errors': errors, 'fp_violations': fp_violations, 'fn_violations': fn_violations}\n",
    "        plt.plot(errors, fp_violations, label=pred)\n",
    "\n",
    "    if save_results:\n",
    "        pickle.dump(results_dict, open('results_dict_' + str(gamma_list) + '_gammas' + str(gamma_list) + '.pkl', 'wb'))\n",
    "\n",
    "    plt.xlabel('Error')\n",
    "    plt.ylabel('Unfairness')\n",
    "    plt.legend()\n",
    "    plt.title('Error vs. Unfairness\\n(Adult Dataset)')\n",
    "    plt.savefig('gerryfair_pareto.png')\n",
    "    plt.close()\n",
    "multiple_classifiers_pareto(data_set)\n",
    "Image(filename='gerryfair_pareto.png') "
   ]
  },
  {
   "cell_type": "code",
   "execution_count": null,
   "id": "796fd3fb",
   "metadata": {},
   "outputs": [],
   "source": [
    "def fp_vs_fn(dataset, gamma_list, iters):\n",
    "    fp_auditor = Auditor(dataset, 'FP')\n",
    "    fn_auditor = Auditor(dataset, 'FN')\n",
    "    fp_violations = []\n",
    "    fn_violations = []\n",
    "    for g in gamma_list:\n",
    "        print('gamma: {} '.format(g), end =\" \")\n",
    "        fair_model = GerryFairClassifier(C=100, printflag=False, gamma=g, max_iters=iters)\n",
    "        fair_model.gamma=g\n",
    "        fair_model.fit(dataset)\n",
    "        predictions = array_to_tuple((fair_model.predict(dataset)).labels)\n",
    "        _, fp_diff = fp_auditor.audit(predictions)\n",
    "        _, fn_diff = fn_auditor.audit(predictions)\n",
    "        fp_violations.append(fp_diff)\n",
    "        fn_violations.append(fn_diff)\n",
    "\n",
    "    plt.plot(fp_violations, fn_violations, label='adult')\n",
    "    plt.xlabel('False Positive Disparity')\n",
    "    plt.ylabel('False Negative Disparity')\n",
    "    plt.legend()\n",
    "    plt.title('FP vs FN Unfairness')\n",
    "    plt.savefig('gerryfair_fp_fn.png')\n",
    "    plt.close()\n",
    "\n",
    "gamma_list = [0.001, 0.002, 0.003, 0.004, 0.005, 0.0075, 0.01, 0.02, 0.03, 0.05]\n",
    "fp_vs_fn(data_set, gamma_list, pareto_iters)\n",
    "Image(filename='gerryfair_fp_fn.png')"
   ]
  }
 ],
 "metadata": {
  "kernelspec": {
   "display_name": "Python 3",
   "language": "python",
   "name": "python3"
  },
  "language_info": {
   "codemirror_mode": {
    "name": "ipython",
    "version": 3
   },
   "file_extension": ".py",
   "mimetype": "text/x-python",
   "name": "python",
   "nbconvert_exporter": "python",
   "pygments_lexer": "ipython3",
   "version": "3.8.3"
  }
 },
 "nbformat": 4,
 "nbformat_minor": 5
}
