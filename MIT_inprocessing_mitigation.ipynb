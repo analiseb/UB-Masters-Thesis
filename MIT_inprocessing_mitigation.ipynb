{
 "cells": [
  {
   "cell_type": "markdown",
   "id": "a1cb935b",
   "metadata": {},
   "source": [
    "## In-processing Mitigation Methods: AIF360\n"
   ]
  },
  {
   "cell_type": "markdown",
   "id": "fe130ba0",
   "metadata": {},
   "source": [
    "### Method 1. Adversarial Debiasing\n",
    "\n",
    "Learns a classifier to maximize predictino accuracy and simultaneously reduce an adversary's ability to determine the protected attribute from the predictions"
   ]
  },
  {
   "cell_type": "markdown",
   "id": "d2fe207a",
   "metadata": {},
   "source": [
    "### Method 2. Prejudice Remover\n",
    "\n",
    "Adds a discrimination-aware regularization term to the learning objective"
   ]
  },
  {
   "cell_type": "code",
   "execution_count": null,
   "id": "964baf44",
   "metadata": {},
   "outputs": [],
   "source": []
  }
 ],
 "metadata": {
  "kernelspec": {
   "display_name": "Python 3",
   "language": "python",
   "name": "python3"
  },
  "language_info": {
   "codemirror_mode": {
    "name": "ipython",
    "version": 3
   },
   "file_extension": ".py",
   "mimetype": "text/x-python",
   "name": "python",
   "nbconvert_exporter": "python",
   "pygments_lexer": "ipython3",
   "version": "3.8.3"
  }
 },
 "nbformat": 4,
 "nbformat_minor": 5
}
