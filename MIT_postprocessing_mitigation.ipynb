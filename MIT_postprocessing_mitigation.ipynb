{
 "cells": [
  {
   "cell_type": "markdown",
   "id": "b62aa9f5",
   "metadata": {},
   "source": [
    "## Post-processing Mitigation Methods: AIF360\n"
   ]
  },
  {
   "cell_type": "markdown",
   "id": "6bdd6c33",
   "metadata": {},
   "source": [
    "### Method 1. Calibrated Equalized Odds Post-processing\n",
    "\n",
    "Optimizes over calibrated classifier score outputs to find probabilities with which to change output labels with an equalized odds objective"
   ]
  },
  {
   "cell_type": "code",
   "execution_count": null,
   "id": "cedf0320",
   "metadata": {},
   "outputs": [],
   "source": []
  },
  {
   "cell_type": "markdown",
   "id": "0df4fe3e",
   "metadata": {},
   "source": [
    "### Method 2.  Equalized Odds Post-Processing\n",
    "\n",
    "Solves a linear program to find probabilities with which to change output labels to optimize equalized odds"
   ]
  },
  {
   "cell_type": "code",
   "execution_count": null,
   "id": "609e0d90",
   "metadata": {},
   "outputs": [],
   "source": []
  },
  {
   "cell_type": "markdown",
   "id": "01b09ab1",
   "metadata": {},
   "source": [
    "### Method 3. Reject Option Classification\n",
    "\n",
    "Gives favorable outcomes ot unprivileged groups and unfavorable outcomes to priviliged groups in a confidence band around the decision boundary with the highest uncertainty"
   ]
  },
  {
   "cell_type": "code",
   "execution_count": null,
   "id": "df4ace2d",
   "metadata": {},
   "outputs": [],
   "source": []
  }
 ],
 "metadata": {
  "kernelspec": {
   "display_name": "Python 3",
   "language": "python",
   "name": "python3"
  },
  "language_info": {
   "codemirror_mode": {
    "name": "ipython",
    "version": 3
   },
   "file_extension": ".py",
   "mimetype": "text/x-python",
   "name": "python",
   "nbconvert_exporter": "python",
   "pygments_lexer": "ipython3",
   "version": "3.8.3"
  }
 },
 "nbformat": 4,
 "nbformat_minor": 5
}
