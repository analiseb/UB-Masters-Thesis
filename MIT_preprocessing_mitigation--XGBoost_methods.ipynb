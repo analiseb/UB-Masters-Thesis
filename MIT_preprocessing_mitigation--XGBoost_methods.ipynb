{
 "cells": [
  {
   "cell_type": "markdown",
   "id": "2ed73369",
   "metadata": {},
   "source": [
    "## Pre-processing Mitigation Methods: AIF360\n",
    "\n"
   ]
  },
  {
   "cell_type": "code",
   "execution_count": null,
   "id": "13cc2e2a",
   "metadata": {},
   "outputs": [],
   "source": [
    "import numpy as np\n",
    "from numpy.random import choice as np_choice\n",
    "import pandas as pd\n",
    "import matplotlib.pyplot as plt\n",
    "from tqdm import tqdm\n",
    "import seaborn as sns\n",
    "from IPython.display import Markdown, display\n",
    "# from sklearn.decomposition import PCA\n",
    "\n",
    "import fairness_helpers as fh\n",
    "import global_variables as gv\n",
    "import utilities\n",
    "\n",
    "from aif360.algorithms.preprocessing import DisparateImpactRemover\n",
    "from aif360.datasets import BinaryLabelDataset\n",
    "from aif360.metrics import BinaryLabelDatasetMetric"
   ]
  },
  {
   "cell_type": "markdown",
   "id": "3677f917",
   "metadata": {},
   "source": [
    "#### get data"
   ]
  },
  {
   "cell_type": "code",
   "execution_count": null,
   "id": "10b85e9d",
   "metadata": {},
   "outputs": [],
   "source": [
    "X, X1 = fh.get_aif360_data()"
   ]
  },
  {
   "cell_type": "markdown",
   "id": "7cb05a2d",
   "metadata": {},
   "source": [
    "#### get models"
   ]
  },
  {
   "cell_type": "code",
   "execution_count": null,
   "id": "96b656fb",
   "metadata": {},
   "outputs": [],
   "source": []
  },
  {
   "cell_type": "markdown",
   "id": "ccc5bbb4",
   "metadata": {},
   "source": [
    "#### Step 1. Convert Pandas DataFrame into [BinaryLabelDataset datatype](https://aif360.readthedocs.io/en/latest/modules/generated/aif360.datasets.BinaryLabelDataset.html#aif360.datasets.BinaryLabelDataset)"
   ]
  },
  {
   "cell_type": "code",
   "execution_count": null,
   "id": "5c3d808f",
   "metadata": {},
   "outputs": [],
   "source": [
    "dataset1b = BinaryLabelDataset(df=X1, \n",
    "                          label_names=['CVD'], \n",
    "                          protected_attribute_names=['sex-binary'])\n",
    "\n",
    "dataset2b = BinaryLabelDataset(df=X1, \n",
    "                          label_names=['CVD'], \n",
    "                          protected_attribute_names=['race-binary'])\n",
    "\n",
    "dataset3b = BinaryLabelDataset(df=X1, \n",
    "                          label_names=['CVD'], \n",
    "                          protected_attribute_names=['age-binary'])"
   ]
  },
  {
   "cell_type": "code",
   "execution_count": null,
   "id": "5009f033",
   "metadata": {},
   "outputs": [],
   "source": []
  },
  {
   "cell_type": "markdown",
   "id": "63709e04",
   "metadata": {},
   "source": [
    "### Baseline. Direct Removal of Protected Attributes"
   ]
  },
  {
   "cell_type": "code",
   "execution_count": null,
   "id": "fecb1c88",
   "metadata": {},
   "outputs": [],
   "source": []
  },
  {
   "cell_type": "markdown",
   "id": "1608fd2b",
   "metadata": {},
   "source": [
    "### Method 1. Disparate Impact Remover\n",
    "\n",
    "Edits feature values to increase group fairness while preserving rank-ordering. Must specify the <font color='blue'>repair_level</font> variable to indicate how much group distributions should overlap.\n",
    "\n",
    "We want the individual rankings within their group to be preserved after repair ie if an individual has the highest ranking in group Q, it will still have the highest ranking in group Q after repair"
   ]
  },
  {
   "cell_type": "code",
   "execution_count": null,
   "id": "06b15fba",
   "metadata": {},
   "outputs": [],
   "source": [
    "# build DisparateRemoverObject\n",
    "\n",
    "binaryLabelDataset = aif360.datasets.BinaryLabelDataset(\n",
    "    favorable_label=1,\n",
    "    unfavorable_label=0,\n",
    "    df=encoded_df,\n",
    "    label_names=['Loan_Status'],\n",
    "    protected_attribute_names=['Gender'])"
   ]
  },
  {
   "cell_type": "code",
   "execution_count": null,
   "id": "5362a0d8",
   "metadata": {},
   "outputs": [],
   "source": [
    "# transform original dataset\n",
    "\n",
    "di = DisparateImpactRemover(repair_level = 1.0)\n",
    "dataset_transf_train = di.fit_transform(binaryLabelDataset)\n",
    "transformed = dataset_transf_train.convert_to_dataframe()[0]"
   ]
  },
  {
   "cell_type": "code",
   "execution_count": null,
   "id": "c88ab715",
   "metadata": {},
   "outputs": [],
   "source": [
    "# retrain model after processing\n",
    "\n",
    "DIs = []\n",
    "for level in tqdm(np.linspace(0., 1., 11)):\n",
    "    di = DisparateImpactRemover(repair_level=level)\n",
    "    train_repd = di.fit_transform(train)\n",
    "    test_repd = di.fit_transform(test)\n",
    "    \n",
    "    X_tr = np.delete(train_repd.features, index, axis=1)\n",
    "    X_te = np.delete(test_repd.features, index, axis=1)\n",
    "    y_tr = train_repd.labels.ravel()\n",
    "    \n",
    "    lmod = LogisticRegression(class_weight='balanced', solver='liblinear')\n",
    "    lmod.fit(X_tr, y_tr)\n",
    "    \n",
    "    test_repd_pred = test_repd.copy()\n",
    "    test_repd_pred.labels = lmod.predict(X_te)\n",
    "\n",
    "    p = [{protected: 1}]\n",
    "    u = [{protected: 0}]\n",
    "    cm = BinaryLabelDatasetMetric(test_repd_pred, privileged_groups=p, unprivileged_groups=u)\n",
    "    DIs.append(cm.disparate_impact())"
   ]
  },
  {
   "cell_type": "code",
   "execution_count": null,
   "id": "30fd2952",
   "metadata": {},
   "outputs": [],
   "source": [
    "# bias evaluation\n",
    "%matplotlib notebook\n",
    "\n",
    "plt.plot(np.linspace(0, 1, 11), DIs, marker='o')\n",
    "plt.plot([0, 1], [1, 1], 'g')\n",
    "plt.plot([0, 1], [0.8, 0.8], 'r')\n",
    "plt.ylim([0.4, 1.2])\n",
    "plt.ylabel('Disparate Impact (DI)')\n",
    "plt.xlabel('repair level')\n",
    "plt.show()"
   ]
  },
  {
   "cell_type": "markdown",
   "id": "5a40108c",
   "metadata": {},
   "source": [
    "### Method 2. Learning Fair Representations\n",
    "\n",
    "Finds the latent representation which encodes the data well but obfuscated information about protected attributes"
   ]
  },
  {
   "cell_type": "markdown",
   "id": "232a244b",
   "metadata": {},
   "source": [
    "### Method 3. Optimized Preprocessing\n",
    "\n",
    "Learns a probabilistic transformation that edits the features and labels in the data with group fairness, individual distortion, and dad fidelity constraints and objectives"
   ]
  },
  {
   "cell_type": "markdown",
   "id": "c8dcc51f",
   "metadata": {},
   "source": [
    "### Method 4. Reweighing \n",
    "\n",
    "Weights the examples in each (group, label) combination differently to ensure fairness before classification"
   ]
  },
  {
   "cell_type": "markdown",
   "id": "cd8834f3",
   "metadata": {},
   "source": []
  },
  {
   "cell_type": "markdown",
   "id": "6c9e6594",
   "metadata": {},
   "source": []
  }
 ],
 "metadata": {
  "kernelspec": {
   "display_name": "Python 3",
   "language": "python",
   "name": "python3"
  },
  "language_info": {
   "codemirror_mode": {
    "name": "ipython",
    "version": 3
   },
   "file_extension": ".py",
   "mimetype": "text/x-python",
   "name": "python",
   "nbconvert_exporter": "python",
   "pygments_lexer": "ipython3",
   "version": "3.8.3"
  }
 },
 "nbformat": 4,
 "nbformat_minor": 5
}
