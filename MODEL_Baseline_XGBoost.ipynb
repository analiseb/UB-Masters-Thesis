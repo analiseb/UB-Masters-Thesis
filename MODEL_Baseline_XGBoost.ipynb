{
 "cells": [
  {
   "cell_type": "markdown",
   "id": "b9f09618",
   "metadata": {},
   "source": [
    "## Baseline XGBoost Model\n",
    "\n",
    "Tree-based models, specifically gradient boosted decision trees, are generally considered the gold-standard for working with tabular data. While the primary aim of the project is bias mitigation applied to deep-learning it would be dissmisive to not consider model performance against such models for a baseline comparison.\n",
    "\n",
    "Gradient boosting methods inherit values of input features and then execute countless tree models to halt the loss function. It does this by assimilating weak models, then incrementally and iteratively models weighing data, diligently accompanied by an election of a weak model with the best performance."
   ]
  },
  {
   "cell_type": "code",
   "execution_count": 1,
   "id": "ba6c9dc6",
   "metadata": {},
   "outputs": [],
   "source": [
    "import numpy as np\n",
    "import pandas as pd \n",
    "import matplotlib.pyplot as plt\n",
    "import seaborn as sns\n",
    "import xgboost as xgb\n",
    "import shap\n",
    "from sklearn.model_selection import train_test_split\n",
    "from sklearn.preprocessing import StandardScaler\n",
    "import utilities\n",
    "import global_variables as gv\n",
    "\n",
    "from sklearn import metrics\n",
    "from sklearn.preprocessing import QuantileTransformer, RobustScaler, StandardScaler,MinMaxScaler"
   ]
  },
  {
   "cell_type": "markdown",
   "id": "442695bf",
   "metadata": {},
   "source": [
    "### load in data and save DMatrix into a XGBoost binary file"
   ]
  },
  {
   "cell_type": "code",
   "execution_count": 2,
   "id": "f9b98dad",
   "metadata": {},
   "outputs": [],
   "source": [
    "# first retrieve into pandas dataframe\n",
    "# alternatively:\n",
    "# df = pd.read_csv('CVD_data.csv')\n",
    "df = pd.read_csv(gv.data_link)\n",
    "pd.set_option('display.max_columns', None)\n",
    "df.drop('Unnamed: 0', axis=1, inplace=True)"
   ]
  },
  {
   "cell_type": "markdown",
   "id": "a88cc4f8",
   "metadata": {},
   "source": [
    "### preprocess input features"
   ]
  },
  {
   "cell_type": "code",
   "execution_count": 3,
   "id": "e707fb85",
   "metadata": {},
   "outputs": [],
   "source": [
    "X_train, X_test, y_train, y_test = utilities.process_features(df, gv.outcomes[-1], StandardScaler(), one_hot=True, val=False)\n",
    "X_train, y_train= utilities.resample_data(X_train, y_train, 'under')"
   ]
  },
  {
   "cell_type": "markdown",
   "id": "3dfa9221",
   "metadata": {},
   "source": [
    "### build & save model"
   ]
  },
  {
   "cell_type": "code",
   "execution_count": 7,
   "id": "c500e24c",
   "metadata": {
    "scrolled": false
   },
   "outputs": [
    {
     "name": "stdout",
     "output_type": "stream",
     "text": [
      "XGBClassifier(base_score=None, booster='gbtree', callbacks=None,\n",
      "              colsample_bylevel=None, colsample_bynode=None,\n",
      "              colsample_bytree=None, early_stopping_rounds=None,\n",
      "              enable_categorical=False, eval_metric=None, gamma=None,\n",
      "              gpu_id=None, grow_policy=None, importance_type=None,\n",
      "              interaction_constraints=None, learning_rate=0.1, max_bin=None,\n",
      "              max_cat_to_onehot=None, max_delta_step=None, max_depth=10,\n",
      "              max_leaves=None, min_child_weight=None, missing=nan,\n",
      "              monotone_constraints=None, n_estimators=800, n_jobs=None,\n",
      "              num_parallel_tree=None, predictor=None, random_state=None,\n",
      "              reg_alpha=None, reg_lambda=None, ...)\n",
      "              precision    recall  f1-score   support\n",
      "\n",
      "           0       0.83      0.62      0.71     12898\n",
      "           1       0.37      0.62      0.46      4493\n",
      "\n",
      "    accuracy                           0.62     17391\n",
      "   macro avg       0.60      0.62      0.59     17391\n",
      "weighted avg       0.71      0.62      0.65     17391\n",
      "\n",
      "[[8059 4839]\n",
      " [1690 2803]]\n",
      "XGBClassifier(base_score=None, booster='gbtree', callbacks=None,\n",
      "              colsample_bylevel=None, colsample_bynode=None,\n",
      "              colsample_bytree=None, early_stopping_rounds=None,\n",
      "              enable_categorical=False, eval_metric=None, gamma=None,\n",
      "              gpu_id=None, grow_policy=None, importance_type=None,\n",
      "              interaction_constraints=None, learning_rate=0.1, max_bin=None,\n",
      "              max_cat_to_onehot=None, max_delta_step=None, max_depth=10,\n",
      "              max_leaves=None, min_child_weight=None, missing=nan,\n",
      "              monotone_constraints=None, n_estimators=800, n_jobs=None,\n",
      "              num_parallel_tree=None, predictor=None, random_state=None,\n",
      "              reg_alpha=None, reg_lambda=None, ...)\n",
      "              precision    recall  f1-score   support\n",
      "\n",
      "           0       0.97      0.56      0.71     16745\n",
      "           1       0.05      0.55      0.08       646\n",
      "\n",
      "    accuracy                           0.56     17391\n",
      "   macro avg       0.51      0.55      0.40     17391\n",
      "weighted avg       0.94      0.56      0.69     17391\n",
      "\n",
      "[[9374 7371]\n",
      " [ 292  354]]\n",
      "XGBClassifier(base_score=None, booster='gbtree', callbacks=None,\n",
      "              colsample_bylevel=None, colsample_bynode=None,\n",
      "              colsample_bytree=None, early_stopping_rounds=None,\n",
      "              enable_categorical=False, eval_metric=None, gamma=None,\n",
      "              gpu_id=None, grow_policy=None, importance_type=None,\n",
      "              interaction_constraints=None, learning_rate=0.1, max_bin=None,\n",
      "              max_cat_to_onehot=None, max_delta_step=None, max_depth=10,\n",
      "              max_leaves=None, min_child_weight=None, missing=nan,\n",
      "              monotone_constraints=None, n_estimators=800, n_jobs=None,\n",
      "              num_parallel_tree=None, predictor=None, random_state=None,\n",
      "              reg_alpha=None, reg_lambda=None, ...)\n",
      "              precision    recall  f1-score   support\n",
      "\n",
      "           0       0.55      0.65      0.60      6940\n",
      "           1       0.74      0.65      0.69     10451\n",
      "\n",
      "    accuracy                           0.65     17391\n",
      "   macro avg       0.64      0.65      0.64     17391\n",
      "weighted avg       0.66      0.65      0.65     17391\n",
      "\n",
      "[[4515 2425]\n",
      " [3664 6787]]\n",
      "XGBClassifier(base_score=None, booster='gbtree', callbacks=None,\n",
      "              colsample_bylevel=None, colsample_bynode=None,\n",
      "              colsample_bytree=None, early_stopping_rounds=None,\n",
      "              enable_categorical=False, eval_metric=None, gamma=None,\n",
      "              gpu_id=None, grow_policy=None, importance_type=None,\n",
      "              interaction_constraints=None, learning_rate=0.1, max_bin=None,\n",
      "              max_cat_to_onehot=None, max_delta_step=None, max_depth=10,\n",
      "              max_leaves=None, min_child_weight=None, missing=nan,\n",
      "              monotone_constraints=None, n_estimators=800, n_jobs=None,\n",
      "              num_parallel_tree=None, predictor=None, random_state=None,\n",
      "              reg_alpha=None, reg_lambda=None, ...)\n",
      "              precision    recall  f1-score   support\n",
      "\n",
      "           0       0.88      0.62      0.73     14369\n",
      "           1       0.25      0.59      0.35      3022\n",
      "\n",
      "    accuracy                           0.61     17391\n",
      "   macro avg       0.56      0.61      0.54     17391\n",
      "weighted avg       0.77      0.61      0.66     17391\n",
      "\n",
      "[[8879 5490]\n",
      " [1230 1792]]\n",
      "XGBClassifier(base_score=None, booster='gbtree', callbacks=None,\n",
      "              colsample_bylevel=None, colsample_bynode=None,\n",
      "              colsample_bytree=None, early_stopping_rounds=None,\n",
      "              enable_categorical=False, eval_metric=None, gamma=None,\n",
      "              gpu_id=None, grow_policy=None, importance_type=None,\n",
      "              interaction_constraints=None, learning_rate=0.1, max_bin=None,\n",
      "              max_cat_to_onehot=None, max_delta_step=None, max_depth=10,\n",
      "              max_leaves=None, min_child_weight=None, missing=nan,\n",
      "              monotone_constraints=None, n_estimators=800, n_jobs=None,\n",
      "              num_parallel_tree=None, predictor=None, random_state=None,\n",
      "              reg_alpha=None, reg_lambda=None, ...)\n",
      "              precision    recall  f1-score   support\n",
      "\n",
      "           0       0.94      0.64      0.76     15833\n",
      "           1       0.14      0.61      0.23      1558\n",
      "\n",
      "    accuracy                           0.64     17391\n",
      "   macro avg       0.54      0.63      0.50     17391\n",
      "weighted avg       0.87      0.64      0.71     17391\n",
      "\n",
      "[[10108  5725]\n",
      " [  600   958]]\n",
      "XGBClassifier(base_score=None, booster='gbtree', callbacks=None,\n",
      "              colsample_bylevel=None, colsample_bynode=None,\n",
      "              colsample_bytree=None, early_stopping_rounds=None,\n",
      "              enable_categorical=False, eval_metric=None, gamma=None,\n",
      "              gpu_id=None, grow_policy=None, importance_type=None,\n",
      "              interaction_constraints=None, learning_rate=0.1, max_bin=None,\n",
      "              max_cat_to_onehot=None, max_delta_step=None, max_depth=10,\n",
      "              max_leaves=None, min_child_weight=None, missing=nan,\n",
      "              monotone_constraints=None, n_estimators=800, n_jobs=None,\n",
      "              num_parallel_tree=None, predictor=None, random_state=None,\n",
      "              reg_alpha=None, reg_lambda=None, ...)\n",
      "              precision    recall  f1-score   support\n",
      "\n",
      "           0       0.97      0.56      0.71     16791\n",
      "           1       0.04      0.55      0.08       600\n",
      "\n",
      "    accuracy                           0.56     17391\n",
      "   macro avg       0.51      0.56      0.40     17391\n",
      "weighted avg       0.94      0.56      0.69     17391\n",
      "\n",
      "[[9471 7320]\n",
      " [ 271  329]]\n",
      "XGBClassifier(base_score=None, booster='gbtree', callbacks=None,\n",
      "              colsample_bylevel=None, colsample_bynode=None,\n",
      "              colsample_bytree=None, early_stopping_rounds=None,\n",
      "              enable_categorical=False, eval_metric=None, gamma=None,\n",
      "              gpu_id=None, grow_policy=None, importance_type=None,\n",
      "              interaction_constraints=None, learning_rate=0.1, max_bin=None,\n",
      "              max_cat_to_onehot=None, max_delta_step=None, max_depth=10,\n",
      "              max_leaves=None, min_child_weight=None, missing=nan,\n",
      "              monotone_constraints=None, n_estimators=800, n_jobs=None,\n",
      "              num_parallel_tree=None, predictor=None, random_state=None,\n",
      "              reg_alpha=None, reg_lambda=None, ...)\n",
      "              precision    recall  f1-score   support\n",
      "\n",
      "           0       0.93      0.59      0.72     15748\n",
      "           1       0.13      0.58      0.21      1643\n",
      "\n",
      "    accuracy                           0.59     17391\n",
      "   macro avg       0.53      0.59      0.47     17391\n",
      "weighted avg       0.86      0.59      0.67     17391\n",
      "\n",
      "[[9303 6445]\n",
      " [ 682  961]]\n",
      "XGBClassifier(base_score=None, booster='gbtree', callbacks=None,\n",
      "              colsample_bylevel=None, colsample_bynode=None,\n",
      "              colsample_bytree=None, early_stopping_rounds=None,\n",
      "              enable_categorical=False, eval_metric=None, gamma=None,\n",
      "              gpu_id=None, grow_policy=None, importance_type=None,\n",
      "              interaction_constraints=None, learning_rate=0.1, max_bin=None,\n",
      "              max_cat_to_onehot=None, max_delta_step=None, max_depth=10,\n",
      "              max_leaves=None, min_child_weight=None, missing=nan,\n",
      "              monotone_constraints=None, n_estimators=800, n_jobs=None,\n",
      "              num_parallel_tree=None, predictor=None, random_state=None,\n",
      "              reg_alpha=None, reg_lambda=None, ...)\n"
     ]
    },
    {
     "name": "stdout",
     "output_type": "stream",
     "text": [
      "              precision    recall  f1-score   support\n",
      "\n",
      "           0       0.56      0.60      0.58      8094\n",
      "           1       0.63      0.59      0.61      9297\n",
      "\n",
      "    accuracy                           0.59     17391\n",
      "   macro avg       0.59      0.59      0.59     17391\n",
      "weighted avg       0.60      0.59      0.60     17391\n",
      "\n",
      "[[4819 3275]\n",
      " [3773 5524]]\n"
     ]
    },
    {
     "data": {
      "image/png": "[encoded data removed]",
      "text/plain": [
       "<Figure size 432x288 with 1 Axes>"
      ]
     },
     "metadata": {
      "needs_background": "light"
     },
     "output_type": "display_data"
    }
   ],
   "source": [
    "feature_importance\n",
    "\n",
    "for outcome in gv.outcomes:\n",
    "\n",
    "    X_train, X_test, y_train, y_test = utilities.process_features(df, outcome, StandardScaler(), one_hot=True, val=False)\n",
    "    X_train, y_train= utilities.resample_data(X_train, y_train, 'under')\n",
    "\n",
    "    clf=xgb.XGBClassifier(max_depth=10, \n",
    "                          learning_rate=0.1, \n",
    "                          n_estimators=800,\n",
    "                          objective='binary:logistic', \n",
    "                          booster='gbtree')\n",
    "\n",
    "    #Printing all the parameters of XGBoost\n",
    "    print(clf)\n",
    "\n",
    "    #Creating the model on Training Data\n",
    "    XGB=clf.fit(X_train,y_train)\n",
    "    prediction=XGB.predict(X_test)\n",
    "\n",
    "    #Measuring accuracy on Testing Data\n",
    "    print(metrics.classification_report(y_test, prediction))\n",
    "    print(metrics.confusion_matrix(y_test, prediction))\n",
    "\n",
    "    #Plotting the feature importance for Top 10 most important columns\n",
    "    %matplotlib inline\n",
    "    feature_importances = pd.Series(XGB.feature_importances_, index=X_train.columns.to_list())\n",
    "    feature_importances.nlargest(10).plot(kind='barh')\n",
    "    plt.title(outcome)"
   ]
  },
  {
   "cell_type": "markdown",
   "id": "ec3def5c",
   "metadata": {},
   "source": [
    "## Results from basic XGBoost\n",
    "***\n",
    "\n",
    "Initial results from the XGBoost Model indicate the most promising results for the following subset of outcomes: \n",
    "\n",
    "<ol>\n",
    "    <li>Ischemic Heart Disease</li>\n",
    "    <li>Peripheral Vascular Disease</li>\n",
    "    <li>Myocardial Infarction</li>\n",
    "    <li>Heart Failure</li>\n",
    "</ol>\n",
    "\n",
    "Overall performance was determined by the prioritization of Recall for the prioritization of false negative reduction. Because we are working in a medical domain space, the critical circumstance is to identify positive individuals. Recall as the primary metric is secondarily priortized because of the large skew toward negative cases in the dataset regarding each outcome\n",
    "\n",
    "\n",
    "#### full outcome set:\n",
    "\n",
    "<ul>\n",
    "    <li>Myocardial Infarction</li>\n",
    "    <li>Cardiomyopathies</li>\n",
    "    <li>Ischemic Heart Disease</li>\n",
    "    <li> Heart Failure</li>\n",
    "    <li>Peripheral Vascular Disease</li>\n",
    "    <li>Cardiac Arrest</li>\n",
    "    <li>Cerebral Infarction</li>\n",
    "    <li>Arrhythmia</li>\n",
    "</ul>\n",
    "\n",
    "['outcome_myocardial_infarction','outcome_cardiomyopathies','outcome_ischemic_heart_disease','outcome_heart_failure','outcome_peripheral_vascular_disease','outcome_cardiac_arrest','outcome_cerebral_infarction','outcome_arrhythmia']\n"
   ]
  },
  {
   "cell_type": "code",
   "execution_count": 12,
   "id": "8b28453e",
   "metadata": {},
   "outputs": [],
   "source": [
    "X_train, X_val, X_test, y_train, y_val, y_test = utilities.process_features(df, gv.outcomes[-1], StandardScaler(), one_hot=False, val=True)\n",
    "X_train, y_train= utilities.resample_data(X_train, y_train, 'under')"
   ]
  },
  {
   "cell_type": "code",
   "execution_count": 14,
   "id": "92aba1bb",
   "metadata": {},
   "outputs": [
    {
     "name": "stdout",
     "output_type": "stream",
     "text": [
      "[0]\tvalidation_0-logloss:0.69266\n",
      "[20]\tvalidation_0-logloss:0.68448\n",
      "[40]\tvalidation_0-logloss:0.67848\n",
      "[60]\tvalidation_0-logloss:0.67394\n",
      "[80]\tvalidation_0-logloss:0.67017\n",
      "[100]\tvalidation_0-logloss:0.66746\n",
      "[120]\tvalidation_0-logloss:0.66515\n",
      "[140]\tvalidation_0-logloss:0.66323\n",
      "[160]\tvalidation_0-logloss:0.66163\n",
      "[180]\tvalidation_0-logloss:0.66035\n",
      "[200]\tvalidation_0-logloss:0.65929\n",
      "[220]\tvalidation_0-logloss:0.65820\n",
      "[240]\tvalidation_0-logloss:0.65736\n",
      "[260]\tvalidation_0-logloss:0.65663\n",
      "[280]\tvalidation_0-logloss:0.65608\n",
      "[300]\tvalidation_0-logloss:0.65565\n",
      "[320]\tvalidation_0-logloss:0.65533\n",
      "[340]\tvalidation_0-logloss:0.65503\n",
      "[360]\tvalidation_0-logloss:0.65471\n",
      "[380]\tvalidation_0-logloss:0.65446\n",
      "[400]\tvalidation_0-logloss:0.65417\n",
      "[420]\tvalidation_0-logloss:0.65402\n",
      "[440]\tvalidation_0-logloss:0.65394\n",
      "[460]\tvalidation_0-logloss:0.65382\n",
      "[480]\tvalidation_0-logloss:0.65380\n",
      "[500]\tvalidation_0-logloss:0.65368\n",
      "[520]\tvalidation_0-logloss:0.65362\n",
      "[540]\tvalidation_0-logloss:0.65361\n",
      "[560]\tvalidation_0-logloss:0.65350\n",
      "[580]\tvalidation_0-logloss:0.65337\n",
      "[600]\tvalidation_0-logloss:0.65325\n",
      "[620]\tvalidation_0-logloss:0.65310\n",
      "[640]\tvalidation_0-logloss:0.65306\n",
      "[660]\tvalidation_0-logloss:0.65296\n",
      "[680]\tvalidation_0-logloss:0.65290\n",
      "[700]\tvalidation_0-logloss:0.65294\n",
      "[720]\tvalidation_0-logloss:0.65286\n",
      "[740]\tvalidation_0-logloss:0.65288\n",
      "[760]\tvalidation_0-logloss:0.65290\n",
      "[771]\tvalidation_0-logloss:0.65288\n"
     ]
    },
    {
     "data": {
      "text/plain": [
       "XGBClassifier(base_score=0.5, booster='gbtree', callbacks=None,\n",
       "              colsample_bylevel=1, colsample_bynode=1, colsample_bytree=1,\n",
       "              early_stopping_rounds=None, enable_categorical=False,\n",
       "              eval_metric=None, gamma=0, gpu_id=-1, grow_policy='depthwise',\n",
       "              importance_type=None, interaction_constraints='',\n",
       "              learning_rate=0.01, max_bin=256, max_cat_to_onehot=4,\n",
       "              max_delta_step=0, max_depth=8, max_leaves=0, min_child_weight=1,\n",
       "              missing=nan, monotone_constraints='()', n_estimators=1000,\n",
       "              n_jobs=-1, nthread=-1, num_parallel_tree=1, predictor='auto',\n",
       "              random_state=0, reg_alpha=0, ...)"
      ]
     },
     "execution_count": 14,
     "metadata": {},
     "output_type": "execute_result"
    }
   ],
   "source": [
    "from xgboost import XGBClassifier\n",
    "\n",
    "n_estimators = 1000\n",
    "\n",
    "clf_xgb = XGBClassifier(max_depth=8,\n",
    "    learning_rate=0.01,\n",
    "    n_estimators=n_estimators,\n",
    "    verbosity=0,\n",
    "    silent=None,\n",
    "    objective=\"binary:logistic\",\n",
    "    booster='gbtree',\n",
    "    n_jobs=-1,\n",
    "    nthread=None,\n",
    "    gamma=0,\n",
    "    min_child_weight=1,\n",
    "    max_delta_step=0,\n",
    "    subsample=0.7,\n",
    "    colsample_bytree=1,\n",
    "    colsample_bylevel=1,\n",
    "    colsample_bynode=1,\n",
    "    reg_alpha=0,\n",
    "    reg_lambda=1,\n",
    "    scale_pos_weight=1,\n",
    "    base_score=0.5,\n",
    "    random_state=0,\n",
    "    seed=None,)\n",
    "\n",
    "clf_xgb.fit(X_train, y_train,\n",
    "            eval_set=[(X_val, y_val)],\n",
    "            early_stopping_rounds=40,\n",
    "            verbose=20)"
   ]
  },
  {
   "cell_type": "code",
   "execution_count": 15,
   "id": "13b66abf",
   "metadata": {},
   "outputs": [
    {
     "name": "stdout",
     "output_type": "stream",
     "text": [
      "              precision    recall  f1-score   support\n",
      "\n",
      "           0       0.58      0.61      0.59      8094\n",
      "           1       0.64      0.61      0.63      9297\n",
      "\n",
      "    accuracy                           0.61     17391\n",
      "   macro avg       0.61      0.61      0.61     17391\n",
      "weighted avg       0.61      0.61      0.61     17391\n",
      "\n",
      "[[4958 3136]\n",
      " [3637 5660]]\n"
     ]
    },
    {
     "data": {
      "text/plain": [
       "Text(0.5, 1.0, 'Arrhythmia')"
      ]
     },
     "execution_count": 15,
     "metadata": {},
     "output_type": "execute_result"
    },
    {
     "data": {
      "image/png": "[encoded data removed]",
      "text/plain": [
       "<Figure size 432x288 with 1 Axes>"
      ]
     },
     "metadata": {
      "needs_background": "light"
     },
     "output_type": "display_data"
    }
   ],
   "source": [
    "prediction=clf_xgb.predict(X_test)\n",
    "\n",
    "#Measuring accuracy on Testing Data\n",
    "print(metrics.classification_report(y_test, prediction))\n",
    "print(metrics.confusion_matrix(y_test, prediction))\n",
    "\n",
    "#Plotting the feature importance for Top 10 most important columns\n",
    "%matplotlib inline\n",
    "feature_importances = pd.Series(clf_xgb.feature_importances_, index=X_train.columns.to_list())\n",
    "feature_importances.nlargest(15).plot(kind='barh')\n",
    "plt.title('Arrhythmia')"
   ]
  },
  {
   "cell_type": "code",
   "execution_count": null,
   "id": "d5d190aa",
   "metadata": {},
   "outputs": [],
   "source": []
  }
 ],
 "metadata": {
  "kernelspec": {
   "display_name": "Python 3",
   "language": "python",
   "name": "python3"
  },
  "language_info": {
   "codemirror_mode": {
    "name": "ipython",
    "version": 3
   },
   "file_extension": ".py",
   "mimetype": "text/x-python",
   "name": "python",
   "nbconvert_exporter": "python",
   "pygments_lexer": "ipython3",
   "version": "3.8.3"
  }
 },
 "nbformat": 4,
 "nbformat_minor": 5
}
