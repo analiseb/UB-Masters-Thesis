{
 "cells": [
  {
   "cell_type": "markdown",
   "id": "b91ff2d1",
   "metadata": {},
   "source": [
    "## Baseline XGBoost Model\n",
    "\n",
    "Tree-based models, specifically gradient boosted decision trees, are generally considered the gold-standard for working with tabular data. While the primary aim of the project is bias mitigation applied to deep-learning it would be dissmisive to not consider model performance against such models for a baseline comparison."
   ]
  },
  {
   "cell_type": "code",
   "execution_count": 2,
   "id": "7d53d2e6",
   "metadata": {},
   "outputs": [],
   "source": [
    "import numpy as np\n",
    "import pandas as pd \n",
    "import matplotlib.pyplot as plt\n",
    "import seaborn as sns\n",
    "import xgboost as xgb\n",
    "import shap"
   ]
  },
  {
   "cell_type": "markdown",
   "id": "2ec25fee",
   "metadata": {},
   "source": [
    "### load in data and save DMatrix into a XGBoost binary file"
   ]
  },
  {
   "cell_type": "code",
   "execution_count": 3,
   "id": "9c10a1d2",
   "metadata": {},
   "outputs": [],
   "source": [
    "# first retrieve into pandas dataframe\n",
    "link ='https://github.com/analiseb/UB-Masters-Thesis/blob/main/data/CVD_data.csv?raw=true'\n",
    "df = pd.read_csv(link)\n",
    "pd.set_option('display.max_columns', None)\n",
    "df.drop('Unnamed: 0', axis=1, inplace=True)\n",
    "\n",
    "# convert to DMatrix\n",
    "\n",
    "\n",
    "# save as XGBoost binary file to make loading faster"
   ]
  },
  {
   "cell_type": "markdown",
   "id": "23b457cc",
   "metadata": {},
   "source": [
    "### initialize variables and model parameters"
   ]
  },
  {
   "cell_type": "code",
   "execution_count": null,
   "id": "1b9f886e",
   "metadata": {},
   "outputs": [],
   "source": []
  },
  {
   "cell_type": "markdown",
   "id": "20957cb8",
   "metadata": {},
   "source": [
    "### preprocess input features"
   ]
  },
  {
   "cell_type": "code",
   "execution_count": null,
   "id": "37593d97",
   "metadata": {},
   "outputs": [],
   "source": []
  },
  {
   "cell_type": "markdown",
   "id": "ef089f75",
   "metadata": {},
   "source": [
    "### build & save model"
   ]
  },
  {
   "cell_type": "code",
   "execution_count": null,
   "id": "b7bc330a",
   "metadata": {},
   "outputs": [],
   "source": []
  }
 ],
 "metadata": {
  "kernelspec": {
   "display_name": "Python 3",
   "language": "python",
   "name": "python3"
  },
  "language_info": {
   "codemirror_mode": {
    "name": "ipython",
    "version": 3
   },
   "file_extension": ".py",
   "mimetype": "text/x-python",
   "name": "python",
   "nbconvert_exporter": "python",
   "pygments_lexer": "ipython3",
   "version": "3.8.3"
  }
 },
 "nbformat": 4,
 "nbformat_minor": 5
}
