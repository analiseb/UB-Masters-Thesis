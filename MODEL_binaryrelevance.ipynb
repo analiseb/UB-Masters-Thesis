{
 "cells": [
  {
   "cell_type": "code",
   "execution_count": 1,
   "id": "5b76a85e",
   "metadata": {},
   "outputs": [],
   "source": [
    "import numpy as np \n",
    "import pandas as pd\n",
    "import tensorflow as tf\n",
    "import time\n",
    "import math"
   ]
  },
  {
   "cell_type": "markdown",
   "id": "dea3db51",
   "metadata": {},
   "source": [
    "## Load & Process Data"
   ]
  },
  {
   "cell_type": "markdown",
   "id": "d000a487",
   "metadata": {},
   "source": []
  },
  {
   "cell_type": "markdown",
   "id": "4b5caef6",
   "metadata": {},
   "source": [
    "## Initialize Data Dimensions + Placeholder Variables"
   ]
  },
  {
   "cell_type": "markdown",
   "id": "b3c6a006",
   "metadata": {},
   "source": []
  },
  {
   "cell_type": "markdown",
   "id": "8db71dbb",
   "metadata": {},
   "source": [
    "## Helper Functions for plotting"
   ]
  },
  {
   "cell_type": "code",
   "execution_count": null,
   "id": "21f45cf1",
   "metadata": {},
   "outputs": [],
   "source": []
  },
  {
   "cell_type": "markdown",
   "id": "7e604350",
   "metadata": {},
   "source": [
    "## TensorFlow Graph\n",
    "\n",
    "Build a tensorflow computational graph to automatically calculate gradients "
   ]
  },
  {
   "cell_type": "markdown",
   "id": "4ac85f4b",
   "metadata": {},
   "source": [
    "## Create Ensemble of Neural Networks\n",
    "\n",
    "all networks use the same tensorflow graph, for each neural network the Tensorflow weights and varaibels are intitialized to random values then optimized. The variables are the saved to disk so they can be reloaded later."
   ]
  },
  {
   "cell_type": "code",
   "execution_count": null,
   "id": "6cd49b99",
   "metadata": {},
   "outputs": [],
   "source": [
    "num_networks = len(outcomes)\n",
    "num_iterations = 1000\n",
    "\n",
    "if True:\n",
    "    # For each of the neural networks.\n",
    "    for i in range(num_networks):\n",
    "        print(\"Neural network: {0}\".format(i))\n",
    "\n",
    "        # Create a random training-set. Ignore the validation-set.\n",
    "        x_train, y_train, _, _ = random_training_set()\n",
    "\n",
    "        # Initialize the variables of the TensorFlow graph.\n",
    "        session.run(tf.global_variables_initializer())\n",
    "\n",
    "        # Optimize the variables using this training-set.\n",
    "        optimize(num_iterations=num_iterations,\n",
    "                 x_train=x_train,\n",
    "                 y_train=y_train)\n",
    "\n",
    "        # Save the optimized variables to disk.\n",
    "        saver.save(sess=session, save_path=get_save_path(i))\n",
    "\n",
    "        # Print newline.\n",
    "        print()"
   ]
  },
  {
   "cell_type": "markdown",
   "id": "a06b6c29",
   "metadata": {},
   "source": [
    "## Results & Analysis\n",
    "\n",
    "function for calculating the predicted labels for all the n"
   ]
  }
 ],
 "metadata": {
  "kernelspec": {
   "display_name": "Python 3",
   "language": "python",
   "name": "python3"
  },
  "language_info": {
   "codemirror_mode": {
    "name": "ipython",
    "version": 3
   },
   "file_extension": ".py",
   "mimetype": "text/x-python",
   "name": "python",
   "nbconvert_exporter": "python",
   "pygments_lexer": "ipython3",
   "version": "3.8.3"
  }
 },
 "nbformat": 4,
 "nbformat_minor": 5
}
