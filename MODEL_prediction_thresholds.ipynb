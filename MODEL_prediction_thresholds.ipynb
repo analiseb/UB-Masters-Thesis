{
 "cells": [
  {
   "cell_type": "code",
   "execution_count": 2,
   "id": "18006e2a",
   "metadata": {},
   "outputs": [],
   "source": [
    "import numpy as np\n",
    "import pandas as pd\n",
    "import matplotlib.pyplot as plt\n",
    "import seaborn as sns\n",
    "\n",
    "import tensorflow as tf\n",
    "import keras\n",
    "\n",
    "from sklearn.metrics import confusion_matrix\n",
    "from sklearn.model_selection import train_test_split \n",
    "\n",
    "import"
   ]
  },
  {
   "cell_type": "markdown",
   "id": "171bf6e4",
   "metadata": {},
   "source": [
    "#### load data"
   ]
  },
  {
   "cell_type": "code",
   "execution_count": 3,
   "id": "cfb7e5e5",
   "metadata": {},
   "outputs": [],
   "source": [
    "df = pd.read_csv('data/binary_full.csv')\n",
    "pd.set_option('display.max_columns', None)\n",
    "df.drop('Unnamed: 0', axis=1, inplace=True)"
   ]
  },
  {
   "cell_type": "markdown",
   "id": "61351a49",
   "metadata": {},
   "source": [
    "#### retreive model"
   ]
  },
  {
   "cell_type": "code",
   "execution_count": 4,
   "id": "fa423d06",
   "metadata": {},
   "outputs": [
    {
     "ename": "NameError",
     "evalue": "name 'SGD' is not defined",
     "output_type": "error",
     "traceback": [
      "\u001b[1;31m---------------------------------------------------------------------------\u001b[0m",
      "\u001b[1;31mNameError\u001b[0m                                 Traceback (most recent call last)",
      "\u001b[1;32m~\\AppData\\Local\\Temp/ipykernel_15964/2323153600.py\u001b[0m in \u001b[0;36m<module>\u001b[1;34m\u001b[0m\n\u001b[0;32m      1\u001b[0m \u001b[0mmodel\u001b[0m \u001b[1;33m=\u001b[0m \u001b[0mkeras\u001b[0m\u001b[1;33m.\u001b[0m\u001b[0mmodels\u001b[0m\u001b[1;33m.\u001b[0m\u001b[0mload_model\u001b[0m\u001b[1;33m(\u001b[0m\u001b[1;34m'saved_models/mlp_binary_1.h5'\u001b[0m\u001b[1;33m)\u001b[0m\u001b[1;33m\u001b[0m\u001b[1;33m\u001b[0m\u001b[0m\n\u001b[0;32m      2\u001b[0m model.compile(loss='binary_crossentropy',\n\u001b[1;32m----> 3\u001b[1;33m               \u001b[0moptimizer\u001b[0m\u001b[1;33m=\u001b[0m\u001b[0mSGD\u001b[0m\u001b[1;33m(\u001b[0m\u001b[0mlr\u001b[0m\u001b[1;33m=\u001b[0m\u001b[1;36m0.0005\u001b[0m\u001b[1;33m)\u001b[0m\u001b[1;33m,\u001b[0m\u001b[1;33m\u001b[0m\u001b[1;33m\u001b[0m\u001b[0m\n\u001b[0m\u001b[0;32m      4\u001b[0m               metrics=['acc',tf.keras.metrics.AUC(), tf.keras.metrics.Recall()])\n",
      "\u001b[1;31mNameError\u001b[0m: name 'SGD' is not defined"
     ]
    }
   ],
   "source": [
    "model = keras.models.load_model('saved_models/mlp_binary_1.h5')\n",
    "model.compile(loss='binary_crossentropy', #categorical_hinge\n",
    "              optimizer=SGD(lr=0.0005),\n",
    "              metrics=['acc',tf.keras.metrics.AUC(), tf.keras.metrics.Recall()])"
   ]
  },
  {
   "cell_type": "markdown",
   "id": "386afc37",
   "metadata": {},
   "source": [
    "#### some functions to evaluate model predictions"
   ]
  },
  {
   "cell_type": "code",
   "execution_count": null,
   "id": "383c2f32",
   "metadata": {},
   "outputs": [],
   "source": [
    "def confusion_eval(model, X_test, y_test, threshold=0.5)\n",
    "    \"\"\"\n",
    "    Takes in model, testing data, and decision threshold and outputs prediction performance (confusion matrix,\n",
    "    sensitivity, specificity, and accuracy)\n",
    "    \"\"\"\n",
    "    y_predicted = (model.predict(X_test) >= threshold)\n",
    "\n",
    "    conf_mat = confusion_matrix(Y_test, y_predicted)\n",
    "    print(conf_mat)\n",
    "    total = sum(sum(conf_mat))\n",
    "    sensitivity = conf_mat[0, 0]/(conf_mat[0, 0] + conf_mat[1, 0])\n",
    "    specificity = conf_mat[1, 1]/(conf_mat[1, 1] + conf_mat[0, 1])\n",
    "    accuracy = (conf_mat[0, 0] + conf_mat[1, 1])/total\n",
    "\n",
    "    print('specificity : ', specificity)\n",
    "    print('sensitivity : ', sensitivity)\n",
    "    print('accuracy : ', accuracy)\n",
    "    return conf_mat, sensitivity, specificity, accuracy"
   ]
  },
  {
   "cell_type": "code",
   "execution_count": null,
   "id": "250a9ae9",
   "metadata": {},
   "outputs": [],
   "source": []
  },
  {
   "cell_type": "markdown",
   "id": "8261cedf",
   "metadata": {},
   "source": [
    "### let's figure out the best threshold to minimize false negatives!\n",
    "\n",
    "> Since this problem is a case of medical diagnostics, we care way more about correctly diagnosing the people who actually have CVDs so that they can get treatment, therefore we are willing to allow a few more false positive cases to ensure the best ultimate health outcomes for everyone."
   ]
  },
  {
   "cell_type": "code",
   "execution_count": null,
   "id": "4e0be663",
   "metadata": {},
   "outputs": [],
   "source": [
    "test_thresholds = [0.1, 0.2, 0.3, 0.4, 0.5, 0.6, 0.7]\n",
    "\n",
    "# specificities = []\n",
    "# sensitivites = []\n",
    "# accuracies = []\n",
    "\n",
    "df_results = pd.DataFrame(columns = )\n",
    "for threshold in thresholds:\n",
    "    mat, spec, sens, acc = confusion_eval(model, X_test, y_test, threshold=threshold)\n",
    "    \n",
    "    specificities.append(spec)\n",
    "    sensitivities.append(sens)\n",
    "    accuracies.append(acc)"
   ]
  },
  {
   "cell_type": "code",
   "execution_count": null,
   "id": "7b853e5c",
   "metadata": {},
   "outputs": [],
   "source": []
  },
  {
   "cell_type": "markdown",
   "id": "2b4a6ca7",
   "metadata": {},
   "source": [
    "#### plot threshold results"
   ]
  },
  {
   "cell_type": "code",
   "execution_count": null,
   "id": "43d0badf",
   "metadata": {},
   "outputs": [],
   "source": [
    "def plot_compare(metric):\n",
    "    for thresh, result in zip(test_thresholds, metric):"
   ]
  },
  {
   "cell_type": "code",
   "execution_count": null,
   "id": "eb6371a1",
   "metadata": {},
   "outputs": [],
   "source": []
  }
 ],
 "metadata": {
  "kernelspec": {
   "display_name": "Python 3",
   "language": "python",
   "name": "python3"
  },
  "language_info": {
   "codemirror_mode": {
    "name": "ipython",
    "version": 3
   },
   "file_extension": ".py",
   "mimetype": "text/x-python",
   "name": "python",
   "nbconvert_exporter": "python",
   "pygments_lexer": "ipython3",
   "version": "3.8.3"
  }
 },
 "nbformat": 4,
 "nbformat_minor": 5
}
