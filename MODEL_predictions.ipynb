{
 "cells": [
  {
   "cell_type": "code",
   "execution_count": 56,
   "id": "18006e2a",
   "metadata": {},
   "outputs": [],
   "source": [
    "import numpy as np\n",
    "import pandas as pd\n",
    "import matplotlib.pyplot as plt\n",
    "import seaborn as sns\n",
    "\n",
    "import tensorflow as tf\n",
    "import keras\n",
    "# Model selection\n",
    "from sklearn.model_selection import train_test_split\n",
    "from sklearn.model_selection import StratifiedKFold\n",
    "from tensorflow.keras.initializers import RandomNormal, Constant\n",
    "\n",
    "# Metrics\n",
    "from sklearn.metrics import roc_auc_score, average_precision_score\n",
    "from sklearn.metrics import make_scorer\n",
    "\n",
    "from sklearn.preprocessing import LabelEncoder, OneHotEncoder, QuantileTransformer, RobustScaler, StandardScaler,MinMaxScaler\n",
    "from tensorflow.keras.optimizers  import Adam, Adagrad, SGD, RMSprop\n",
    "\n",
    "from sklearn.metrics import confusion_matrix, roc_curve\n",
    "from sklearn.model_selection import train_test_split \n",
    "\n",
    "import fairness_helpers as fh\n",
    "import utilities\n",
    "import global_variables as gv\n",
    "\n",
    "import shap"
   ]
  },
  {
   "cell_type": "markdown",
   "id": "171bf6e4",
   "metadata": {},
   "source": [
    "#### load data"
   ]
  },
  {
   "cell_type": "code",
   "execution_count": 2,
   "id": "cfb7e5e5",
   "metadata": {},
   "outputs": [],
   "source": [
    "df = pd.read_csv('data/binary_full.csv')\n",
    "pd.set_option('display.max_columns', None)\n",
    "df.drop('Unnamed: 0', axis=1, inplace=True)"
   ]
  },
  {
   "cell_type": "markdown",
   "id": "61351a49",
   "metadata": {},
   "source": [
    "#### retreive model"
   ]
  },
  {
   "cell_type": "code",
   "execution_count": 39,
   "id": "fa423d06",
   "metadata": {},
   "outputs": [],
   "source": [
    "model = keras.models.load_model('saved_models/mlp_binary_1.h5')\n",
    "model.compile(loss='binary_crossentropy', #categorical_hinge\n",
    "              optimizer=SGD(learning_rate=0.0005),\n",
    "              metrics=['acc',tf.keras.metrics.AUC(), tf.keras.metrics.Recall()])"
   ]
  },
  {
   "cell_type": "markdown",
   "id": "bbd53ed7",
   "metadata": {},
   "source": [
    "#### split data and predict probabilities on test dataset"
   ]
  },
  {
   "cell_type": "code",
   "execution_count": 40,
   "id": "ef627952",
   "metadata": {},
   "outputs": [
    {
     "name": "stdout",
     "output_type": "stream",
     "text": [
      "4711/4711 [==============================] - 19s 4ms/step\n"
     ]
    },
    {
     "data": {
      "text/plain": [
       "array([[0.50978285],\n",
       "       [0.5965653 ],\n",
       "       [0.6105521 ],\n",
       "       ...,\n",
       "       [0.5338432 ],\n",
       "       [0.26935902],\n",
       "       [0.5914589 ]], dtype=float32)"
      ]
     },
     "execution_count": 40,
     "metadata": {},
     "output_type": "execute_result"
    }
   ],
   "source": [
    "_,  X_test, _, y_test = utilities.process_features(df, 'CVD', RobustScaler(), one_hot=True, val=False, test_size=0.3)\n",
    "\n",
    "y_prob = model.predict(X_test) # outputs probablity assigned to Class 1\n",
    "y_prob"
   ]
  },
  {
   "cell_type": "code",
   "execution_count": 26,
   "id": "7db5dad8",
   "metadata": {},
   "outputs": [
    {
     "name": "stdout",
     "output_type": "stream",
     "text": [
      "[0.5731583]\n",
      "[0.42829001]\n"
     ]
    }
   ],
   "source": [
    "one_count=0\n",
    "zero_count=0\n",
    "one_total=0\n",
    "zero_total=0\n",
    "for i, val in zip(y_test, y_prob):\n",
    "    if i == 1:\n",
    "        one_count+=1\n",
    "        one_total+=val\n",
    "    elif i==0:\n",
    "        zero_count+=1\n",
    "        zero_total+=val\n",
    "\n",
    "print(one_total/one_count)\n",
    "print(zero_total/zero_count)"
   ]
  },
  {
   "cell_type": "markdown",
   "id": "386afc37",
   "metadata": {},
   "source": [
    "#### some functions to evaluate model predictions"
   ]
  },
  {
   "cell_type": "code",
   "execution_count": 27,
   "id": "383c2f32",
   "metadata": {},
   "outputs": [],
   "source": [
    "def confusion_eval(model, X_test, y_test, threshold=0.5):\n",
    "    \"\"\"\n",
    "    Takes in model, testing data, and decision threshold and outputs prediction performance (confusion matrix,\n",
    "    sensitivity, specificity, and accuracy)\n",
    "    \"\"\"\n",
    "    y_predicted = (model.predict(X_test) >= threshold)\n",
    "\n",
    "    conf_mat = confusion_matrix(y_test, y_predicted)\n",
    "    print(conf_mat)\n",
    "    total = sum(sum(conf_mat))\n",
    "    sensitivity = conf_mat[0, 0]/(conf_mat[0, 0] + conf_mat[1, 0])\n",
    "    specificity = conf_mat[1, 1]/(conf_mat[1, 1] + conf_mat[0, 1])\n",
    "    accuracy = (conf_mat[0, 0] + conf_mat[1, 1])/total\n",
    "\n",
    "    print('specificity : ', specificity)\n",
    "    print('sensitivity : ', sensitivity)\n",
    "    print('accuracy : ', accuracy)\n",
    "    return conf_mat, sensitivity, specificity, accuracy"
   ]
  },
  {
   "cell_type": "code",
   "execution_count": null,
   "id": "d7d82a04",
   "metadata": {},
   "outputs": [],
   "source": []
  },
  {
   "cell_type": "markdown",
   "id": "8261cedf",
   "metadata": {},
   "source": [
    "### let's figure out the best threshold to minimize false negatives!\n",
    "\n",
    "> Since this problem is a case of medical diagnostics, we care way more about correctly diagnosing the people who actually have CVDs so that they can get treatment, therefore we are willing to allow a few more false positive cases to ensure the best ultimate health outcomes for everyone. (focus on maximizing Sensitivity)"
   ]
  },
  {
   "cell_type": "markdown",
   "id": "b1b6b140",
   "metadata": {},
   "source": [
    "#### optimal threshold for ROC Curve"
   ]
  },
  {
   "cell_type": "code",
   "execution_count": 28,
   "id": "ad2e7a95",
   "metadata": {},
   "outputs": [
    {
     "data": {
      "image/png": "[encoded data removed]",
      "text/plain": [
       "<Figure size 432x288 with 1 Axes>"
      ]
     },
     "metadata": {
      "needs_background": "light"
     },
     "output_type": "display_data"
    }
   ],
   "source": [
    "# calculate scores\n",
    "fpr, tpr, thresholds = roc_curve(y_test, y_prob)\n",
    "\n",
    "# plot the roc curve for the model\n",
    "plt.plot([0,1], [0,1], linestyle='--', label='No Skill')\n",
    "plt.plot(fpr, tpr, marker='.', label='Logistic')\n",
    "# axis labels\n",
    "plt.xlabel('False Positive Rate')\n",
    "plt.ylabel('True Positive Rate')\n",
    "plt.legend()\n",
    "# show the plot\n",
    "plt.show()"
   ]
  },
  {
   "cell_type": "markdown",
   "id": "2928d158",
   "metadata": {},
   "source": [
    "#### PR Curve: focus on minority class"
   ]
  },
  {
   "cell_type": "code",
   "execution_count": 45,
   "id": "4e0be663",
   "metadata": {},
   "outputs": [
    {
     "name": "stdout",
     "output_type": "stream",
     "text": [
      "4711/4711 [==============================] - 21s 4ms/step\n",
      "[[     0 136668]\n",
      " [     0  14077]]\n",
      "specificity :  0.09338286510332018\n",
      "sensitivity :  nan\n",
      "accuracy :  0.09338286510332018\n",
      "   1/4711 [..............................] - ETA: 2:47"
     ]
    },
    {
     "name": "stderr",
     "output_type": "stream",
     "text": [
      "invalid value encountered in longlong_scalars\n"
     ]
    },
    {
     "name": "stdout",
     "output_type": "stream",
     "text": [
      "4711/4711 [==============================] - 20s 4ms/step\n",
      "[[     0 136668]\n",
      " [     0  14077]]\n",
      "specificity :  0.09338286510332018\n",
      "sensitivity :  nan\n",
      "accuracy :  0.09338286510332018\n",
      "   1/4711 [..............................] - ETA: 2:44"
     ]
    },
    {
     "name": "stderr",
     "output_type": "stream",
     "text": [
      "invalid value encountered in longlong_scalars\n"
     ]
    },
    {
     "name": "stdout",
     "output_type": "stream",
     "text": [
      "4711/4711 [==============================] - 22s 5ms/step\n",
      "[[    14 136654]\n",
      " [     0  14077]]\n",
      "specificity :  0.0933915385687085\n",
      "sensitivity :  1.0\n",
      "accuracy :  0.0934757371720455\n",
      "4711/4711 [==============================] - 27s 6ms/step\n",
      "[[  1288 135380]\n",
      " [    30  14047]]\n",
      "specificity :  0.09400576870311256\n",
      "sensitivity :  0.9772382397572079\n",
      "accuracy :  0.10172808385021062\n",
      "4711/4711 [==============================] - 27s 6ms/step\n",
      "[[  8131 128537]\n",
      " [   138  13939]]\n",
      "specificity :  0.0978340211684775\n",
      "sensitivity :  0.9833111621719676\n",
      "accuracy :  0.14640618262628943\n",
      "4711/4711 [==============================] - 25s 5ms/step\n",
      "[[ 20314 116354]\n",
      " [   450  13627]]\n",
      "specificity :  0.10483839945838237\n",
      "sensitivity :  0.978327875168561\n",
      "accuracy :  0.22515506318617534\n",
      "4711/4711 [==============================] - 26s 5ms/step\n",
      "[[ 34997 101671]\n",
      " [   913  13164]]\n",
      "specificity :  0.11463404014455524\n",
      "sensitivity :  0.9745753272069062\n",
      "accuracy :  0.3194865501343328\n",
      "4711/4711 [==============================] - 25s 5ms/step\n",
      "[[49997 86671]\n",
      " [ 1495 12582]]\n",
      "specificity :  0.1267669491098506\n",
      "sensitivity :  0.9709663637069836\n",
      "accuracy :  0.4151315134830343\n",
      "4711/4711 [==============================] - 27s 6ms/step\n",
      "[[64983 71685]\n",
      " [ 2283 11794]]\n",
      "specificity :  0.1412810407407851\n",
      "sensitivity :  0.9660601195254661\n",
      "accuracy :  0.5093170586089091\n",
      "4711/4711 [==============================] - 27s 6ms/step\n",
      "[[79043 57625]\n",
      " [ 3225 10852]]\n",
      "specificity :  0.15847656877491711\n",
      "sensitivity :  0.9607988525307531\n",
      "accuracy :  0.5963381870045441\n",
      "4711/4711 [==============================] - 27s 6ms/step\n",
      "[[91736 44932]\n",
      " [ 4472  9605]]\n",
      "specificity :  0.17611896510625813\n",
      "sensitivity :  0.9535173790121404\n",
      "accuracy :  0.6722677369066967\n",
      "4711/4711 [==============================] - 27s 6ms/step\n",
      "[[103126  33542]\n",
      " [  5753   8324]]\n",
      "specificity :  0.19882482205130655\n",
      "sensitivity :  0.9471615279346798\n",
      "accuracy :  0.7393280042455803\n",
      "4711/4711 [==============================] - 25s 5ms/step\n",
      "[[113093  23575]\n",
      " [  7228   6849]]\n",
      "specificity :  0.22511832763607678\n",
      "sensitivity :  0.9399273609760557\n",
      "accuracy :  0.7956615476466881\n",
      "4711/4711 [==============================] - 25s 5ms/step\n",
      "[[121521  15147]\n",
      " [  8911   5166]]\n",
      "specificity :  0.25431989366415597\n",
      "sensitivity :  0.931680875858685\n",
      "accuracy :  0.8404059836147136\n",
      "4711/4711 [==============================] - 25s 5ms/step\n",
      "[[128094   8574]\n",
      " [ 10553   3524]]\n",
      "specificity :  0.2912878161679616\n",
      "sensitivity :  0.9238858395782094\n",
      "accuracy :  0.8731168529636141\n",
      "4711/4711 [==============================] - 25s 5ms/step\n",
      "[[132766   3902]\n",
      " [ 12167   1910]]\n",
      "specificity :  0.3286304198210599\n",
      "sensitivity :  0.916050864882394\n",
      "accuracy :  0.8934027662609042\n",
      "4711/4711 [==============================] - 25s 5ms/step\n",
      "[[135485   1183]\n",
      " [ 13414    663]]\n",
      "specificity :  0.3591549295774648\n",
      "sensitivity :  0.9099120880596915\n",
      "accuracy :  0.9031676009154532\n",
      "4711/4711 [==============================] - 26s 6ms/step\n",
      "[[136544    124]\n",
      " [ 13985     92]]\n",
      "specificity :  0.42592592592592593\n",
      "sensitivity :  0.9070943140524417\n",
      "accuracy :  0.9064048558824505\n",
      "4711/4711 [==============================] - 25s 5ms/step\n",
      "[[136663      5]\n",
      " [ 14075      2]]\n",
      "specificity :  0.2857142857142857\n",
      "sensitivity :  0.9066260664198809\n",
      "accuracy :  0.9065972337390958\n",
      "4711/4711 [==============================] - 25s 5ms/step\n",
      "[[136668      0]\n",
      " [ 14077      0]]\n",
      "specificity :  nan\n",
      "sensitivity :  0.9066171348966798\n",
      "accuracy :  0.9066171348966798\n"
     ]
    },
    {
     "name": "stderr",
     "output_type": "stream",
     "text": [
      "invalid value encountered in longlong_scalars\n"
     ]
    }
   ],
   "source": [
    "test_thresholds=np.arange(0,1,0.05)\n",
    "df_results = pd.DataFrame(columns = ['threshold', 'specificity', 'sensitivity', 'accuracy'])\n",
    "for threshold in test_thresholds:\n",
    "    mat, sens,spec, acc = confusion_eval(model, X_test, y_test, threshold=threshold)\n",
    "    \n",
    "    df_new = pd.DataFrame({'threshold':threshold, 'specificity':spec, 'sensitivity':sens, 'accuracy':acc}, index=[0])\n",
    "    df_results = pd.concat([df_results,df_new])"
   ]
  },
  {
   "cell_type": "code",
   "execution_count": 46,
   "id": "7b853e5c",
   "metadata": {},
   "outputs": [
    {
     "data": {
      "text/html": [
       "<div>\n",
       "<style scoped>\n",
       "    .dataframe tbody tr th:only-of-type {\n",
       "        vertical-align: middle;\n",
       "    }\n",
       "\n",
       "    .dataframe tbody tr th {\n",
       "        vertical-align: top;\n",
       "    }\n",
       "\n",
       "    .dataframe thead th {\n",
       "        text-align: right;\n",
       "    }\n",
       "</style>\n",
       "<table border=\"1\" class=\"dataframe\">\n",
       "  <thead>\n",
       "    <tr style=\"text-align: right;\">\n",
       "      <th></th>\n",
       "      <th>threshold</th>\n",
       "      <th>specificity</th>\n",
       "      <th>sensitivity</th>\n",
       "      <th>accuracy</th>\n",
       "    </tr>\n",
       "  </thead>\n",
       "  <tbody>\n",
       "    <tr>\n",
       "      <th>0</th>\n",
       "      <td>0.00</td>\n",
       "      <td>0.093383</td>\n",
       "      <td>NaN</td>\n",
       "      <td>0.093383</td>\n",
       "    </tr>\n",
       "    <tr>\n",
       "      <th>0</th>\n",
       "      <td>0.05</td>\n",
       "      <td>0.093383</td>\n",
       "      <td>NaN</td>\n",
       "      <td>0.093383</td>\n",
       "    </tr>\n",
       "    <tr>\n",
       "      <th>0</th>\n",
       "      <td>0.10</td>\n",
       "      <td>0.093392</td>\n",
       "      <td>1.000000</td>\n",
       "      <td>0.093476</td>\n",
       "    </tr>\n",
       "    <tr>\n",
       "      <th>0</th>\n",
       "      <td>0.15</td>\n",
       "      <td>0.094006</td>\n",
       "      <td>0.977238</td>\n",
       "      <td>0.101728</td>\n",
       "    </tr>\n",
       "    <tr>\n",
       "      <th>0</th>\n",
       "      <td>0.20</td>\n",
       "      <td>0.097834</td>\n",
       "      <td>0.983311</td>\n",
       "      <td>0.146406</td>\n",
       "    </tr>\n",
       "    <tr>\n",
       "      <th>0</th>\n",
       "      <td>0.25</td>\n",
       "      <td>0.104838</td>\n",
       "      <td>0.978328</td>\n",
       "      <td>0.225155</td>\n",
       "    </tr>\n",
       "    <tr>\n",
       "      <th>0</th>\n",
       "      <td>0.30</td>\n",
       "      <td>0.114634</td>\n",
       "      <td>0.974575</td>\n",
       "      <td>0.319487</td>\n",
       "    </tr>\n",
       "    <tr>\n",
       "      <th>0</th>\n",
       "      <td>0.35</td>\n",
       "      <td>0.126767</td>\n",
       "      <td>0.970966</td>\n",
       "      <td>0.415132</td>\n",
       "    </tr>\n",
       "    <tr>\n",
       "      <th>0</th>\n",
       "      <td>0.40</td>\n",
       "      <td>0.141281</td>\n",
       "      <td>0.966060</td>\n",
       "      <td>0.509317</td>\n",
       "    </tr>\n",
       "    <tr>\n",
       "      <th>0</th>\n",
       "      <td>0.45</td>\n",
       "      <td>0.158477</td>\n",
       "      <td>0.960799</td>\n",
       "      <td>0.596338</td>\n",
       "    </tr>\n",
       "    <tr>\n",
       "      <th>0</th>\n",
       "      <td>0.50</td>\n",
       "      <td>0.176119</td>\n",
       "      <td>0.953517</td>\n",
       "      <td>0.672268</td>\n",
       "    </tr>\n",
       "    <tr>\n",
       "      <th>0</th>\n",
       "      <td>0.55</td>\n",
       "      <td>0.198825</td>\n",
       "      <td>0.947162</td>\n",
       "      <td>0.739328</td>\n",
       "    </tr>\n",
       "    <tr>\n",
       "      <th>0</th>\n",
       "      <td>0.60</td>\n",
       "      <td>0.225118</td>\n",
       "      <td>0.939927</td>\n",
       "      <td>0.795662</td>\n",
       "    </tr>\n",
       "    <tr>\n",
       "      <th>0</th>\n",
       "      <td>0.65</td>\n",
       "      <td>0.254320</td>\n",
       "      <td>0.931681</td>\n",
       "      <td>0.840406</td>\n",
       "    </tr>\n",
       "    <tr>\n",
       "      <th>0</th>\n",
       "      <td>0.70</td>\n",
       "      <td>0.291288</td>\n",
       "      <td>0.923886</td>\n",
       "      <td>0.873117</td>\n",
       "    </tr>\n",
       "    <tr>\n",
       "      <th>0</th>\n",
       "      <td>0.75</td>\n",
       "      <td>0.328630</td>\n",
       "      <td>0.916051</td>\n",
       "      <td>0.893403</td>\n",
       "    </tr>\n",
       "    <tr>\n",
       "      <th>0</th>\n",
       "      <td>0.80</td>\n",
       "      <td>0.359155</td>\n",
       "      <td>0.909912</td>\n",
       "      <td>0.903168</td>\n",
       "    </tr>\n",
       "    <tr>\n",
       "      <th>0</th>\n",
       "      <td>0.85</td>\n",
       "      <td>0.425926</td>\n",
       "      <td>0.907094</td>\n",
       "      <td>0.906405</td>\n",
       "    </tr>\n",
       "    <tr>\n",
       "      <th>0</th>\n",
       "      <td>0.90</td>\n",
       "      <td>0.285714</td>\n",
       "      <td>0.906626</td>\n",
       "      <td>0.906597</td>\n",
       "    </tr>\n",
       "    <tr>\n",
       "      <th>0</th>\n",
       "      <td>0.95</td>\n",
       "      <td>NaN</td>\n",
       "      <td>0.906617</td>\n",
       "      <td>0.906617</td>\n",
       "    </tr>\n",
       "  </tbody>\n",
       "</table>\n",
       "</div>"
      ],
      "text/plain": [
       "   threshold  specificity  sensitivity  accuracy\n",
       "0       0.00     0.093383          NaN  0.093383\n",
       "0       0.05     0.093383          NaN  0.093383\n",
       "0       0.10     0.093392     1.000000  0.093476\n",
       "0       0.15     0.094006     0.977238  0.101728\n",
       "0       0.20     0.097834     0.983311  0.146406\n",
       "0       0.25     0.104838     0.978328  0.225155\n",
       "0       0.30     0.114634     0.974575  0.319487\n",
       "0       0.35     0.126767     0.970966  0.415132\n",
       "0       0.40     0.141281     0.966060  0.509317\n",
       "0       0.45     0.158477     0.960799  0.596338\n",
       "0       0.50     0.176119     0.953517  0.672268\n",
       "0       0.55     0.198825     0.947162  0.739328\n",
       "0       0.60     0.225118     0.939927  0.795662\n",
       "0       0.65     0.254320     0.931681  0.840406\n",
       "0       0.70     0.291288     0.923886  0.873117\n",
       "0       0.75     0.328630     0.916051  0.893403\n",
       "0       0.80     0.359155     0.909912  0.903168\n",
       "0       0.85     0.425926     0.907094  0.906405\n",
       "0       0.90     0.285714     0.906626  0.906597\n",
       "0       0.95          NaN     0.906617  0.906617"
      ]
     },
     "execution_count": 46,
     "metadata": {},
     "output_type": "execute_result"
    }
   ],
   "source": [
    "df_results"
   ]
  },
  {
   "cell_type": "markdown",
   "id": "2b4a6ca7",
   "metadata": {},
   "source": [
    "#### plot threshold results"
   ]
  },
  {
   "cell_type": "code",
   "execution_count": 52,
   "id": "43d0badf",
   "metadata": {
    "scrolled": true
   },
   "outputs": [
    {
     "data": {
      "image/png": "[encoded data removed]",
      "text/plain": [
       "<Figure size 432x288 with 1 Axes>"
      ]
     },
     "metadata": {
      "needs_background": "light"
     },
     "output_type": "display_data"
    }
   ],
   "source": [
    "# plot lines\n",
    "plt.plot(df_results['threshold'], df_results['accuracy'], label = \"accuracy\")\n",
    "plt.plot(df_results['threshold'], df_results['specificity'], label = \"specificity\")\n",
    "plt.plot(df_results['threshold'], df_results['sensitivity'], label = \"sensitivity\")\n",
    "# single line\n",
    "plt.vlines(x = 0.85, ymin = 0, ymax = 1.0,\n",
    "           colors = 'red',\n",
    "           linestyle='--')\n",
    "plt.legend(loc='center left')\n",
    "plt.title('Decision Threshold Optimization (0.05 step-size)')\n",
    "plt.xlabel('Threshold')\n",
    "plt.savefig('charts/models/MLP/mlp_threshold.png', bbox_inches='tight')\n",
    "plt.show()"
   ]
  },
  {
   "cell_type": "markdown",
   "id": "8b9e872c",
   "metadata": {},
   "source": [
    "#### build SHAP explainer"
   ]
  },
  {
   "cell_type": "code",
   "execution_count": null,
   "id": "cf79375d",
   "metadata": {},
   "outputs": [],
   "source": [
    "explainer = shap.KernelExplainer(model.predict,X_train)\n"
   ]
  },
  {
   "cell_type": "markdown",
   "id": "702305a8",
   "metadata": {},
   "source": [
    "## XGBoost Model"
   ]
  },
  {
   "cell_type": "code",
   "execution_count": null,
   "id": "8f92a944",
   "metadata": {},
   "outputs": [],
   "source": []
  },
  {
   "cell_type": "markdown",
   "id": "22e95d62",
   "metadata": {},
   "source": [
    "## TabNet Model"
   ]
  },
  {
   "cell_type": "code",
   "execution_count": null,
   "id": "3fc2c73d",
   "metadata": {},
   "outputs": [],
   "source": []
  }
 ],
 "metadata": {
  "kernelspec": {
   "display_name": "Python 3",
   "language": "python",
   "name": "python3"
  },
  "language_info": {
   "codemirror_mode": {
    "name": "ipython",
    "version": 3
   },
   "file_extension": ".py",
   "mimetype": "text/x-python",
   "name": "python",
   "nbconvert_exporter": "python",
   "pygments_lexer": "ipython3",
   "version": "3.8.3"
  }
 },
 "nbformat": 4,
 "nbformat_minor": 5
}
