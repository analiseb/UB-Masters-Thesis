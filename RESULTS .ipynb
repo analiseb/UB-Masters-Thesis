{
 "cells": [
  {
   "cell_type": "markdown",
   "id": "55d99323",
   "metadata": {},
   "source": [
    "## summary of results tables & corresponding charts"
   ]
  },
  {
   "cell_type": "code",
   "execution_count": 1,
   "id": "40375493",
   "metadata": {},
   "outputs": [],
   "source": [
    "import pandas as pd"
   ]
  },
  {
   "cell_type": "markdown",
   "id": "621a20eb",
   "metadata": {},
   "source": []
  },
  {
   "cell_type": "markdown",
   "id": "f246437c",
   "metadata": {},
   "source": []
  },
  {
   "cell_type": "markdown",
   "id": "f91a1233",
   "metadata": {},
   "source": [
    "## Mitigation Intervention 1. Disparate Impact Remover"
   ]
  },
  {
   "cell_type": "markdown",
   "id": "66ec2a35",
   "metadata": {},
   "source": []
  },
  {
   "cell_type": "markdown",
   "id": "63f5ff02",
   "metadata": {},
   "source": []
  },
  {
   "cell_type": "markdown",
   "id": "0c807b35",
   "metadata": {},
   "source": []
  },
  {
   "cell_type": "markdown",
   "id": "653a37b7",
   "metadata": {},
   "source": []
  }
 ],
 "metadata": {
  "kernelspec": {
   "display_name": "Python 3",
   "language": "python",
   "name": "python3"
  },
  "language_info": {
   "codemirror_mode": {
    "name": "ipython",
    "version": 3
   },
   "file_extension": ".py",
   "mimetype": "text/x-python",
   "name": "python",
   "nbconvert_exporter": "python",
   "pygments_lexer": "ipython3",
   "version": "3.8.3"
  }
 },
 "nbformat": 4,
 "nbformat_minor": 5
}
