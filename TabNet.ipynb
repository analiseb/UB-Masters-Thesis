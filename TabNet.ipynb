{
 "cells": [
  {
   "cell_type": "code",
   "execution_count": 2,
   "id": "fe92b56b",
   "metadata": {},
   "outputs": [],
   "source": [
    "import multiprocessing as mp\n",
    "\n",
    "import matplotlib.pyplot as plt\n",
    "import numpy as np\n",
    "import tensorflow as tf\n",
    "from tensorflow import keras\n",
    "from tensorflow.keras import layers\n",
    "from tensorflow_addons.activations import sparsemax"
   ]
  },
  {
   "cell_type": "markdown",
   "id": "007a92d5",
   "metadata": {},
   "source": [
    "#### fully connected block"
   ]
  },
  {
   "cell_type": "code",
   "execution_count": 3,
   "id": "20aa12bb",
   "metadata": {},
   "outputs": [],
   "source": [
    "def GLU(x):\n",
    "    return x * tf.sigmoid(x)\n",
    "\n",
    "class FCBlock(layers.Layer):\n",
    "    def __init__(self, units):\n",
    "        super().__init__()\n",
    "        self.layer = layers.Dense(units)\n",
    "        self.bn = layers.BatchNormalization()\n",
    "\n",
    "    def call(self, x):\n",
    "        return GLU(self.bn(self.layer(x)))"
   ]
  },
  {
   "cell_type": "markdown",
   "id": "9cfd30e0",
   "metadata": {},
   "source": [
    "#### Feature Transformer "
   ]
  },
  {
   "cell_type": "code",
   "execution_count": 4,
   "id": "f7d08894",
   "metadata": {},
   "outputs": [],
   "source": [
    "class SharedBlock(layers.Layer):\n",
    "    def __init__(self, units, mult=tf.sqrt(0.5)):\n",
    "        super().__init__()\n",
    "        self.layer1 = FCBlock(units)\n",
    "        self.layer2 = FCBlock(units)\n",
    "        self.mult = mult\n",
    "\n",
    "    def call(self, x):\n",
    "        out1 = self.layer1(x)\n",
    "        out2 = self.layer2(out1)\n",
    "        return out2 + self.mult * out1\n",
    "\n",
    "class DecisionBlock(SharedBlock):\n",
    "    def __init__(self, units, mult=tf.sqrt(0.5)):\n",
    "        super().__init__(units, mult)\n",
    "\n",
    "    def call(self, x):\n",
    "        out1 = x * self.mult + self.layer1(x)\n",
    "        out2 = out1 * self.mult + self.layer2(out1)\n",
    "        return out2"
   ]
  },
  {
   "cell_type": "markdown",
   "id": "b5721a81",
   "metadata": {},
   "source": [
    "#### Attentive Transformer"
   ]
  },
  {
   "cell_type": "code",
   "execution_count": 5,
   "id": "c195dd1e",
   "metadata": {},
   "outputs": [],
   "source": [
    "class Prior(layers.Layer):\n",
    "    def __init__(self, gamma=1.1):\n",
    "        super().__init__()\n",
    "        self.gamma = gamma\n",
    "\n",
    "    def reset(self):\n",
    "        self.P = 1.0\n",
    "\n",
    "    def call(self, mask):\n",
    "        self.P = self.P * (self.gamma - mask)\n",
    "        return self.P\n",
    "    \n",
    "class AttentiveTransformer(layers.Layer):\n",
    "    def __init__(self, units):\n",
    "        super().__init__()\n",
    "        self.layer = layers.Dense(units)\n",
    "        self.bn = layers.BatchNormalization()\n",
    "\n",
    "    def call(self, x, prior):\n",
    "        return sparsemax(prior * self.bn(self.layer(x)))"
   ]
  },
  {
   "cell_type": "markdown",
   "id": "ebac32ac",
   "metadata": {},
   "source": [
    "#### Feature Transformer"
   ]
  },
  {
   "cell_type": "code",
   "execution_count": null,
   "id": "948d957b",
   "metadata": {},
   "outputs": [],
   "source": []
  }
 ],
 "metadata": {
  "kernelspec": {
   "display_name": "Python 3",
   "language": "python",
   "name": "python3"
  },
  "language_info": {
   "codemirror_mode": {
    "name": "ipython",
    "version": 3
   },
   "file_extension": ".py",
   "mimetype": "text/x-python",
   "name": "python",
   "nbconvert_exporter": "python",
   "pygments_lexer": "ipython3",
   "version": "3.8.3"
  }
 },
 "nbformat": 4,
 "nbformat_minor": 5
}
