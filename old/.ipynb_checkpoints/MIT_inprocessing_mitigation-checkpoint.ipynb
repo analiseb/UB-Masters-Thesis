{
 "cells": [
  {
   "cell_type": "markdown",
   "id": "a1cb935b",
   "metadata": {},
   "source": [
    "## In-processing Mitigation Methods: AIF360\n"
   ]
  },
  {
   "cell_type": "markdown",
   "id": "fe130ba0",
   "metadata": {},
   "source": [
    "### Method 1. Adversarial Debiasing\n",
    "\n",
    "Learns a classifier to maximize predictino accuracy and simultaneously reduce an adversary's ability to determine the protected attribute from the predictions"
   ]
  },
  {
   "cell_type": "markdown",
   "id": "d2fe207a",
   "metadata": {},
   "source": [
    "### Method 2. Prejudice Remover\n",
    "\n",
    "Adds a discrimination-aware regularization term to the learning objective"
   ]
  },
  {
   "cell_type": "code",
   "execution_count": null,
   "id": "964baf44",
   "metadata": {},
   "outputs": [],
   "source": [
    "# set to 50 iterations for fast running of notebook - set >= 1000 when running real experiments\n",
    "pareto_iters = 50\n",
    "def multiple_classifiers_pareto(dataset, gamma_list=[0.002, 0.005, 0.01, 0.02, 0.05, 0.1], save_results=False, iters=pareto_iters):\n",
    "\n",
    "#     ln_predictor = linear_model.LinearRegression()\n",
    "#     svm_predictor = svm.LinearSVR()\n",
    "#     tree_predictor = tree.DecisionTreeRegressor(max_depth=3)\n",
    "#     kernel_predictor = KernelRidge(alpha=1.0, gamma=1.0, kernel='rbf')\n",
    "#     predictor_dict = {'Linear': {'predictor': ln_predictor, 'iters': iters},\n",
    "#                       'SVR': {'predictor': svm_predictor, 'iters': iters},\n",
    "#                       'Tree': {'predictor': tree_predictor, 'iters': iters},\n",
    "#                       'Kernel': {'predictor': kernel_predictor, 'iters': iters}}\n",
    "\n",
    "#     results_dict = {}\n",
    "\n",
    "    for pred in predictor_dict:\n",
    "        print('Curr Predictor: {}'.format(pred))\n",
    "        predictor = predictor_dict[pred]['predictor']\n",
    "        max_iters = predictor_dict[pred]['iters']\n",
    "        fair_clf = GerryFairClassifier(C=100, printflag=True, gamma=1, predictor=predictor, max_iters=max_iters)\n",
    "        fair_clf.printflag = False\n",
    "        fair_clf.max_iters=max_iters\n",
    "        errors, fp_violations, fn_violations = fair_clf.pareto(dataset, gamma_list)\n",
    "        results_dict[pred] = {'errors': errors, 'fp_violations': fp_violations, 'fn_violations': fn_violations}\n",
    "        plt.plot(errors, fp_violations, label=pred)\n",
    "\n",
    "#     if save_results:\n",
    "#         pickle.dump(results_dict, open('results_dict_' + str(gamma_list) + '_gammas' + str(gamma_list) + '.pkl', 'wb'))\n",
    "\n",
    "    plt.xlabel('Error')\n",
    "    plt.ylabel('Unfairness')\n",
    "    plt.legend()\n",
    "    plt.title('Error vs. Unfairness')\n",
    "    plt.savefig('gerryfair_pareto.png')\n",
    "    plt.close()\n",
    "multiple_classifiers_pareto(data_set)\n",
    "Image(filename='gerryfair_pareto.png') "
   ]
  }
 ],
 "metadata": {
  "kernelspec": {
   "display_name": "Python 3",
   "language": "python",
   "name": "python3"
  },
  "language_info": {
   "codemirror_mode": {
    "name": "ipython",
    "version": 3
   },
   "file_extension": ".py",
   "mimetype": "text/x-python",
   "name": "python",
   "nbconvert_exporter": "python",
   "pygments_lexer": "ipython3",
   "version": "3.8.3"
  }
 },
 "nbformat": 4,
 "nbformat_minor": 5
}
