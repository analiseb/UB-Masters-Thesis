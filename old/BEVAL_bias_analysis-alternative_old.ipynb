{
 "cells": [
  {
   "cell_type": "markdown",
   "id": "4e4e0ad4",
   "metadata": {},
   "source": [
    "# Bias Evaluation : AIF360\n",
    "***\n",
    "\n",
    "Quantification of model bias in terms of fairness against protected groups before and after implementation of mitigation methods\n",
    "\n",
    "## Terminology\n",
    "***\n",
    "\n",
    "***Favorable label:*** A label whose value corresponds to an outcome that provides an advantage to the recipient (such as receiving a loan, being hired for a job, not being arrested)\n",
    "\n",
    "***Protected attribute:*** An attribute that partitions a population into groups whose outcomes should have parity (such as race, gender, caste, and religion)\n",
    "\n",
    "***Privileged value (of a protected attribute):*** A protected attribute value indicating a group that has historically been at a systemic advantage\n",
    "\n",
    "***Fairness metric:*** A quantification of unwanted bias in training data or models\n",
    "\n",
    "***Discrimination/unwanted bias:*** Although bias can refer to any form of preference, fair or unfair, our focus is on undesirable bias or discrimination, which is when specific privileged groups are placed at a systematic advantage and specific unprivileged groups are placed at a systematic disadvantage. This relates to attributes such as race, gender, age, and sexual orientation."
   ]
  },
  {
   "cell_type": "markdown",
   "id": "4400ba5e",
   "metadata": {},
   "source": [
    "\n",
    "## Structure of Evaluation & Intervention\n",
    "***\n",
    "<img src=\"images/aif360_pipeline.png\" width=\"700\" height=\"500\" align=\"center\"/>"
   ]
  },
  {
   "cell_type": "markdown",
   "id": "f42162b2",
   "metadata": {},
   "source": [
    "### Three Perspectives of Fairness in ML algorithms\n",
    "***\n",
    "\n",
    "[linkedin article](https://www.linkedin.com/pulse/whats-new-deep-learning-research-reducing-bias-models-jesus-rodriguez/)\n",
    "\n",
    "***1. Data vs Mode***\n",
    "\n",
    "Fairness may be quantified in the training dataset or in the learned model\n",
    "\n",
    "***2. Group vs Individual***\n",
    "\n",
    "Group fairness partitions a population into groups defined by protected attributes and seeks for some statistical measure to be equal across all groups. Individual fairness seeks for similar individuals to be treated similarly.\n",
    "\n",
    "\n",
    "***3. WAE vs WYSIWYG (We are all equal vs What you see is what you get)***\n",
    "\n",
    "WAE says that fairness is an equal distirbution of skills and opportunities among the participants in an ML task, attributing differences in outcome distributions to structural bias and not a difference in distribution to ability. WYSIWYG says that observations reflect ability with respect to a task."
   ]
  },
  {
   "cell_type": "markdown",
   "id": "0ef8aefc",
   "metadata": {},
   "source": [
    "> If the application follows the WAE worldview, then the demographic parity metrics should be used: disparate_impact and statistical_parity_difference.  If the application follows the WYSIWYG worldview, then the equality of odds metrics should be used: average_odds_difference and average_abs_odds_difference.  Other group fairness metrics (some are often labeled equality of opportunity) lie in-between the two worldviews and may be used appropriately: false_negative_rate_ratio, false_negative_rate_difference, false_positive_rate_ratio, false_positive_rate_difference, false_discovery_rate_ratio, false_discovery_rate_difference, false_omission_rate_ratio, false_omission_rate_difference, error_rate_ratio, and error_rate_difference. "
   ]
  },
  {
   "cell_type": "markdown",
   "id": "7774b603",
   "metadata": {},
   "source": [
    "### 2. Evaluation of Bias in Models"
   ]
  },
  {
   "cell_type": "markdown",
   "id": "1c9e334f",
   "metadata": {},
   "source": [
    "<center><b>Average Odds Difference:</b> $ \\tfrac{1}{2}\\left[(FPR_{D = \\text{unprivileged}} - FPR_{D = \\text{privileged}}) + (TPR_{D = \\text{privileged}} - TPR_{D = \\text{unprivileged}}))\\right] $ </center>\n",
    "\n",
    "\n",
    "<br><br>\n",
    "\n",
    "\n",
    "<center><b>Statistical Parity Difference:    </b>$ Pr(\\hat{Y} = 1 | D = \\text{unprivileged}) - Pr(\\hat{Y} = 1 | D = \\text{privileged}) $</center>\n",
    "\n",
    "\n",
    "<br><br>\n",
    "\n",
    "\n",
    "<center><b>Equal Opportunity Difference:    </b>$ TPR_{D = \\text{unprivileged}} - TPR_{D = \\text{privileged}} $</center>\n",
    "\n",
    "\n",
    "<br><br>\n",
    "\n",
    "\n",
    "<center><b>Theil Index:    </b>$ \\frac{1}{n}\\sum_{i=1}^n\\frac{b_{i}}{\\mu}\\ln\\frac{b_{i}}{\\mu}, \\text{with} b_i = \\hat{y}_i - y_i + 1 $</center>\n",
    "\n",
    "\n",
    "<br><br>\n",
    "\n",
    "\n",
    "<center><b>Disparate Impact:    </b> $ \\frac{Pr(Y = 1 | D = \\text{unprivileged})} {Pr(Y = 1 | D = \\text{privileged})}$</center>"
   ]
  },
  {
   "cell_type": "code",
   "execution_count": 1,
   "id": "b2f5c911",
   "metadata": {},
   "outputs": [],
   "source": [
    "import matplotlib.pyplot as plt\n",
    "import numpy as np\n",
    "import pandas as pd\n",
    "import seaborn as sns\n",
    "sns.set(context='talk', style='whitegrid')\n",
    "from IPython.display import display, Markdown\n",
    "\n",
    "from tensorflow import keras\n",
    "from sklearn.metrics import RocCurveDisplay\n",
    "from sklearn.model_selection import train_test_split\n",
    "from sklearn.linear_model import LogisticRegression\n",
    "from sklearn.preprocessing import StandardScaler, MaxAbsScaler, RobustScaler\n",
    "from sklearn.metrics import accuracy_score\n",
    "from sklearn.model_selection import train_test_split\n",
    "\n",
    "import tensorflow as tf\n",
    "from tensorflow.keras.optimizers  import Adam, Adagrad, SGD, RMSprop\n",
    "\n",
    "# from aif360.sklearn.metrics import mdss_bias_scan, mdss_bias_score\n",
    "import aif360\n",
    "import utilities\n",
    "import global_variables as gv\n",
    "import fairness_helpers as fh"
   ]
  },
  {
   "cell_type": "code",
   "execution_count": 2,
   "id": "5e95abc7",
   "metadata": {},
   "outputs": [],
   "source": [
    "from aif360.datasets import StandardDataset, BinaryLabelDataset\n",
    "from aif360.metrics import BinaryLabelDatasetMetric, ClassificationMetric\n",
    "from aif360.sklearn import metrics as mt\n",
    "from aif360.explainers import MetricTextExplainer, MetricJSONExplainer"
   ]
  },
  {
   "cell_type": "markdown",
   "id": "23849cea",
   "metadata": {},
   "source": [
    "### load data\n",
    "\n",
    "#### configure datasets according to aif360 library\n",
    "<ol>\n",
    "    <li> Binarize the sensitive attribute: 1 set to privileged group, 0 to unprivileged group</li>\n",
    "    <li> Binarize the label columns: 1 is the positive outcome and 0 else</li>\n",
    "    <li> Set the sensitive attribute as index</li>"
   ]
  },
  {
   "cell_type": "code",
   "execution_count": 3,
   "id": "73176f50",
   "metadata": {},
   "outputs": [],
   "source": [
    "df = pd.read_csv('data/binary_full.csv')\n",
    "pd.set_option('display.max_columns', None)\n",
    "df.drop('Unnamed: 0', axis=1, inplace=True)\n",
    "df['sex-binary']=df['sex'].map(gv.binary_sex)\n",
    "\n",
    "input_cols = df.iloc[:,:61].columns.to_list()\n",
    "X1 = df.loc[:,input_cols+['CVD']+['sex-binary']].set_index('sex-binary')\n",
    "X11 = df.loc[:,input_cols+['CVD']+['sex-binary']]\n",
    "X2 = df.loc[:,input_cols+['CVD']+['race-binary']].set_index('race-binary')\n",
    "X22 = df.loc[:,input_cols+['CVD']+['race-binary']]\n",
    "\n",
    "X3 = df.loc[:,input_cols+['CVD']]\n",
    "X3['age-binary'] = np.where((df['age']>=50)&(df['age']<70),1,0)\n",
    "X33 = X3\n",
    "X3 = X3.set_index('age-binary')\n",
    "X4 = df.loc[:,input_cols+['CVD']+['age']].set_index('age')\n",
    "\n",
    "# X1.drop(columns=gv.protected_attributes[0], axis=1, inplace=True)\n",
    "# X2.drop(columns=gv.protected_attributes[1], axis=1, inplace=True)\n",
    "# X3.drop(columns=gv.protected_attributes[2], axis=1, inplace=True)\n",
    "# X4.drop(columns=gv.protected_attributes[2], axis=1, inplace=True)"
   ]
  },
  {
   "cell_type": "code",
   "execution_count": 4,
   "id": "3670afae",
   "metadata": {},
   "outputs": [
    {
     "data": {
      "text/plain": [
       "['31-0.0', '21000-0.0', '21003-0.0']"
      ]
     },
     "execution_count": 4,
     "metadata": {},
     "output_type": "execute_result"
    }
   ],
   "source": [
    "gv.protected_attributes # sex, race, age"
   ]
  },
  {
   "cell_type": "code",
   "execution_count": 5,
   "id": "6a7e94be",
   "metadata": {
    "scrolled": true
   },
   "outputs": [
    {
     "data": {
      "text/html": [
       "<div>\n",
       "<style scoped>\n",
       "    .dataframe tbody tr th:only-of-type {\n",
       "        vertical-align: middle;\n",
       "    }\n",
       "\n",
       "    .dataframe tbody tr th {\n",
       "        vertical-align: top;\n",
       "    }\n",
       "\n",
       "    .dataframe thead th {\n",
       "        text-align: right;\n",
       "    }\n",
       "</style>\n",
       "<table border=\"1\" class=\"dataframe\">\n",
       "  <thead>\n",
       "    <tr style=\"text-align: right;\">\n",
       "      <th></th>\n",
       "      <th>1319-0.0</th>\n",
       "      <th>1408-0.0</th>\n",
       "      <th>1329-0.0</th>\n",
       "      <th>1448-0.0</th>\n",
       "      <th>1538-0.0</th>\n",
       "      <th>6142-0.0</th>\n",
       "      <th>2050-0.0</th>\n",
       "      <th>1508-0.0</th>\n",
       "      <th>1339-0.0</th>\n",
       "      <th>30710-0.0</th>\n",
       "      <th>1349-0.0</th>\n",
       "      <th>30750-0.0</th>\n",
       "      <th>1468-0.0</th>\n",
       "      <th>20117-0.0</th>\n",
       "      <th>30740-0.0</th>\n",
       "      <th>1160-0.0</th>\n",
       "      <th>2090-0.0</th>\n",
       "      <th>31-0.0</th>\n",
       "      <th>1488-0.0</th>\n",
       "      <th>30850-0.0</th>\n",
       "      <th>4080-0.0</th>\n",
       "      <th>1369-0.0</th>\n",
       "      <th>21000-0.0</th>\n",
       "      <th>1200-0.0</th>\n",
       "      <th>1289-0.0</th>\n",
       "      <th>30790-0.0</th>\n",
       "      <th>845-0.0</th>\n",
       "      <th>48-0.0</th>\n",
       "      <th>30630-0.0</th>\n",
       "      <th>1299-0.0</th>\n",
       "      <th>1220-0.0</th>\n",
       "      <th>1548-0.0</th>\n",
       "      <th>1528-0.0</th>\n",
       "      <th>23099-0.0</th>\n",
       "      <th>49-0.0</th>\n",
       "      <th>30690-0.0</th>\n",
       "      <th>1389-0.0</th>\n",
       "      <th>2654-0.0</th>\n",
       "      <th>1249-0.0</th>\n",
       "      <th>1309-0.0</th>\n",
       "      <th>1379-0.0</th>\n",
       "      <th>1239-0.0</th>\n",
       "      <th>21003-0.0</th>\n",
       "      <th>30780-0.0</th>\n",
       "      <th>1438-0.0</th>\n",
       "      <th>30870-0.0</th>\n",
       "      <th>1359-0.0</th>\n",
       "      <th>30770-0.0</th>\n",
       "      <th>21001-0.0</th>\n",
       "      <th>1458-0.0</th>\n",
       "      <th>23100-0.0</th>\n",
       "      <th>6138-0.0</th>\n",
       "      <th>1418-0.0</th>\n",
       "      <th>1478-0.0</th>\n",
       "      <th>4079-0.0</th>\n",
       "      <th>30760-0.0</th>\n",
       "      <th>23101-0.0</th>\n",
       "      <th>2100-0.0</th>\n",
       "      <th>1428-0.0</th>\n",
       "      <th>30640-0.0</th>\n",
       "      <th>hypertension</th>\n",
       "      <th>CVD</th>\n",
       "      <th>sex-binary</th>\n",
       "    </tr>\n",
       "  </thead>\n",
       "  <tbody>\n",
       "    <tr>\n",
       "      <th>0</th>\n",
       "      <td>0.0</td>\n",
       "      <td>1.0</td>\n",
       "      <td>2.0</td>\n",
       "      <td>3.0</td>\n",
       "      <td>2.0</td>\n",
       "      <td>1.0</td>\n",
       "      <td>2.0</td>\n",
       "      <td>3.0</td>\n",
       "      <td>2.0</td>\n",
       "      <td>0.34</td>\n",
       "      <td>1.0</td>\n",
       "      <td>34.937</td>\n",
       "      <td>3.0</td>\n",
       "      <td>2.0</td>\n",
       "      <td>5.622</td>\n",
       "      <td>7.0</td>\n",
       "      <td>1.0</td>\n",
       "      <td>0.0</td>\n",
       "      <td>6.00</td>\n",
       "      <td>0.508</td>\n",
       "      <td>110.0</td>\n",
       "      <td>1.0</td>\n",
       "      <td>1001.0</td>\n",
       "      <td>3.0</td>\n",
       "      <td>6.0</td>\n",
       "      <td>54.4035</td>\n",
       "      <td>20.90</td>\n",
       "      <td>74.0</td>\n",
       "      <td>1.593</td>\n",
       "      <td>10.0</td>\n",
       "      <td>0.0</td>\n",
       "      <td>2.0</td>\n",
       "      <td>2.00</td>\n",
       "      <td>35.6</td>\n",
       "      <td>102.0</td>\n",
       "      <td>6.477</td>\n",
       "      <td>1.0</td>\n",
       "      <td>6.0</td>\n",
       "      <td>1.0</td>\n",
       "      <td>2.0</td>\n",
       "      <td>1.0</td>\n",
       "      <td>0.0</td>\n",
       "      <td>54.0</td>\n",
       "      <td>3.888</td>\n",
       "      <td>10.0</td>\n",
       "      <td>0.977</td>\n",
       "      <td>2.0</td>\n",
       "      <td>26.339</td>\n",
       "      <td>24.5790</td>\n",
       "      <td>3.86</td>\n",
       "      <td>25.0</td>\n",
       "      <td>1.0</td>\n",
       "      <td>3.0</td>\n",
       "      <td>1.0</td>\n",
       "      <td>77.0</td>\n",
       "      <td>1.706</td>\n",
       "      <td>45.2</td>\n",
       "      <td>1.0</td>\n",
       "      <td>0.0</td>\n",
       "      <td>1.211</td>\n",
       "      <td>0</td>\n",
       "      <td>1</td>\n",
       "      <td>0</td>\n",
       "    </tr>\n",
       "    <tr>\n",
       "      <th>1</th>\n",
       "      <td>0.0</td>\n",
       "      <td>3.0</td>\n",
       "      <td>2.0</td>\n",
       "      <td>1.0</td>\n",
       "      <td>0.0</td>\n",
       "      <td>1.0</td>\n",
       "      <td>1.0</td>\n",
       "      <td>2.0</td>\n",
       "      <td>2.0</td>\n",
       "      <td>3.94</td>\n",
       "      <td>4.0</td>\n",
       "      <td>40.900</td>\n",
       "      <td>5.0</td>\n",
       "      <td>2.0</td>\n",
       "      <td>5.052</td>\n",
       "      <td>9.0</td>\n",
       "      <td>0.0</td>\n",
       "      <td>1.0</td>\n",
       "      <td>2.00</td>\n",
       "      <td>13.088</td>\n",
       "      <td>166.0</td>\n",
       "      <td>2.0</td>\n",
       "      <td>1001.0</td>\n",
       "      <td>2.0</td>\n",
       "      <td>2.0</td>\n",
       "      <td>15.4000</td>\n",
       "      <td>16.00</td>\n",
       "      <td>120.0</td>\n",
       "      <td>1.390</td>\n",
       "      <td>2.0</td>\n",
       "      <td>0.0</td>\n",
       "      <td>2.0</td>\n",
       "      <td>2.47</td>\n",
       "      <td>36.5</td>\n",
       "      <td>113.0</td>\n",
       "      <td>5.512</td>\n",
       "      <td>1.0</td>\n",
       "      <td>7.0</td>\n",
       "      <td>1.0</td>\n",
       "      <td>1.0</td>\n",
       "      <td>2.0</td>\n",
       "      <td>0.0</td>\n",
       "      <td>65.0</td>\n",
       "      <td>3.520</td>\n",
       "      <td>12.0</td>\n",
       "      <td>2.358</td>\n",
       "      <td>3.0</td>\n",
       "      <td>10.701</td>\n",
       "      <td>35.0861</td>\n",
       "      <td>7.00</td>\n",
       "      <td>42.9</td>\n",
       "      <td>3.0</td>\n",
       "      <td>2.0</td>\n",
       "      <td>1.0</td>\n",
       "      <td>91.0</td>\n",
       "      <td>1.173</td>\n",
       "      <td>74.6</td>\n",
       "      <td>0.0</td>\n",
       "      <td>1.0</td>\n",
       "      <td>1.019</td>\n",
       "      <td>1</td>\n",
       "      <td>0</td>\n",
       "      <td>1</td>\n",
       "    </tr>\n",
       "    <tr>\n",
       "      <th>2</th>\n",
       "      <td>0.0</td>\n",
       "      <td>3.0</td>\n",
       "      <td>3.0</td>\n",
       "      <td>2.0</td>\n",
       "      <td>1.0</td>\n",
       "      <td>2.0</td>\n",
       "      <td>1.0</td>\n",
       "      <td>2.0</td>\n",
       "      <td>2.0</td>\n",
       "      <td>0.55</td>\n",
       "      <td>1.0</td>\n",
       "      <td>40.000</td>\n",
       "      <td>1.0</td>\n",
       "      <td>0.0</td>\n",
       "      <td>5.310</td>\n",
       "      <td>5.0</td>\n",
       "      <td>0.0</td>\n",
       "      <td>0.0</td>\n",
       "      <td>0.00</td>\n",
       "      <td>0.515</td>\n",
       "      <td>132.0</td>\n",
       "      <td>1.0</td>\n",
       "      <td>1001.0</td>\n",
       "      <td>3.0</td>\n",
       "      <td>2.0</td>\n",
       "      <td>32.1000</td>\n",
       "      <td>16.00</td>\n",
       "      <td>66.0</td>\n",
       "      <td>2.005</td>\n",
       "      <td>4.0</td>\n",
       "      <td>0.0</td>\n",
       "      <td>1.0</td>\n",
       "      <td>1.00</td>\n",
       "      <td>29.5</td>\n",
       "      <td>88.0</td>\n",
       "      <td>7.079</td>\n",
       "      <td>1.0</td>\n",
       "      <td>7.0</td>\n",
       "      <td>3.0</td>\n",
       "      <td>4.0</td>\n",
       "      <td>2.0</td>\n",
       "      <td>0.0</td>\n",
       "      <td>69.0</td>\n",
       "      <td>4.227</td>\n",
       "      <td>8.0</td>\n",
       "      <td>0.655</td>\n",
       "      <td>2.0</td>\n",
       "      <td>10.693</td>\n",
       "      <td>19.3835</td>\n",
       "      <td>7.00</td>\n",
       "      <td>15.2</td>\n",
       "      <td>3.0</td>\n",
       "      <td>2.0</td>\n",
       "      <td>1.0</td>\n",
       "      <td>67.0</td>\n",
       "      <td>2.490</td>\n",
       "      <td>36.3</td>\n",
       "      <td>0.0</td>\n",
       "      <td>1.0</td>\n",
       "      <td>1.097</td>\n",
       "      <td>0</td>\n",
       "      <td>0</td>\n",
       "      <td>0</td>\n",
       "    </tr>\n",
       "    <tr>\n",
       "      <th>3</th>\n",
       "      <td>3.0</td>\n",
       "      <td>3.0</td>\n",
       "      <td>3.0</td>\n",
       "      <td>3.0</td>\n",
       "      <td>0.0</td>\n",
       "      <td>2.0</td>\n",
       "      <td>1.0</td>\n",
       "      <td>2.0</td>\n",
       "      <td>2.0</td>\n",
       "      <td>0.45</td>\n",
       "      <td>2.0</td>\n",
       "      <td>37.300</td>\n",
       "      <td>4.0</td>\n",
       "      <td>2.0</td>\n",
       "      <td>4.449</td>\n",
       "      <td>7.0</td>\n",
       "      <td>0.0</td>\n",
       "      <td>1.0</td>\n",
       "      <td>5.00</td>\n",
       "      <td>4.675</td>\n",
       "      <td>178.0</td>\n",
       "      <td>2.0</td>\n",
       "      <td>1001.0</td>\n",
       "      <td>1.0</td>\n",
       "      <td>3.0</td>\n",
       "      <td>43.5620</td>\n",
       "      <td>18.00</td>\n",
       "      <td>110.0</td>\n",
       "      <td>1.474</td>\n",
       "      <td>2.0</td>\n",
       "      <td>0.0</td>\n",
       "      <td>1.0</td>\n",
       "      <td>2.00</td>\n",
       "      <td>28.5</td>\n",
       "      <td>117.0</td>\n",
       "      <td>5.028</td>\n",
       "      <td>0.0</td>\n",
       "      <td>7.0</td>\n",
       "      <td>1.0</td>\n",
       "      <td>1.0</td>\n",
       "      <td>2.0</td>\n",
       "      <td>1.0</td>\n",
       "      <td>66.0</td>\n",
       "      <td>3.041</td>\n",
       "      <td>10.0</td>\n",
       "      <td>3.108</td>\n",
       "      <td>2.0</td>\n",
       "      <td>25.317</td>\n",
       "      <td>35.1281</td>\n",
       "      <td>7.00</td>\n",
       "      <td>31.7</td>\n",
       "      <td>3.0</td>\n",
       "      <td>2.0</td>\n",
       "      <td>1.0</td>\n",
       "      <td>84.0</td>\n",
       "      <td>1.169</td>\n",
       "      <td>79.6</td>\n",
       "      <td>0.0</td>\n",
       "      <td>3.0</td>\n",
       "      <td>0.923</td>\n",
       "      <td>0</td>\n",
       "      <td>0</td>\n",
       "      <td>1</td>\n",
       "    </tr>\n",
       "    <tr>\n",
       "      <th>4</th>\n",
       "      <td>0.0</td>\n",
       "      <td>3.0</td>\n",
       "      <td>2.0</td>\n",
       "      <td>1.0</td>\n",
       "      <td>0.0</td>\n",
       "      <td>5.0</td>\n",
       "      <td>2.0</td>\n",
       "      <td>2.0</td>\n",
       "      <td>2.0</td>\n",
       "      <td>0.75</td>\n",
       "      <td>2.0</td>\n",
       "      <td>32.200</td>\n",
       "      <td>1.0</td>\n",
       "      <td>2.0</td>\n",
       "      <td>4.616</td>\n",
       "      <td>6.0</td>\n",
       "      <td>0.0</td>\n",
       "      <td>1.0</td>\n",
       "      <td>3.04</td>\n",
       "      <td>20.162</td>\n",
       "      <td>178.0</td>\n",
       "      <td>1.0</td>\n",
       "      <td>1001.0</td>\n",
       "      <td>3.0</td>\n",
       "      <td>1.0</td>\n",
       "      <td>71.1100</td>\n",
       "      <td>22.38</td>\n",
       "      <td>94.0</td>\n",
       "      <td>2.149</td>\n",
       "      <td>1.0</td>\n",
       "      <td>0.0</td>\n",
       "      <td>2.0</td>\n",
       "      <td>2.00</td>\n",
       "      <td>24.8</td>\n",
       "      <td>100.0</td>\n",
       "      <td>7.958</td>\n",
       "      <td>1.0</td>\n",
       "      <td>7.0</td>\n",
       "      <td>2.0</td>\n",
       "      <td>1.0</td>\n",
       "      <td>1.0</td>\n",
       "      <td>0.0</td>\n",
       "      <td>48.0</td>\n",
       "      <td>4.983</td>\n",
       "      <td>8.0</td>\n",
       "      <td>1.173</td>\n",
       "      <td>1.0</td>\n",
       "      <td>26.523</td>\n",
       "      <td>25.8866</td>\n",
       "      <td>1.00</td>\n",
       "      <td>20.1</td>\n",
       "      <td>1.0</td>\n",
       "      <td>2.0</td>\n",
       "      <td>1.0</td>\n",
       "      <td>88.0</td>\n",
       "      <td>2.053</td>\n",
       "      <td>61.0</td>\n",
       "      <td>0.0</td>\n",
       "      <td>3.0</td>\n",
       "      <td>1.443</td>\n",
       "      <td>0</td>\n",
       "      <td>0</td>\n",
       "      <td>1</td>\n",
       "    </tr>\n",
       "  </tbody>\n",
       "</table>\n",
       "</div>"
      ],
      "text/plain": [
       "   1319-0.0  1408-0.0  1329-0.0  1448-0.0  1538-0.0  6142-0.0  2050-0.0  \\\n",
       "0       0.0       1.0       2.0       3.0       2.0       1.0       2.0   \n",
       "1       0.0       3.0       2.0       1.0       0.0       1.0       1.0   \n",
       "2       0.0       3.0       3.0       2.0       1.0       2.0       1.0   \n",
       "3       3.0       3.0       3.0       3.0       0.0       2.0       1.0   \n",
       "4       0.0       3.0       2.0       1.0       0.0       5.0       2.0   \n",
       "\n",
       "   1508-0.0  1339-0.0  30710-0.0  1349-0.0  30750-0.0  1468-0.0  20117-0.0  \\\n",
       "0       3.0       2.0       0.34       1.0     34.937       3.0        2.0   \n",
       "1       2.0       2.0       3.94       4.0     40.900       5.0        2.0   \n",
       "2       2.0       2.0       0.55       1.0     40.000       1.0        0.0   \n",
       "3       2.0       2.0       0.45       2.0     37.300       4.0        2.0   \n",
       "4       2.0       2.0       0.75       2.0     32.200       1.0        2.0   \n",
       "\n",
       "   30740-0.0  1160-0.0  2090-0.0  31-0.0  1488-0.0  30850-0.0  4080-0.0  \\\n",
       "0      5.622       7.0       1.0     0.0      6.00      0.508     110.0   \n",
       "1      5.052       9.0       0.0     1.0      2.00     13.088     166.0   \n",
       "2      5.310       5.0       0.0     0.0      0.00      0.515     132.0   \n",
       "3      4.449       7.0       0.0     1.0      5.00      4.675     178.0   \n",
       "4      4.616       6.0       0.0     1.0      3.04     20.162     178.0   \n",
       "\n",
       "   1369-0.0  21000-0.0  1200-0.0  1289-0.0  30790-0.0  845-0.0  48-0.0  \\\n",
       "0       1.0     1001.0       3.0       6.0    54.4035    20.90    74.0   \n",
       "1       2.0     1001.0       2.0       2.0    15.4000    16.00   120.0   \n",
       "2       1.0     1001.0       3.0       2.0    32.1000    16.00    66.0   \n",
       "3       2.0     1001.0       1.0       3.0    43.5620    18.00   110.0   \n",
       "4       1.0     1001.0       3.0       1.0    71.1100    22.38    94.0   \n",
       "\n",
       "   30630-0.0  1299-0.0  1220-0.0  1548-0.0  1528-0.0  23099-0.0  49-0.0  \\\n",
       "0      1.593      10.0       0.0       2.0      2.00       35.6   102.0   \n",
       "1      1.390       2.0       0.0       2.0      2.47       36.5   113.0   \n",
       "2      2.005       4.0       0.0       1.0      1.00       29.5    88.0   \n",
       "3      1.474       2.0       0.0       1.0      2.00       28.5   117.0   \n",
       "4      2.149       1.0       0.0       2.0      2.00       24.8   100.0   \n",
       "\n",
       "   30690-0.0  1389-0.0  2654-0.0  1249-0.0  1309-0.0  1379-0.0  1239-0.0  \\\n",
       "0      6.477       1.0       6.0       1.0       2.0       1.0       0.0   \n",
       "1      5.512       1.0       7.0       1.0       1.0       2.0       0.0   \n",
       "2      7.079       1.0       7.0       3.0       4.0       2.0       0.0   \n",
       "3      5.028       0.0       7.0       1.0       1.0       2.0       1.0   \n",
       "4      7.958       1.0       7.0       2.0       1.0       1.0       0.0   \n",
       "\n",
       "   21003-0.0  30780-0.0  1438-0.0  30870-0.0  1359-0.0  30770-0.0  21001-0.0  \\\n",
       "0       54.0      3.888      10.0      0.977       2.0     26.339    24.5790   \n",
       "1       65.0      3.520      12.0      2.358       3.0     10.701    35.0861   \n",
       "2       69.0      4.227       8.0      0.655       2.0     10.693    19.3835   \n",
       "3       66.0      3.041      10.0      3.108       2.0     25.317    35.1281   \n",
       "4       48.0      4.983       8.0      1.173       1.0     26.523    25.8866   \n",
       "\n",
       "   1458-0.0  23100-0.0  6138-0.0  1418-0.0  1478-0.0  4079-0.0  30760-0.0  \\\n",
       "0      3.86       25.0       1.0       3.0       1.0      77.0      1.706   \n",
       "1      7.00       42.9       3.0       2.0       1.0      91.0      1.173   \n",
       "2      7.00       15.2       3.0       2.0       1.0      67.0      2.490   \n",
       "3      7.00       31.7       3.0       2.0       1.0      84.0      1.169   \n",
       "4      1.00       20.1       1.0       2.0       1.0      88.0      2.053   \n",
       "\n",
       "   23101-0.0  2100-0.0  1428-0.0  30640-0.0  hypertension  CVD  sex-binary  \n",
       "0       45.2       1.0       0.0      1.211             0    1           0  \n",
       "1       74.6       0.0       1.0      1.019             1    0           1  \n",
       "2       36.3       0.0       1.0      1.097             0    0           0  \n",
       "3       79.6       0.0       3.0      0.923             0    0           1  \n",
       "4       61.0       0.0       3.0      1.443             0    0           1  "
      ]
     },
     "execution_count": 5,
     "metadata": {},
     "output_type": "execute_result"
    }
   ],
   "source": [
    "X11.head()"
   ]
  },
  {
   "cell_type": "code",
   "execution_count": 6,
   "id": "560d9b5d",
   "metadata": {},
   "outputs": [],
   "source": [
    "# transform features\n",
    "\n",
    "X111 = utilities.transform_features(X11, 'CVD') # excluding protected attribute cols\n",
    "X222 = utilities.transform_features(X22, 'CVD')\n",
    "X333 = utilities.transform_features(X33, 'CVD')\n",
    "\n",
    "X111_full = pd.concat([X111, X11.loc[:,'sex-binary']], axis=1)\n",
    "X222_full = pd.concat([X222, X22.loc[:,'race-binary']], axis=1)\n",
    "X333_full = pd.concat([X333, X33.loc[:,'age-binary']], axis=1)"
   ]
  },
  {
   "cell_type": "markdown",
   "id": "4bd8e6a4",
   "metadata": {},
   "source": [
    "### DataFrames\n",
    "\n",
    "#### Sex-binary\n",
    "\n",
    "<ol>\n",
    "    <li><b>X1</b>: df indexed by protected attribute, includes CVD output</li>\n",
    "    <li><b>X11</b>: df with all inputs + output + protected attribute, normal indexi<b>g</li>\n",
    "    <li><b>X111</b>: transformed X111, excludes protected attribute</li>\n",
    "    <li><b>X111_full</b>: X111 + protected attribute</li>\n",
    "    <li><b>dataset1</b>: aif360 dataset</li>\n",
    "</ol>\n",
    "\n",
    "#### Race-binary\n",
    "\n",
    "<ol>\n",
    "    <li><b>X2</b>: df indexed by protected attribute, includes CVD output</li>\n",
    "    <li><b>X22</b>: df with all inputs + output + protected attribute, normal indexing</li>\n",
    "    <li><b>X222</b>: transformed X222, excludes protected attribute</li>\n",
    "    <li><b>X222_full</b>: X222 + protected attribute</li>\n",
    "    <li><b>dataset2</b>: aif360 dataset</li>\n",
    "</ol>\n",
    "\n",
    "#### Age-binary\n",
    "\n",
    "<ol>\n",
    "    <li><b>X3</b>: df indexed by protected attribute, includes CVD output</li>\n",
    "    <li><b>X33</b>: df with all inputs + output + protected attribute, normal indexing</li>\n",
    "    <li><b>X333</b>: transformed X333, excludes protected attribute</li>\n",
    "    <li><b>X333_full</b>: X333 + protected attribute</li>\n",
    "    <li><b>dataset3</b>: aif360 dataset</li>\n",
    "</ol>"
   ]
  },
  {
   "cell_type": "code",
   "execution_count": 7,
   "id": "cd9cf07a",
   "metadata": {},
   "outputs": [],
   "source": [
    "# split into test train sets\n",
    "# (X1_train, X1_test,\n",
    "#  y1_train, y1_test) = train_test_split(X11, y11, train_size=0.7, random_state=42)\n",
    "\n",
    "# (X2_train, X2_test,\n",
    "#  y2_train, y2_test) = train_test_split(X22, y22, train_size=0.7, random_state=42)\n",
    "\n",
    "# (X3_train, X3_test,\n",
    "#  y3_train, y3_test) = train_test_split(X33, y33, train_size=0.7, random_state=42)"
   ]
  },
  {
   "cell_type": "code",
   "execution_count": 8,
   "id": "e8d37b82",
   "metadata": {},
   "outputs": [],
   "source": [
    "# print(X1_train.shape, X1_test.shape, y1_train.shape, y1_test.shape)\n",
    "# print(y1_train.value_counts(), '\\n', y1_test.value_counts())"
   ]
  },
  {
   "cell_type": "code",
   "execution_count": 9,
   "id": "69745439",
   "metadata": {},
   "outputs": [],
   "source": [
    "# print(X1_train.index.value_counts())"
   ]
  },
  {
   "cell_type": "markdown",
   "id": "88763869",
   "metadata": {},
   "source": [
    "### Evaluate bias in original dataset: Disparate impact ratio\n",
    "\n",
    "#### Interpretation:\n",
    "\n",
    "<ul>\n",
    "    <li> output range=[0,1]</li>\n",
    "    <li> a higher value == more fair related to the given protected attribute</li>\n",
    "    <li> x>0.8 is considered acceptable bias</li>"
   ]
  },
  {
   "cell_type": "code",
   "execution_count": 11,
   "id": "9f1fa32d",
   "metadata": {
    "scrolled": true
   },
   "outputs": [
    {
     "data": {
      "text/plain": [
       "0.5661578163243346"
      ]
     },
     "execution_count": 11,
     "metadata": {},
     "output_type": "execute_result"
    }
   ],
   "source": [
    "mt.disparate_impact_ratio(X1['CVD'], prot_attr='sex-binary')"
   ]
  },
  {
   "cell_type": "code",
   "execution_count": 12,
   "id": "3c3db46e",
   "metadata": {
    "scrolled": true
   },
   "outputs": [
    {
     "data": {
      "text/plain": [
       "0.5438220418530659"
      ]
     },
     "execution_count": 12,
     "metadata": {},
     "output_type": "execute_result"
    }
   ],
   "source": [
    "mt.disparate_impact_ratio(X2['CVD'], prot_attr='race-binary')"
   ]
  },
  {
   "cell_type": "code",
   "execution_count": 13,
   "id": "370b7064",
   "metadata": {
    "scrolled": true
   },
   "outputs": [
    {
     "data": {
      "text/plain": [
       "0.31036008621940697"
      ]
     },
     "execution_count": 13,
     "metadata": {},
     "output_type": "execute_result"
    }
   ],
   "source": [
    "mt.disparate_impact_ratio(X3['CVD'], prot_attr='age-binary')"
   ]
  },
  {
   "cell_type": "markdown",
   "id": "574f1dbf",
   "metadata": {},
   "source": [
    "> disparate impact ratios indicate that all three investigated protected attributes possess significant bias"
   ]
  },
  {
   "cell_type": "markdown",
   "id": "5646fdbc",
   "metadata": {},
   "source": [
    "### load model"
   ]
  },
  {
   "cell_type": "code",
   "execution_count": 14,
   "id": "8647ec74",
   "metadata": {},
   "outputs": [],
   "source": [
    "model = keras.models.load_model('saved_models/mlp_binary_1.h5')\n",
    "model.compile(loss='categorical_hinge',\n",
    "              optimizer=SGD(learning_rate=0.0005),\n",
    "              metrics=['acc',tf.keras.metrics.AUC(), tf.keras.metrics.Recall()])"
   ]
  },
  {
   "cell_type": "markdown",
   "id": "1c6acd89",
   "metadata": {},
   "source": [
    "### Protected Attribute: Sex"
   ]
  },
  {
   "cell_type": "code",
   "execution_count": 15,
   "id": "cec6726e",
   "metadata": {
    "scrolled": true
   },
   "outputs": [
    {
     "name": "stdout",
     "output_type": "stream",
     "text": [
      "3141/3141 [==============================] - 23s 7ms/step\n"
     ]
    },
    {
     "data": {
      "text/html": [
       "<div>\n",
       "<style scoped>\n",
       "    .dataframe tbody tr th:only-of-type {\n",
       "        vertical-align: middle;\n",
       "    }\n",
       "\n",
       "    .dataframe tbody tr th {\n",
       "        vertical-align: top;\n",
       "    }\n",
       "\n",
       "    .dataframe thead th {\n",
       "        text-align: right;\n",
       "    }\n",
       "</style>\n",
       "<table border=\"1\" class=\"dataframe\">\n",
       "  <thead>\n",
       "    <tr style=\"text-align: right;\">\n",
       "      <th></th>\n",
       "      <th>sex-binary</th>\n",
       "    </tr>\n",
       "  </thead>\n",
       "  <tbody>\n",
       "    <tr>\n",
       "      <th>average_odds_difference</th>\n",
       "      <td>-0.043569</td>\n",
       "    </tr>\n",
       "    <tr>\n",
       "      <th>disparate_impact_ratio</th>\n",
       "      <td>0.068356</td>\n",
       "    </tr>\n",
       "    <tr>\n",
       "      <th>equal_opportunity_difference</th>\n",
       "      <td>-0.070846</td>\n",
       "    </tr>\n",
       "    <tr>\n",
       "      <th>statistical_parity_difference</th>\n",
       "      <td>-0.023181</td>\n",
       "    </tr>\n",
       "  </tbody>\n",
       "</table>\n",
       "</div>"
      ],
      "text/plain": [
       "                               sex-binary\n",
       "average_odds_difference         -0.043569\n",
       "disparate_impact_ratio           0.068356\n",
       "equal_opportunity_difference    -0.070846\n",
       "statistical_parity_difference   -0.023181"
      ]
     },
     "execution_count": 15,
     "metadata": {},
     "output_type": "execute_result"
    }
   ],
   "source": [
    "result = fh.get_fairness(X1, 'sex-binary')\n",
    "result"
   ]
  },
  {
   "cell_type": "code",
   "execution_count": 16,
   "id": "112948b6",
   "metadata": {},
   "outputs": [
    {
     "name": "stdout",
     "output_type": "stream",
     "text": [
      "3141/3141 [==============================] - 22s 7ms/step\n"
     ]
    },
    {
     "data": {
      "text/html": [
       "<div>\n",
       "<style scoped>\n",
       "    .dataframe tbody tr th:only-of-type {\n",
       "        vertical-align: middle;\n",
       "    }\n",
       "\n",
       "    .dataframe tbody tr th {\n",
       "        vertical-align: top;\n",
       "    }\n",
       "\n",
       "    .dataframe thead th {\n",
       "        text-align: right;\n",
       "    }\n",
       "</style>\n",
       "<table border=\"1\" class=\"dataframe\">\n",
       "  <thead>\n",
       "    <tr style=\"text-align: right;\">\n",
       "      <th></th>\n",
       "      <th>race-binary</th>\n",
       "    </tr>\n",
       "  </thead>\n",
       "  <tbody>\n",
       "    <tr>\n",
       "      <th>average_odds_difference</th>\n",
       "      <td>-0.016038</td>\n",
       "    </tr>\n",
       "    <tr>\n",
       "      <th>disparate_impact_ratio</th>\n",
       "      <td>0.395272</td>\n",
       "    </tr>\n",
       "    <tr>\n",
       "      <th>equal_opportunity_difference</th>\n",
       "      <td>-0.027353</td>\n",
       "    </tr>\n",
       "    <tr>\n",
       "      <th>statistical_parity_difference</th>\n",
       "      <td>-0.007668</td>\n",
       "    </tr>\n",
       "  </tbody>\n",
       "</table>\n",
       "</div>"
      ],
      "text/plain": [
       "                               race-binary\n",
       "average_odds_difference          -0.016038\n",
       "disparate_impact_ratio            0.395272\n",
       "equal_opportunity_difference     -0.027353\n",
       "statistical_parity_difference    -0.007668"
      ]
     },
     "execution_count": 16,
     "metadata": {},
     "output_type": "execute_result"
    }
   ],
   "source": [
    "result = fh.get_fairness(X2, 'race-binary')\n",
    "result"
   ]
  },
  {
   "cell_type": "code",
   "execution_count": 17,
   "id": "b592a43b",
   "metadata": {
    "scrolled": true
   },
   "outputs": [
    {
     "name": "stdout",
     "output_type": "stream",
     "text": [
      "3141/3141 [==============================] - 20s 6ms/step\n"
     ]
    },
    {
     "data": {
      "text/html": [
       "<div>\n",
       "<style scoped>\n",
       "    .dataframe tbody tr th:only-of-type {\n",
       "        vertical-align: middle;\n",
       "    }\n",
       "\n",
       "    .dataframe tbody tr th {\n",
       "        vertical-align: top;\n",
       "    }\n",
       "\n",
       "    .dataframe thead th {\n",
       "        text-align: right;\n",
       "    }\n",
       "</style>\n",
       "<table border=\"1\" class=\"dataframe\">\n",
       "  <thead>\n",
       "    <tr style=\"text-align: right;\">\n",
       "      <th></th>\n",
       "      <th>age-binary</th>\n",
       "    </tr>\n",
       "  </thead>\n",
       "  <tbody>\n",
       "    <tr>\n",
       "      <th>average_odds_difference</th>\n",
       "      <td>-0.021265</td>\n",
       "    </tr>\n",
       "    <tr>\n",
       "      <th>disparate_impact_ratio</th>\n",
       "      <td>0.103662</td>\n",
       "    </tr>\n",
       "    <tr>\n",
       "      <th>equal_opportunity_difference</th>\n",
       "      <td>-0.032315</td>\n",
       "    </tr>\n",
       "    <tr>\n",
       "      <th>statistical_parity_difference</th>\n",
       "      <td>-0.014005</td>\n",
       "    </tr>\n",
       "  </tbody>\n",
       "</table>\n",
       "</div>"
      ],
      "text/plain": [
       "                               age-binary\n",
       "average_odds_difference         -0.021265\n",
       "disparate_impact_ratio           0.103662\n",
       "equal_opportunity_difference    -0.032315\n",
       "statistical_parity_difference   -0.014005"
      ]
     },
     "execution_count": 17,
     "metadata": {},
     "output_type": "execute_result"
    }
   ],
   "source": [
    "result = fh.get_fairness(X3, 'age-binary')\n",
    "result"
   ]
  },
  {
   "cell_type": "code",
   "execution_count": 18,
   "id": "b4720c28",
   "metadata": {},
   "outputs": [],
   "source": [
    "dataset1 = StandardDataset(X111_full, \n",
    "                          label_name='CVD', \n",
    "                          favorable_classes=[1], \n",
    "                          protected_attribute_names=['sex-binary'], \n",
    "                          privileged_classes=[[1]])\n",
    "dataset2 = StandardDataset(X222_full, \n",
    "                          label_name='CVD', \n",
    "                          favorable_classes=[1], \n",
    "                          protected_attribute_names=['race-binary'], \n",
    "                          privileged_classes=[[1]])\n",
    "dataset3 = StandardDataset(X333_full, \n",
    "                          label_name='CVD', \n",
    "                          favorable_classes=[1], \n",
    "                          protected_attribute_names=['age-binary'], \n",
    "                          privileged_classes=[[1]])"
   ]
  },
  {
   "cell_type": "markdown",
   "id": "20109a8c",
   "metadata": {},
   "source": [
    "#### Sex\n",
    "\n",
    "#### metrics for original training data"
   ]
  },
  {
   "cell_type": "code",
   "execution_count": 19,
   "id": "79cd8e56",
   "metadata": {},
   "outputs": [],
   "source": [
    "privileged_groups, unprivileged_groups = fh.get_att_privilege_groups('sex-binary')"
   ]
  },
  {
   "cell_type": "code",
   "execution_count": 20,
   "id": "f73b7551",
   "metadata": {},
   "outputs": [],
   "source": [
    "# Get the dataset and split into train and test\n",
    "dataset_orig_train, dataset_orig_vt = dataset1.split([0.7], shuffle=True)\n",
    "dataset_orig_valid, dataset_orig_test = dataset_orig_vt.split([0.5], shuffle=True)"
   ]
  },
  {
   "cell_type": "code",
   "execution_count": 21,
   "id": "ff15b294",
   "metadata": {},
   "outputs": [
    {
     "data": {
      "text/plain": [
       "               instance weights  features                                      \\\n",
       "                                                                                \n",
       "                                 1319-0.0 1408-0.0 1329-0.0 2050-0.0 1339-0.0   \n",
       "instance names                                                                  \n",
       "431818                      1.0  0.629210      1.0      2.0      1.0      1.0   \n",
       "488036                      1.0 -0.510709      3.0      3.0      1.0      2.0   \n",
       "433182                      1.0 -0.510709      3.0      1.0      1.0      2.0   \n",
       "341291                      1.0  0.059250      2.0      2.0      1.0      2.0   \n",
       "299464                      1.0  0.059250      3.0      1.0      1.0      3.0   \n",
       "...                         ...       ...      ...      ...      ...      ...   \n",
       "160626                      1.0  0.059250      2.0      3.0      1.0      2.0   \n",
       "480087                      1.0  0.059250      2.0      2.0      2.0      4.0   \n",
       "80509                       1.0 -0.510709      1.0      1.0      2.0      2.0   \n",
       "235209                      1.0 -0.510709      1.0      2.0      1.0      1.0   \n",
       "126019                      1.0  0.059250      4.0      1.0      1.0      1.0   \n",
       "\n",
       "                                                                           \\\n",
       "                                                                            \n",
       "               30710-0.0 1349-0.0 30750-0.0 30740-0.0  1160-0.0  1488-0.0   \n",
       "instance names                                                              \n",
       "431818         -0.485967      0.0  0.493478 -0.002751 -0.138460  0.170428   \n",
       "488036         -0.134060      0.0  0.252718 -0.048831 -1.041381 -0.182532   \n",
       "433182         -0.450541      2.0 -1.056415  0.129625 -0.138460 -1.241412   \n",
       "341291         -0.467073      1.0 -0.003090 -0.338718  1.667384  0.170428   \n",
       "299464          1.346783      4.0  0.312908  0.448836  0.764462 -0.182532   \n",
       "...                  ...      ...       ...       ...       ...       ...   \n",
       "160626         -0.372601      3.0  2.404512  1.848001  1.667384 -0.055467   \n",
       "480087          5.990067      1.0 -1.176795 -0.317773 -1.944303  0.523387   \n",
       "80509          -0.197829      0.0 -1.086510 -0.195450  2.570305 -0.182532   \n",
       "235209         -0.516671      1.0 -0.153565 -0.111668 -0.138460  0.523387   \n",
       "126019          1.027941      4.0  0.619125  1.331064 -1.041381  1.582267   \n",
       "\n",
       "                                                                          \\\n",
       "                                                                           \n",
       "               30850-0.0  4080-0.0 1369-0.0 1200-0.0  1289-0.0 30790-0.0   \n",
       "instance names                                                             \n",
       "431818         -0.852435 -1.859230      0.0      2.0  0.026091 -0.732774   \n",
       "488036         -0.958164  0.074352      0.0      1.0 -0.408823 -0.611651   \n",
       "433182         -0.712397 -1.180963      2.0      2.0 -0.408823 -0.275864   \n",
       "341291         -0.875346  0.749488      2.0      1.0  0.639162 -0.652646   \n",
       "299464         -0.845781 -0.659220      2.0      3.0  0.115170 -0.960114   \n",
       "...                  ...       ...      ...      ...       ...       ...   \n",
       "160626          0.185502  0.853837      1.0      3.0  0.115170 -0.106603   \n",
       "480087          1.194610  0.071221      2.0      3.0  0.639162 -0.926805   \n",
       "80509          -0.784632  0.384267      0.0      2.0 -0.408823 -0.201317   \n",
       "235209         -0.890968 -0.398348      1.0      2.0 -0.408823 -0.866942   \n",
       "126019         -0.830563  2.262544      2.0      3.0  0.115170 -0.643329   \n",
       "\n",
       "                                                                          \\\n",
       "                                                                           \n",
       "                 845-0.0    48-0.0 30630-0.0  1299-0.0 1220-0.0 1548-0.0   \n",
       "instance names                                                             \n",
       "431818          0.693917 -1.285780  2.065924  0.343170      0.0      2.0   \n",
       "488036          0.682988  1.238783 -1.299321  0.811273      1.0      2.0   \n",
       "433182          0.650202 -0.172002 -0.133293 -0.124933      0.0      2.0   \n",
       "341291         -1.484575 -0.097750  0.091795 -0.593036      0.0      2.0   \n",
       "299464         -0.391686  0.422013  0.833477  1.747478      0.0      2.0   \n",
       "...                  ...       ...       ...       ...      ...      ...   \n",
       "160626          0.886994  0.644768  0.084415 -0.124933      0.0      1.0   \n",
       "480087          0.336907 -0.469010 -0.576089  3.619889      0.0      2.0   \n",
       "80509          -0.755983 -0.394758 -0.469080 -0.124933      0.0      2.0   \n",
       "235209          0.719418 -1.285780 -0.125913  1.747478      1.0      1.0   \n",
       "126019         -0.027390  0.570516  1.409111 -0.124933      0.0      3.0   \n",
       "\n",
       "                                                                          \\\n",
       "                                                                           \n",
       "                1528-0.0 23099-0.0    49-0.0 30690-0.0 1389-0.0 1249-0.0   \n",
       "instance names                                                             \n",
       "431818         -0.398114  0.342862 -0.043407 -0.044550      0.0      3.0   \n",
       "488036         -0.855883  1.439285  1.256129  0.114874      0.0      4.0   \n",
       "433182          0.975192  1.116129  1.472719 -0.028428      1.0      3.0   \n",
       "341291          0.059654  0.250532  0.281477 -0.742251      2.0      4.0   \n",
       "299464          1.432960  1.289249  0.389772  1.063355      2.0      3.0   \n",
       "...                  ...       ...       ...       ...      ...      ...   \n",
       "160626          0.059654 -0.649689 -1.018059 -1.979127      1.0      1.0   \n",
       "480087          0.975192 -0.892056 -0.909764 -2.764602      1.0      2.0   \n",
       "80509          -0.398114  0.977634  0.281477 -0.952726      0.0      4.0   \n",
       "235209         -1.313652 -0.245743 -1.018059 -0.964370      1.0      1.0   \n",
       "126019          0.517423  1.093047  0.064888 -0.096497      2.0      1.0   \n",
       "\n",
       "                                                                           \\\n",
       "                                                                            \n",
       "                1309-0.0 1379-0.0 21003-0.0 30780-0.0  1438-0.0 30870-0.0   \n",
       "instance names                                                              \n",
       "431818          0.452050      1.0  0.058208 -0.844172  0.426939 -0.844565   \n",
       "488036         -0.808754      0.0  0.428797  0.432568  0.308758  0.361878   \n",
       "433182         -0.808754      2.0 -0.312381 -0.079075 -0.045785 -0.086799   \n",
       "341291         -0.808754      2.0  0.675856 -0.844172 -0.282147  0.147510   \n",
       "299464          0.452050      0.0 -0.188852  1.316100 -0.991232 -0.447735   \n",
       "...                  ...      ...       ...       ...       ...       ...   \n",
       "160626          1.082452      1.0  1.169975 -2.126833  0.190577 -0.631194   \n",
       "480087         -1.439156      1.0 -0.435911 -2.700063 -0.518508 -1.210486   \n",
       "80509          -0.178352      0.0 -0.559441 -0.988663 -0.518508 -0.748847   \n",
       "235209          1.712854      1.0  0.552326 -1.091703 -0.991232 -0.850548   \n",
       "126019         -0.808754      2.0  1.293504 -0.622696 -0.400327  0.181410   \n",
       "\n",
       "                                                                          \\\n",
       "                                                                           \n",
       "               1359-0.0 30770-0.0 21001-0.0  1458-0.0 23100-0.0 1418-0.0   \n",
       "instance names                                                             \n",
       "431818              1.0  0.129658 -1.281806 -0.240901 -0.370666      2.0   \n",
       "488036              0.0 -1.778483  1.664685 -1.737791  1.248394      2.0   \n",
       "433182              2.0 -0.981659  0.379206 -0.240901  0.501136      2.0   \n",
       "341291              3.0  0.320852 -0.603264  0.133322 -0.246123      2.0   \n",
       "299464              3.0 -0.533004  0.773702  0.507544  1.310666      3.0   \n",
       "...                 ...       ...       ...       ...       ...      ...   \n",
       "160626              2.0 -0.108249 -0.060659  0.881767 -0.526345      2.0   \n",
       "480087              2.0  1.307784 -1.043858 -1.737791 -0.983003      4.0   \n",
       "80509               0.0 -0.944724  0.218802 -0.240901  0.366214      2.0   \n",
       "235209              1.0  0.939518 -0.757666 -1.737791 -0.630131      2.0   \n",
       "126019              3.0 -0.311030 -0.301921 -1.737791  0.874765      2.0   \n",
       "\n",
       "                                                                              \\\n",
       "                                                                               \n",
       "               1478-0.0  4079-0.0 30760-0.0 23101-0.0 30640-0.0 1428-0.0_1.0   \n",
       "instance names                                                                 \n",
       "431818              2.0 -1.556665  2.402349 -1.117686 -0.862020          0.0   \n",
       "488036              4.0  0.152951 -1.076556 -0.527630  0.152297          1.0   \n",
       "433182              2.0 -0.208235  0.171804 -0.935463 -0.251711          0.0   \n",
       "341291              1.0  0.273347  0.097275 -0.770594 -0.500992          1.0   \n",
       "299464              1.0 -0.208235  0.946372 -0.241280  1.050569          0.0   \n",
       "...                 ...       ...       ...       ...       ...          ...   \n",
       "160626              1.0  0.273347 -0.176885  0.314067 -2.000977          0.0   \n",
       "480087              1.0  1.332827 -0.128974 -0.328053 -2.499626          0.0   \n",
       "80509               1.0  0.369663 -0.057106 -0.909431 -0.857722          0.0   \n",
       "235209              1.0 -0.689817  0.445964 -0.692499 -1.244538          1.0   \n",
       "126019              4.0 -0.111919  1.236503 -0.440857 -0.771763          1.0   \n",
       "\n",
       "                                                                      \\\n",
       "                                                                       \n",
       "               1428-0.0_2.0 1428-0.0_3.0 20117-0.0_1.0 20117-0.0_2.0   \n",
       "instance names                                                         \n",
       "431818                  0.0          1.0           0.0           1.0   \n",
       "488036                  0.0          0.0           0.0           1.0   \n",
       "433182                  0.0          1.0           0.0           1.0   \n",
       "341291                  0.0          0.0           0.0           1.0   \n",
       "299464                  0.0          1.0           0.0           1.0   \n",
       "...                     ...          ...           ...           ...   \n",
       "160626                  0.0          1.0           0.0           1.0   \n",
       "480087                  0.0          1.0           0.0           1.0   \n",
       "80509                   0.0          0.0           0.0           1.0   \n",
       "235209                  0.0          0.0           0.0           1.0   \n",
       "126019                  0.0          0.0           0.0           1.0   \n",
       "\n",
       "                                                                    \\\n",
       "                                                                     \n",
       "               2100-0.0_1.0 2654-0.0_4.0 2654-0.0_5.0 2654-0.0_6.0   \n",
       "instance names                                                       \n",
       "431818                  0.0          0.0          0.0          1.0   \n",
       "488036                  0.0          0.0          0.0          0.0   \n",
       "433182                  0.0          0.0          0.0          1.0   \n",
       "341291                  0.0          0.0          0.0          0.0   \n",
       "299464                  0.0          0.0          0.0          0.0   \n",
       "...                     ...          ...          ...          ...   \n",
       "160626                  0.0          0.0          0.0          1.0   \n",
       "480087                  0.0          0.0          0.0          0.0   \n",
       "80509                   0.0          0.0          0.0          0.0   \n",
       "235209                  0.0          0.0          0.0          0.0   \n",
       "126019                  1.0          0.0          0.0          0.0   \n",
       "\n",
       "                                                                     \\\n",
       "                                                                      \n",
       "               2654-0.0_7.0 2654-0.0_8.0 2654-0.0_9.0 21000-0.0_2.0   \n",
       "instance names                                                        \n",
       "431818                  0.0          0.0          0.0           0.0   \n",
       "488036                  1.0          0.0          0.0           0.0   \n",
       "433182                  0.0          0.0          0.0           0.0   \n",
       "341291                  1.0          0.0          0.0           0.0   \n",
       "299464                  0.0          0.0          0.0           0.0   \n",
       "...                     ...          ...          ...           ...   \n",
       "160626                  0.0          0.0          0.0           0.0   \n",
       "480087                  0.0          0.0          0.0           0.0   \n",
       "80509                   1.0          0.0          0.0           0.0   \n",
       "235209                  1.0          0.0          0.0           0.0   \n",
       "126019                  1.0          0.0          0.0           0.0   \n",
       "\n",
       "                                                                        \\\n",
       "                                                                         \n",
       "               21000-0.0_3.0 21000-0.0_4.0 21000-0.0_5.0 21000-0.0_6.0   \n",
       "instance names                                                           \n",
       "431818                   0.0           0.0           0.0           0.0   \n",
       "488036                   0.0           0.0           0.0           0.0   \n",
       "433182                   0.0           0.0           0.0           0.0   \n",
       "341291                   0.0           0.0           0.0           0.0   \n",
       "299464                   0.0           0.0           0.0           0.0   \n",
       "...                      ...           ...           ...           ...   \n",
       "160626                   0.0           0.0           0.0           0.0   \n",
       "480087                   0.0           0.0           0.0           0.0   \n",
       "80509                    0.0           0.0           0.0           0.0   \n",
       "235209                   0.0           0.0           0.0           0.0   \n",
       "126019                   0.0           0.0           0.0           0.0   \n",
       "\n",
       "                                                                   \\\n",
       "                                                                    \n",
       "               21000-0.0_1001.0 21000-0.0_1002.0 21000-0.0_1003.0   \n",
       "instance names                                                      \n",
       "431818                      1.0              0.0              0.0   \n",
       "488036                      1.0              0.0              0.0   \n",
       "433182                      1.0              0.0              0.0   \n",
       "341291                      1.0              0.0              0.0   \n",
       "299464                      1.0              0.0              0.0   \n",
       "...                         ...              ...              ...   \n",
       "160626                      1.0              0.0              0.0   \n",
       "480087                      1.0              0.0              0.0   \n",
       "80509                       1.0              0.0              0.0   \n",
       "235209                      1.0              0.0              0.0   \n",
       "126019                      0.0              1.0              0.0   \n",
       "\n",
       "                                                                   \\\n",
       "                                                                    \n",
       "               21000-0.0_2001.0 21000-0.0_2002.0 21000-0.0_2003.0   \n",
       "instance names                                                      \n",
       "431818                      0.0              0.0              0.0   \n",
       "488036                      0.0              0.0              0.0   \n",
       "433182                      0.0              0.0              0.0   \n",
       "341291                      0.0              0.0              0.0   \n",
       "299464                      0.0              0.0              0.0   \n",
       "...                         ...              ...              ...   \n",
       "160626                      0.0              0.0              0.0   \n",
       "480087                      0.0              0.0              0.0   \n",
       "80509                       0.0              0.0              0.0   \n",
       "235209                      0.0              0.0              0.0   \n",
       "126019                      0.0              0.0              0.0   \n",
       "\n",
       "                                                                   \\\n",
       "                                                                    \n",
       "               21000-0.0_2004.0 21000-0.0_3001.0 21000-0.0_3002.0   \n",
       "instance names                                                      \n",
       "431818                      0.0              0.0              0.0   \n",
       "488036                      0.0              0.0              0.0   \n",
       "433182                      0.0              0.0              0.0   \n",
       "341291                      0.0              0.0              0.0   \n",
       "299464                      0.0              0.0              0.0   \n",
       "...                         ...              ...              ...   \n",
       "160626                      0.0              0.0              0.0   \n",
       "480087                      0.0              0.0              0.0   \n",
       "80509                       0.0              0.0              0.0   \n",
       "235209                      0.0              0.0              0.0   \n",
       "126019                      0.0              0.0              0.0   \n",
       "\n",
       "                                                                   \\\n",
       "                                                                    \n",
       "               21000-0.0_3003.0 21000-0.0_3004.0 21000-0.0_4001.0   \n",
       "instance names                                                      \n",
       "431818                      0.0              0.0              0.0   \n",
       "488036                      0.0              0.0              0.0   \n",
       "433182                      0.0              0.0              0.0   \n",
       "341291                      0.0              0.0              0.0   \n",
       "299464                      0.0              0.0              0.0   \n",
       "...                         ...              ...              ...   \n",
       "160626                      0.0              0.0              0.0   \n",
       "480087                      0.0              0.0              0.0   \n",
       "80509                       0.0              0.0              0.0   \n",
       "235209                      0.0              0.0              0.0   \n",
       "126019                      0.0              0.0              0.0   \n",
       "\n",
       "                                                                            \\\n",
       "                                                                             \n",
       "               21000-0.0_4002.0 21000-0.0_4003.0 1538-0.0_1.0 1538-0.0_2.0   \n",
       "instance names                                                               \n",
       "431818                      0.0              0.0          0.0          0.0   \n",
       "488036                      0.0              0.0          0.0          0.0   \n",
       "433182                      0.0              0.0          0.0          0.0   \n",
       "341291                      0.0              0.0          0.0          1.0   \n",
       "299464                      0.0              0.0          1.0          0.0   \n",
       "...                         ...              ...          ...          ...   \n",
       "160626                      0.0              0.0          1.0          0.0   \n",
       "480087                      0.0              0.0          0.0          1.0   \n",
       "80509                       0.0              0.0          0.0          1.0   \n",
       "235209                      0.0              0.0          0.0          0.0   \n",
       "126019                      0.0              0.0          0.0          0.0   \n",
       "\n",
       "                                                                               \\\n",
       "                                                                                \n",
       "               31-0.0_1.0 6138-0.0_2.0 6138-0.0_3.0 6138-0.0_4.0 6138-0.0_5.0   \n",
       "instance names                                                                  \n",
       "431818                0.0          0.0          0.0          0.0          0.0   \n",
       "488036                0.0          0.0          0.0          0.0          0.0   \n",
       "433182                0.0          0.0          0.0          0.0          0.0   \n",
       "341291                0.0          0.0          1.0          0.0          0.0   \n",
       "299464                0.0          0.0          0.0          1.0          0.0   \n",
       "...                   ...          ...          ...          ...          ...   \n",
       "160626                1.0          0.0          0.0          0.0          0.0   \n",
       "480087                1.0          1.0          0.0          0.0          0.0   \n",
       "80509                 0.0          0.0          1.0          0.0          0.0   \n",
       "235209                0.0          0.0          0.0          0.0          0.0   \n",
       "126019                0.0          1.0          0.0          0.0          0.0   \n",
       "\n",
       "                                                                    \\\n",
       "                                                                     \n",
       "               6138-0.0_6.0 2090-0.0_1.0 1508-0.0_2.0 1508-0.0_3.0   \n",
       "instance names                                                       \n",
       "431818                  0.0          0.0          0.0          1.0   \n",
       "488036                  0.0          1.0          0.0          1.0   \n",
       "433182                  0.0          1.0          0.0          1.0   \n",
       "341291                  0.0          0.0          1.0          0.0   \n",
       "299464                  0.0          1.0          0.0          1.0   \n",
       "...                     ...          ...          ...          ...   \n",
       "160626                  0.0          1.0          1.0          0.0   \n",
       "480087                  0.0          0.0          0.0          1.0   \n",
       "80509                   0.0          1.0          0.0          0.0   \n",
       "235209                  0.0          0.0          1.0          0.0   \n",
       "126019                  0.0          1.0          1.0          0.0   \n",
       "\n",
       "                                                                    \\\n",
       "                                                                     \n",
       "               1508-0.0_4.0 6142-0.0_2.0 6142-0.0_3.0 6142-0.0_4.0   \n",
       "instance names                                                       \n",
       "431818                  0.0          0.0          0.0          0.0   \n",
       "488036                  0.0          0.0          0.0          0.0   \n",
       "433182                  0.0          0.0          0.0          0.0   \n",
       "341291                  0.0          1.0          0.0          0.0   \n",
       "299464                  0.0          0.0          0.0          0.0   \n",
       "...                     ...          ...          ...          ...   \n",
       "160626                  0.0          1.0          0.0          0.0   \n",
       "480087                  0.0          0.0          0.0          0.0   \n",
       "80509                   0.0          0.0          0.0          0.0   \n",
       "235209                  0.0          1.0          0.0          0.0   \n",
       "126019                  0.0          1.0          0.0          0.0   \n",
       "\n",
       "                                                                    \\\n",
       "                                                                     \n",
       "               6142-0.0_5.0 6142-0.0_6.0 6142-0.0_7.0 1468-0.0_2.0   \n",
       "instance names                                                       \n",
       "431818                  0.0          0.0          0.0          0.0   \n",
       "488036                  0.0          0.0          0.0          0.0   \n",
       "433182                  0.0          0.0          0.0          0.0   \n",
       "341291                  0.0          0.0          0.0          0.0   \n",
       "299464                  0.0          0.0          0.0          1.0   \n",
       "...                     ...          ...          ...          ...   \n",
       "160626                  0.0          0.0          0.0          0.0   \n",
       "480087                  0.0          0.0          0.0          0.0   \n",
       "80509                   0.0          0.0          0.0          0.0   \n",
       "235209                  0.0          0.0          0.0          0.0   \n",
       "126019                  0.0          0.0          0.0          0.0   \n",
       "\n",
       "                                                                    \\\n",
       "                                                                     \n",
       "               1468-0.0_3.0 1468-0.0_4.0 1468-0.0_5.0 1239-0.0_1.0   \n",
       "instance names                                                       \n",
       "431818                  0.0          1.0          0.0          0.0   \n",
       "488036                  0.0          0.0          1.0          1.0   \n",
       "433182                  1.0          0.0          0.0          0.0   \n",
       "341291                  0.0          1.0          0.0          0.0   \n",
       "299464                  0.0          0.0          0.0          0.0   \n",
       "...                     ...          ...          ...          ...   \n",
       "160626                  0.0          1.0          0.0          0.0   \n",
       "480087                  0.0          1.0          0.0          0.0   \n",
       "80509                   1.0          0.0          0.0          0.0   \n",
       "235209                  1.0          0.0          0.0          0.0   \n",
       "126019                  0.0          0.0          1.0          0.0   \n",
       "\n",
       "                                                                    \\\n",
       "                                                                     \n",
       "               1239-0.0_2.0 1448-0.0_2.0 1448-0.0_3.0 1448-0.0_4.0   \n",
       "instance names                                                       \n",
       "431818                  0.0          0.0          1.0          0.0   \n",
       "488036                  0.0          0.0          0.0          0.0   \n",
       "433182                  0.0          0.0          1.0          0.0   \n",
       "341291                  0.0          0.0          1.0          0.0   \n",
       "299464                  0.0          0.0          1.0          0.0   \n",
       "...                     ...          ...          ...          ...   \n",
       "160626                  0.0          0.0          1.0          0.0   \n",
       "480087                  0.0          0.0          0.0          1.0   \n",
       "80509                   0.0          0.0          1.0          0.0   \n",
       "235209                  0.0          0.0          0.0          0.0   \n",
       "126019                  0.0          0.0          0.0          0.0   \n",
       "\n",
       "                                                  labels  \n",
       "                              protected attribute         \n",
       "               hypertension_1          sex-binary         \n",
       "instance names                                            \n",
       "431818                    0.0                 0.0    0.0  \n",
       "488036                    1.0                 0.0    0.0  \n",
       "433182                    0.0                 0.0    0.0  \n",
       "341291                    1.0                 0.0    0.0  \n",
       "299464                    1.0                 0.0    0.0  \n",
       "...                       ...                 ...    ...  \n",
       "160626                    1.0                 1.0    0.0  \n",
       "480087                    0.0                 1.0    0.0  \n",
       "80509                     0.0                 0.0    0.0  \n",
       "235209                    0.0                 0.0    0.0  \n",
       "126019                    1.0                 0.0    0.0  \n",
       "\n",
       "[75373 rows x 108 columns]"
      ]
     },
     "execution_count": 21,
     "metadata": {},
     "output_type": "execute_result"
    }
   ],
   "source": [
    "dataset_orig_test"
   ]
  },
  {
   "cell_type": "code",
   "execution_count": 22,
   "id": "86b5a9ee",
   "metadata": {},
   "outputs": [
    {
     "data": {
      "text/markdown": [
       "#### Original training dataset"
      ],
      "text/plain": [
       "<IPython.core.display.Markdown object>"
      ]
     },
     "metadata": {},
     "output_type": "display_data"
    },
    {
     "name": "stdout",
     "output_type": "stream",
     "text": [
      "Difference in mean outcomes between unprivileged and privileged groups = -0.052469\n"
     ]
    },
    {
     "data": {
      "text/markdown": [
       "#### Original validation dataset"
      ],
      "text/plain": [
       "<IPython.core.display.Markdown object>"
      ]
     },
     "metadata": {},
     "output_type": "display_data"
    },
    {
     "name": "stdout",
     "output_type": "stream",
     "text": [
      "Difference in mean outcomes between unprivileged and privileged groups = -0.053736\n"
     ]
    },
    {
     "data": {
      "text/markdown": [
       "#### Original test dataset"
      ],
      "text/plain": [
       "<IPython.core.display.Markdown object>"
      ]
     },
     "metadata": {},
     "output_type": "display_data"
    },
    {
     "name": "stdout",
     "output_type": "stream",
     "text": [
      "Difference in mean outcomes between unprivileged and privileged groups = -0.048971\n"
     ]
    }
   ],
   "source": [
    "metric_orig_train = BinaryLabelDatasetMetric(dataset_orig_train, \n",
    "                             unprivileged_groups=unprivileged_groups,\n",
    "                             privileged_groups=privileged_groups)\n",
    "display(Markdown(\"#### Original training dataset\"))\n",
    "print(\"Difference in mean outcomes between unprivileged and privileged groups = %f\" % metric_orig_train.mean_difference())\n",
    "\n",
    "metric_orig_valid = BinaryLabelDatasetMetric(dataset_orig_valid, \n",
    "                             unprivileged_groups=unprivileged_groups,\n",
    "                             privileged_groups=privileged_groups)\n",
    "display(Markdown(\"#### Original validation dataset\"))\n",
    "print(\"Difference in mean outcomes between unprivileged and privileged groups = %f\" % metric_orig_valid.mean_difference())\n",
    "\n",
    "metric_orig_test = BinaryLabelDatasetMetric(dataset_orig_test, \n",
    "                             unprivileged_groups=unprivileged_groups,\n",
    "                             privileged_groups=privileged_groups)\n",
    "display(Markdown(\"#### Original test dataset\"))\n",
    "print(\"Difference in mean outcomes between unprivileged and privileged groups = %f\" % metric_orig_test.mean_difference())"
   ]
  },
  {
   "cell_type": "code",
   "execution_count": 24,
   "id": "2e452c6f",
   "metadata": {},
   "outputs": [
    {
     "name": "stdout",
     "output_type": "stream",
     "text": [
      "1-min(DI, 1/DI): 0.434\n"
     ]
    }
   ],
   "source": [
    "print('1-min(DI, 1/DI):', fh.get_disparity_index(metric_orig_train.disparate_impact()).round(3))"
   ]
  },
  {
   "cell_type": "markdown",
   "id": "f9ece6f3",
   "metadata": {},
   "source": [
    "#### Race"
   ]
  },
  {
   "cell_type": "code",
   "execution_count": 25,
   "id": "722528ee",
   "metadata": {},
   "outputs": [],
   "source": [
    "privileged_groups2, unprivileged_groups2 = fh.get_att_privilege_groups('race-binary')\n",
    "\n",
    "# Get the dataset and split into train and test\n",
    "dataset_orig_train2, dataset_orig_vt2 = dataset2.split([0.7], shuffle=True)\n",
    "dataset_orig_valid2, dataset_orig_test2 = dataset_orig_vt2.split([0.5], shuffle=True)"
   ]
  },
  {
   "cell_type": "code",
   "execution_count": 26,
   "id": "ae1bc4c9",
   "metadata": {
    "scrolled": true
   },
   "outputs": [
    {
     "data": {
      "text/markdown": [
       "#### Original training dataset"
      ],
      "text/plain": [
       "<IPython.core.display.Markdown object>"
      ]
     },
     "metadata": {},
     "output_type": "display_data"
    },
    {
     "name": "stdout",
     "output_type": "stream",
     "text": [
      "Difference in mean outcomes between unprivileged and privileged groups = -0.043406\n"
     ]
    },
    {
     "data": {
      "text/markdown": [
       "#### Original validation dataset"
      ],
      "text/plain": [
       "<IPython.core.display.Markdown object>"
      ]
     },
     "metadata": {},
     "output_type": "display_data"
    },
    {
     "name": "stdout",
     "output_type": "stream",
     "text": [
      "Difference in mean outcomes between unprivileged and privileged groups = -0.044774\n"
     ]
    },
    {
     "data": {
      "text/markdown": [
       "#### Original test dataset"
      ],
      "text/plain": [
       "<IPython.core.display.Markdown object>"
      ]
     },
     "metadata": {},
     "output_type": "display_data"
    },
    {
     "name": "stdout",
     "output_type": "stream",
     "text": [
      "Difference in mean outcomes between unprivileged and privileged groups = -0.038882\n"
     ]
    }
   ],
   "source": [
    "metric_orig_train2 = BinaryLabelDatasetMetric(dataset_orig_train2, \n",
    "                             unprivileged_groups=unprivileged_groups2,\n",
    "                             privileged_groups=privileged_groups2)\n",
    "display(Markdown(\"#### Original training dataset\"))\n",
    "print(\"Difference in mean outcomes between unprivileged and privileged groups = %f\" % metric_orig_train2.mean_difference())\n",
    "\n",
    "metric_orig_valid2 = BinaryLabelDatasetMetric(dataset_orig_valid2, \n",
    "                             unprivileged_groups=unprivileged_groups2,\n",
    "                             privileged_groups=privileged_groups2)\n",
    "display(Markdown(\"#### Original validation dataset\"))\n",
    "print(\"Difference in mean outcomes between unprivileged and privileged groups = %f\" % metric_orig_valid2.mean_difference())\n",
    "\n",
    "metric_orig_test2 = BinaryLabelDatasetMetric(dataset_orig_test2, \n",
    "                             unprivileged_groups=unprivileged_groups2,\n",
    "                             privileged_groups=privileged_groups2)\n",
    "display(Markdown(\"#### Original test dataset\"))\n",
    "print(\"Difference in mean outcomes between unprivileged and privileged groups = %f\" % metric_orig_test2.mean_difference())"
   ]
  },
  {
   "cell_type": "code",
   "execution_count": 27,
   "id": "28effa25",
   "metadata": {},
   "outputs": [
    {
     "name": "stdout",
     "output_type": "stream",
     "text": [
      "1-min(DI, 1/DI): 0.461\n"
     ]
    }
   ],
   "source": [
    "print('1-min(DI, 1/DI):', fh.get_disparity_index(metric_orig_train2.disparate_impact()).round(3))"
   ]
  },
  {
   "cell_type": "markdown",
   "id": "aae6644a",
   "metadata": {},
   "source": [
    "#### Age"
   ]
  },
  {
   "cell_type": "code",
   "execution_count": 29,
   "id": "3cb33d94",
   "metadata": {},
   "outputs": [],
   "source": [
    "privileged_groups3, unprivileged_groups3 = fh.get_att_privilege_groups('age-binary')\n",
    "\n",
    "# Get the dataset and split into train and test\n",
    "dataset_orig_train3, dataset_orig_vt3 = dataset3.split([0.7], shuffle=True)\n",
    "dataset_orig_valid3, dataset_orig_test3 = dataset_orig_vt3.split([0.5], shuffle=True)"
   ]
  },
  {
   "cell_type": "code",
   "execution_count": 30,
   "id": "a5c08b51",
   "metadata": {},
   "outputs": [
    {
     "data": {
      "text/markdown": [
       "#### Original training dataset"
      ],
      "text/plain": [
       "<IPython.core.display.Markdown object>"
      ]
     },
     "metadata": {},
     "output_type": "display_data"
    },
    {
     "name": "stdout",
     "output_type": "stream",
     "text": [
      "Difference in mean outcomes between unprivileged and privileged groups = -0.075218\n"
     ]
    },
    {
     "data": {
      "text/markdown": [
       "#### Original validation dataset"
      ],
      "text/plain": [
       "<IPython.core.display.Markdown object>"
      ]
     },
     "metadata": {},
     "output_type": "display_data"
    },
    {
     "name": "stdout",
     "output_type": "stream",
     "text": [
      "Difference in mean outcomes between unprivileged and privileged groups = -0.077493\n"
     ]
    },
    {
     "data": {
      "text/markdown": [
       "#### Original test dataset"
      ],
      "text/plain": [
       "<IPython.core.display.Markdown object>"
      ]
     },
     "metadata": {},
     "output_type": "display_data"
    },
    {
     "name": "stdout",
     "output_type": "stream",
     "text": [
      "Difference in mean outcomes between unprivileged and privileged groups = -0.077040\n"
     ]
    }
   ],
   "source": [
    "metric_orig_train3 = BinaryLabelDatasetMetric(dataset_orig_train3, \n",
    "                             unprivileged_groups=unprivileged_groups3,\n",
    "                             privileged_groups=privileged_groups3)\n",
    "display(Markdown(\"#### Original training dataset\"))\n",
    "print(\"Difference in mean outcomes between unprivileged and privileged groups = %f\" % metric_orig_train3.mean_difference())\n",
    "\n",
    "metric_orig_valid3 = BinaryLabelDatasetMetric(dataset_orig_valid3, \n",
    "                             unprivileged_groups=unprivileged_groups3,\n",
    "                             privileged_groups=privileged_groups3)\n",
    "display(Markdown(\"#### Original validation dataset\"))\n",
    "print(\"Difference in mean outcomes between unprivileged and privileged groups = %f\" % metric_orig_valid3.mean_difference())\n",
    "\n",
    "metric_orig_test3 = BinaryLabelDatasetMetric(dataset_orig_test3, \n",
    "                             unprivileged_groups=unprivileged_groups3,\n",
    "                             privileged_groups=privileged_groups3)\n",
    "display(Markdown(\"#### Original test dataset\"))\n",
    "print(\"Difference in mean outcomes between unprivileged and privileged groups = %f\" % metric_orig_test3.mean_difference())"
   ]
  },
  {
   "cell_type": "code",
   "execution_count": 31,
   "id": "a2d4846f",
   "metadata": {},
   "outputs": [
    {
     "name": "stdout",
     "output_type": "stream",
     "text": [
      "1-min(DI, 1/DI): 0.687\n"
     ]
    }
   ],
   "source": [
    "print('1-min(DI, 1/DI):', fh.get_disparity_index(metric_orig_train3.disparate_impact()).round(3))"
   ]
  },
  {
   "cell_type": "code",
   "execution_count": null,
   "id": "febcd2ce",
   "metadata": {},
   "outputs": [],
   "source": []
  }
 ],
 "metadata": {
  "kernelspec": {
   "display_name": "Python 3",
   "language": "python",
   "name": "python3"
  },
  "language_info": {
   "codemirror_mode": {
    "name": "ipython",
    "version": 3
   },
   "file_extension": ".py",
   "mimetype": "text/x-python",
   "name": "python",
   "nbconvert_exporter": "python",
   "pygments_lexer": "ipython3",
   "version": "3.8.3"
  }
 },
 "nbformat": 4,
 "nbformat_minor": 5
}
