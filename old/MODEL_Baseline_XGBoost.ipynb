{
 "cells": [
  {
   "cell_type": "markdown",
   "id": "b9f09618",
   "metadata": {},
   "source": [
    "## Baseline XGBoost Model\n",
    "\n",
    "Tree-based models, specifically gradient boosted decision trees, are generally considered the gold-standard for working with tabular data. While the primary aim of the project is bias mitigation applied to deep-learning it would be dissmisive to not consider model performance against such models for a baseline comparison.\n",
    "\n",
    "Gradient boosting methods inherit values of input features and then execute countless tree models to halt the loss function. It does this by assimilating weak models, then incrementally and iteratively models weighing data, diligently accompanied by an election of a weak model with the best performance."
   ]
  },
  {
   "cell_type": "code",
   "execution_count": 2,
   "id": "ba6c9dc6",
   "metadata": {},
   "outputs": [],
   "source": [
    "import numpy as np\n",
    "import pandas as pd \n",
    "import matplotlib.pyplot as plt\n",
    "import seaborn as sns\n",
    "import xgboost as xgb\n",
    "import shap\n",
    "from sklearn.model_selection import train_test_split\n",
    "from sklearn.preprocessing import StandardScaler\n",
    "import utilities\n",
    "import global_variables as gv\n",
    "\n",
    "from sklearn import metrics\n",
    "from sklearn.preprocessing import QuantileTransformer, RobustScaler, StandardScaler,MinMaxScaler"
   ]
  },
  {
   "cell_type": "markdown",
   "id": "442695bf",
   "metadata": {},
   "source": [
    "### load in data and save DMatrix into a XGBoost binary file"
   ]
  },
  {
   "cell_type": "code",
   "execution_count": 23,
   "id": "f9b98dad",
   "metadata": {},
   "outputs": [],
   "source": [
    "# first retrieve into pandas dataframe\n",
    "# alternatively:\n",
    "# df = pd.read_csv('CVD_data.csv')\n",
    "df = pd.read_csv(gv.data_link)\n",
    "pd.set_option('display.max_columns', None)\n",
    "df.drop('Unnamed: 0', axis=1, inplace=True)"
   ]
  },
  {
   "cell_type": "markdown",
   "id": "a88cc4f8",
   "metadata": {},
   "source": [
    "### preprocess input features"
   ]
  },
  {
   "cell_type": "code",
   "execution_count": 24,
   "id": "e707fb85",
   "metadata": {},
   "outputs": [],
   "source": [
    "X_train, X_test, y_train, y_test = utilities.process_features(df, gv.outcomes[-1], StandardScaler(), one_hot=False, val=False)\n",
    "X_train, y_train= utilities.resample_data(X_train, y_train, 'under')"
   ]
  },
  {
   "cell_type": "code",
   "execution_count": 25,
   "id": "29e6082e",
   "metadata": {},
   "outputs": [],
   "source": [
    "X_train.rename(columns=gv.input_mapping, inplace=True)\n",
    "X_val.rename(columns=gv.input_mapping, inplace=True)\n",
    "X_test.rename(columns=gv.input_mapping, inplace=True)"
   ]
  },
  {
   "cell_type": "code",
   "execution_count": 26,
   "id": "1689960a",
   "metadata": {},
   "outputs": [
    {
     "data": {
      "text/plain": [
       "Index(['testosterone', 'LDL', 'cholesterol', 'LP-a',\n",
       "       'whole body fat-free mass', 'body fat percentage',\n",
       "       'waist circumference', 'whole body fat mass', 'CRP', 'HDL', 'APOB',\n",
       "       'HbA1c', 'hip circumference', 'IGF-1', 'glucose', 'vascular',\n",
       "       'triglyceride', 'BMI', 'tea intake', 'diastolic blood pressure',\n",
       "       'raw veg intake', 'age', 'sleep duration', 'bread intake',\n",
       "       'systolic blood pressure', 'cereal intake', 'water intake',\n",
       "       'dried fruit intake', 'age completed education', 'cooked veg intake',\n",
       "       'fresh fruit intake', 'milk type', 'oily fish intake', 'narcolepsy',\n",
       "       'spread type', 'past tobacco smoking', 'processed meat intake',\n",
       "       'beef intake', 'alcohol drinker status',\n",
       "       'psychologist anxiety or depression', 'non-butter spread',\n",
       "       'non-oily fish intake', 'ethnic background',\n",
       "       'freq depressed mood past 2 weeks', 'cheese intake', 'insomnia',\n",
       "       'major dietary changes in the last 5 years', 'Sex', 'Qualifications',\n",
       "       'poultry intake', 'pork intake', 'salt added to food',\n",
       "       'doctor anxiety or depression', 'coffee type', 'lamb intake',\n",
       "       'employment status', 'cereal type', 'variation in diet',\n",
       "       'current tobacco smoking', 'bread type', 'hypertension'],\n",
       "      dtype='object')"
      ]
     },
     "execution_count": 26,
     "metadata": {},
     "output_type": "execute_result"
    }
   ],
   "source": [
    "X_train.columns"
   ]
  },
  {
   "cell_type": "markdown",
   "id": "3dfa9221",
   "metadata": {},
   "source": [
    "### build & save model"
   ]
  },
  {
   "cell_type": "code",
   "execution_count": 31,
   "id": "c500e24c",
   "metadata": {
    "scrolled": false
   },
   "outputs": [
    {
     "name": "stdout",
     "output_type": "stream",
     "text": [
      "XGBClassifier(base_score=None, booster='gbtree', callbacks=None,\n",
      "              colsample_bylevel=None, colsample_bynode=None,\n",
      "              colsample_bytree=None, early_stopping_rounds=None,\n",
      "              enable_categorical=False, eval_metric=None, gamma=None,\n",
      "              gpu_id=None, grow_policy=None, importance_type=None,\n",
      "              interaction_constraints=None, learning_rate=0.1, max_bin=None,\n",
      "              max_cat_to_onehot=None, max_delta_step=None, max_depth=10,\n",
      "              max_leaves=None, min_child_weight=None, missing=nan,\n",
      "              monotone_constraints=None, n_estimators=800, n_jobs=None,\n",
      "              num_parallel_tree=None, predictor=None, random_state=None,\n",
      "              reg_alpha=None, reg_lambda=None, ...)\n",
      "              precision    recall  f1-score   support\n",
      "\n",
      "           0       0.83      0.63      0.71     12898\n",
      "           1       0.37      0.62      0.46      4493\n",
      "\n",
      "    accuracy                           0.63     17391\n",
      "   macro avg       0.60      0.63      0.59     17391\n",
      "weighted avg       0.71      0.63      0.65     17391\n",
      "\n",
      "[[8123 4775]\n",
      " [1701 2792]]\n",
      "XGBClassifier(base_score=None, booster='gbtree', callbacks=None,\n",
      "              colsample_bylevel=None, colsample_bynode=None,\n",
      "              colsample_bytree=None, early_stopping_rounds=None,\n",
      "              enable_categorical=False, eval_metric=None, gamma=None,\n",
      "              gpu_id=None, grow_policy=None, importance_type=None,\n",
      "              interaction_constraints=None, learning_rate=0.1, max_bin=None,\n",
      "              max_cat_to_onehot=None, max_delta_step=None, max_depth=10,\n",
      "              max_leaves=None, min_child_weight=None, missing=nan,\n",
      "              monotone_constraints=None, n_estimators=800, n_jobs=None,\n",
      "              num_parallel_tree=None, predictor=None, random_state=None,\n",
      "              reg_alpha=None, reg_lambda=None, ...)\n",
      "              precision    recall  f1-score   support\n",
      "\n",
      "           0       0.97      0.56      0.71     16745\n",
      "           1       0.04      0.53      0.08       646\n",
      "\n",
      "    accuracy                           0.56     17391\n",
      "   macro avg       0.51      0.55      0.40     17391\n",
      "weighted avg       0.93      0.56      0.69     17391\n",
      "\n",
      "[[9415 7330]\n",
      " [ 301  345]]\n",
      "XGBClassifier(base_score=None, booster='gbtree', callbacks=None,\n",
      "              colsample_bylevel=None, colsample_bynode=None,\n",
      "              colsample_bytree=None, early_stopping_rounds=None,\n",
      "              enable_categorical=False, eval_metric=None, gamma=None,\n",
      "              gpu_id=None, grow_policy=None, importance_type=None,\n",
      "              interaction_constraints=None, learning_rate=0.1, max_bin=None,\n",
      "              max_cat_to_onehot=None, max_delta_step=None, max_depth=10,\n",
      "              max_leaves=None, min_child_weight=None, missing=nan,\n",
      "              monotone_constraints=None, n_estimators=800, n_jobs=None,\n",
      "              num_parallel_tree=None, predictor=None, random_state=None,\n",
      "              reg_alpha=None, reg_lambda=None, ...)\n",
      "              precision    recall  f1-score   support\n",
      "\n",
      "           0       0.55      0.65      0.59      6940\n",
      "           1       0.73      0.65      0.69     10451\n",
      "\n",
      "    accuracy                           0.65     17391\n",
      "   macro avg       0.64      0.65      0.64     17391\n",
      "weighted avg       0.66      0.65      0.65     17391\n",
      "\n",
      "[[4485 2455]\n",
      " [3702 6749]]\n",
      "XGBClassifier(base_score=None, booster='gbtree', callbacks=None,\n",
      "              colsample_bylevel=None, colsample_bynode=None,\n",
      "              colsample_bytree=None, early_stopping_rounds=None,\n",
      "              enable_categorical=False, eval_metric=None, gamma=None,\n",
      "              gpu_id=None, grow_policy=None, importance_type=None,\n",
      "              interaction_constraints=None, learning_rate=0.1, max_bin=None,\n",
      "              max_cat_to_onehot=None, max_delta_step=None, max_depth=10,\n",
      "              max_leaves=None, min_child_weight=None, missing=nan,\n",
      "              monotone_constraints=None, n_estimators=800, n_jobs=None,\n",
      "              num_parallel_tree=None, predictor=None, random_state=None,\n",
      "              reg_alpha=None, reg_lambda=None, ...)\n",
      "              precision    recall  f1-score   support\n",
      "\n",
      "           0       0.88      0.62      0.72     14369\n",
      "           1       0.24      0.59      0.34      3022\n",
      "\n",
      "    accuracy                           0.61     17391\n",
      "   macro avg       0.56      0.60      0.53     17391\n",
      "weighted avg       0.77      0.61      0.66     17391\n",
      "\n",
      "[[8864 5505]\n",
      " [1253 1769]]\n",
      "XGBClassifier(base_score=None, booster='gbtree', callbacks=None,\n",
      "              colsample_bylevel=None, colsample_bynode=None,\n",
      "              colsample_bytree=None, early_stopping_rounds=None,\n",
      "              enable_categorical=False, eval_metric=None, gamma=None,\n",
      "              gpu_id=None, grow_policy=None, importance_type=None,\n",
      "              interaction_constraints=None, learning_rate=0.1, max_bin=None,\n",
      "              max_cat_to_onehot=None, max_delta_step=None, max_depth=10,\n",
      "              max_leaves=None, min_child_weight=None, missing=nan,\n",
      "              monotone_constraints=None, n_estimators=800, n_jobs=None,\n",
      "              num_parallel_tree=None, predictor=None, random_state=None,\n",
      "              reg_alpha=None, reg_lambda=None, ...)\n",
      "              precision    recall  f1-score   support\n",
      "\n",
      "           0       0.94      0.64      0.76     15833\n",
      "           1       0.14      0.60      0.23      1558\n",
      "\n",
      "    accuracy                           0.64     17391\n",
      "   macro avg       0.54      0.62      0.50     17391\n",
      "weighted avg       0.87      0.64      0.72     17391\n",
      "\n",
      "[[10161  5672]\n",
      " [  623   935]]\n",
      "XGBClassifier(base_score=None, booster='gbtree', callbacks=None,\n",
      "              colsample_bylevel=None, colsample_bynode=None,\n",
      "              colsample_bytree=None, early_stopping_rounds=None,\n",
      "              enable_categorical=False, eval_metric=None, gamma=None,\n",
      "              gpu_id=None, grow_policy=None, importance_type=None,\n",
      "              interaction_constraints=None, learning_rate=0.1, max_bin=None,\n",
      "              max_cat_to_onehot=None, max_delta_step=None, max_depth=10,\n",
      "              max_leaves=None, min_child_weight=None, missing=nan,\n",
      "              monotone_constraints=None, n_estimators=800, n_jobs=None,\n",
      "              num_parallel_tree=None, predictor=None, random_state=None,\n",
      "              reg_alpha=None, reg_lambda=None, ...)\n",
      "              precision    recall  f1-score   support\n",
      "\n",
      "           0       0.97      0.57      0.71     16791\n",
      "           1       0.04      0.54      0.08       600\n",
      "\n",
      "    accuracy                           0.56     17391\n",
      "   macro avg       0.51      0.55      0.40     17391\n",
      "weighted avg       0.94      0.56      0.69     17391\n",
      "\n",
      "[[9494 7297]\n",
      " [ 274  326]]\n",
      "XGBClassifier(base_score=None, booster='gbtree', callbacks=None,\n",
      "              colsample_bylevel=None, colsample_bynode=None,\n",
      "              colsample_bytree=None, early_stopping_rounds=None,\n",
      "              enable_categorical=False, eval_metric=None, gamma=None,\n",
      "              gpu_id=None, grow_policy=None, importance_type=None,\n",
      "              interaction_constraints=None, learning_rate=0.1, max_bin=None,\n",
      "              max_cat_to_onehot=None, max_delta_step=None, max_depth=10,\n",
      "              max_leaves=None, min_child_weight=None, missing=nan,\n",
      "              monotone_constraints=None, n_estimators=800, n_jobs=None,\n",
      "              num_parallel_tree=None, predictor=None, random_state=None,\n",
      "              reg_alpha=None, reg_lambda=None, ...)\n",
      "              precision    recall  f1-score   support\n",
      "\n",
      "           0       0.93      0.58      0.72     15748\n",
      "           1       0.13      0.57      0.21      1643\n",
      "\n",
      "    accuracy                           0.58     17391\n",
      "   macro avg       0.53      0.58      0.46     17391\n",
      "weighted avg       0.85      0.58      0.67     17391\n",
      "\n",
      "[[9199 6549]\n",
      " [ 701  942]]\n",
      "XGBClassifier(base_score=None, booster='gbtree', callbacks=None,\n",
      "              colsample_bylevel=None, colsample_bynode=None,\n",
      "              colsample_bytree=None, early_stopping_rounds=None,\n",
      "              enable_categorical=False, eval_metric=None, gamma=None,\n",
      "              gpu_id=None, grow_policy=None, importance_type=None,\n",
      "              interaction_constraints=None, learning_rate=0.1, max_bin=None,\n",
      "              max_cat_to_onehot=None, max_delta_step=None, max_depth=10,\n",
      "              max_leaves=None, min_child_weight=None, missing=nan,\n",
      "              monotone_constraints=None, n_estimators=800, n_jobs=None,\n",
      "              num_parallel_tree=None, predictor=None, random_state=None,\n",
      "              reg_alpha=None, reg_lambda=None, ...)\n"
     ]
    },
    {
     "name": "stdout",
     "output_type": "stream",
     "text": [
      "              precision    recall  f1-score   support\n",
      "\n",
      "           0       0.56      0.59      0.57      8094\n",
      "           1       0.62      0.59      0.61      9297\n",
      "\n",
      "    accuracy                           0.59     17391\n",
      "   macro avg       0.59      0.59      0.59     17391\n",
      "weighted avg       0.59      0.59      0.59     17391\n",
      "\n",
      "[[4767 3327]\n",
      " [3817 5480]]\n"
     ]
    },
    {
     "data": {
      "image/png": "[encoded data removed]",
      "text/plain": [
       "<Figure size 432x288 with 1 Axes>"
      ]
     },
     "metadata": {
      "needs_background": "light"
     },
     "output_type": "display_data"
    }
   ],
   "source": [
    "# feature_importance\n",
    "\n",
    "for outcome in gv.outcomes:\n",
    "\n",
    "    X_train, X_test, y_train, y_test = utilities.process_features(df, outcome, StandardScaler(), one_hot=False, val=False)\n",
    "    X_train, y_train= utilities.resample_data(X_train, y_train, 'under')\n",
    "    \n",
    "    X_train.rename(columns=gv.input_mapping, inplace=True)\n",
    "    X_test.rename(columns=gv.input_mapping, inplace=True)\n",
    "\n",
    "    clf=xgb.XGBClassifier(max_depth=10, \n",
    "                          learning_rate=0.1, \n",
    "                          n_estimators=800,\n",
    "                          objective='binary:logistic', \n",
    "                          booster='gbtree')\n",
    "\n",
    "    #Printing all the parameters of XGBoost\n",
    "    print(clf)\n",
    "\n",
    "    #Creating the model on Training Data\n",
    "    XGB=clf.fit(X_train,y_train)\n",
    "    prediction=XGB.predict(X_test)\n",
    "\n",
    "    #Measuring accuracy on Testing Data\n",
    "    print(metrics.classification_report(y_test, prediction))\n",
    "    print(metrics.confusion_matrix(y_test, prediction))\n",
    "\n",
    "    #Plotting the feature importance for Top 10 most important columns\n",
    "    %matplotlib inline\n",
    "    feature_importances = pd.Series(XGB.feature_importances_, index=X_train.columns.to_list())\n",
    "    feature_importances.nlargest(10).plot(kind='barh')\n",
    "    av=round(feature_importances.nlargest(10).mean(),3)\n",
    "    plt.title(outcome+': Mean top 10 = '+str(av))\n",
    "    plt.xlim(0,0.5)\n",
    "    plt.vlines(av, -20, 100, color='red')\n",
    "    plt.savefig('charts/models/XGBoost/feat_'+outcome+'.png', bbox_inches='tight')"
   ]
  },
  {
   "cell_type": "code",
   "execution_count": 28,
   "id": "1736a31a",
   "metadata": {},
   "outputs": [
    {
     "ename": "NotFittedError",
     "evalue": "need to call fit or load_model beforehand",
     "output_type": "error",
     "traceback": [
      "\u001b[1;31m---------------------------------------------------------------------------\u001b[0m",
      "\u001b[1;31mNotFittedError\u001b[0m                            Traceback (most recent call last)",
      "\u001b[1;32m~\\AppData\\Local\\Temp/ipykernel_26500/3670289743.py\u001b[0m in \u001b[0;36m<module>\u001b[1;34m\u001b[0m\n\u001b[1;32m----> 1\u001b[1;33m \u001b[0mprediction\u001b[0m\u001b[1;33m=\u001b[0m\u001b[0mclf_xgb\u001b[0m\u001b[1;33m.\u001b[0m\u001b[0mpredict\u001b[0m\u001b[1;33m(\u001b[0m\u001b[0mX_test\u001b[0m\u001b[1;33m)\u001b[0m\u001b[1;33m\u001b[0m\u001b[1;33m\u001b[0m\u001b[0m\n\u001b[0m",
      "\u001b[1;32m~\\AppData\\Roaming\\Python\\Python38\\site-packages\\xgboost\\sklearn.py\u001b[0m in \u001b[0;36mpredict\u001b[1;34m(self, X, output_margin, ntree_limit, validate_features, base_margin, iteration_range)\u001b[0m\n\u001b[0;32m   1432\u001b[0m         \u001b[0miteration_range\u001b[0m\u001b[1;33m:\u001b[0m \u001b[0mOptional\u001b[0m\u001b[1;33m[\u001b[0m\u001b[0mTuple\u001b[0m\u001b[1;33m[\u001b[0m\u001b[0mint\u001b[0m\u001b[1;33m,\u001b[0m \u001b[0mint\u001b[0m\u001b[1;33m]\u001b[0m\u001b[1;33m]\u001b[0m \u001b[1;33m=\u001b[0m \u001b[1;32mNone\u001b[0m\u001b[1;33m,\u001b[0m\u001b[1;33m\u001b[0m\u001b[1;33m\u001b[0m\u001b[0m\n\u001b[0;32m   1433\u001b[0m     ) -> np.ndarray:\n\u001b[1;32m-> 1434\u001b[1;33m         class_probs = super().predict(\n\u001b[0m\u001b[0;32m   1435\u001b[0m             \u001b[0mX\u001b[0m\u001b[1;33m=\u001b[0m\u001b[0mX\u001b[0m\u001b[1;33m,\u001b[0m\u001b[1;33m\u001b[0m\u001b[1;33m\u001b[0m\u001b[0m\n\u001b[0;32m   1436\u001b[0m             \u001b[0moutput_margin\u001b[0m\u001b[1;33m=\u001b[0m\u001b[0moutput_margin\u001b[0m\u001b[1;33m,\u001b[0m\u001b[1;33m\u001b[0m\u001b[1;33m\u001b[0m\u001b[0m\n",
      "\u001b[1;32m~\\AppData\\Roaming\\Python\\Python38\\site-packages\\xgboost\\sklearn.py\u001b[0m in \u001b[0;36mpredict\u001b[1;34m(self, X, output_margin, ntree_limit, validate_features, base_margin, iteration_range)\u001b[0m\n\u001b[0;32m   1042\u001b[0m         \"\"\"\n\u001b[0;32m   1043\u001b[0m         iteration_range = _convert_ntree_limit(\n\u001b[1;32m-> 1044\u001b[1;33m             \u001b[0mself\u001b[0m\u001b[1;33m.\u001b[0m\u001b[0mget_booster\u001b[0m\u001b[1;33m(\u001b[0m\u001b[1;33m)\u001b[0m\u001b[1;33m,\u001b[0m \u001b[0mntree_limit\u001b[0m\u001b[1;33m,\u001b[0m \u001b[0miteration_range\u001b[0m\u001b[1;33m\u001b[0m\u001b[1;33m\u001b[0m\u001b[0m\n\u001b[0m\u001b[0;32m   1045\u001b[0m         )\n\u001b[0;32m   1046\u001b[0m         \u001b[0miteration_range\u001b[0m \u001b[1;33m=\u001b[0m \u001b[0mself\u001b[0m\u001b[1;33m.\u001b[0m\u001b[0m_get_iteration_range\u001b[0m\u001b[1;33m(\u001b[0m\u001b[0miteration_range\u001b[0m\u001b[1;33m)\u001b[0m\u001b[1;33m\u001b[0m\u001b[1;33m\u001b[0m\u001b[0m\n",
      "\u001b[1;32m~\\AppData\\Roaming\\Python\\Python38\\site-packages\\xgboost\\sklearn.py\u001b[0m in \u001b[0;36mget_booster\u001b[1;34m(self)\u001b[0m\n\u001b[0;32m    588\u001b[0m         \u001b[1;32mif\u001b[0m \u001b[1;32mnot\u001b[0m \u001b[0mself\u001b[0m\u001b[1;33m.\u001b[0m\u001b[0m__sklearn_is_fitted__\u001b[0m\u001b[1;33m(\u001b[0m\u001b[1;33m)\u001b[0m\u001b[1;33m:\u001b[0m\u001b[1;33m\u001b[0m\u001b[1;33m\u001b[0m\u001b[0m\n\u001b[0;32m    589\u001b[0m             \u001b[1;32mfrom\u001b[0m \u001b[0msklearn\u001b[0m\u001b[1;33m.\u001b[0m\u001b[0mexceptions\u001b[0m \u001b[1;32mimport\u001b[0m \u001b[0mNotFittedError\u001b[0m\u001b[1;33m\u001b[0m\u001b[1;33m\u001b[0m\u001b[0m\n\u001b[1;32m--> 590\u001b[1;33m             \u001b[1;32mraise\u001b[0m \u001b[0mNotFittedError\u001b[0m\u001b[1;33m(\u001b[0m\u001b[1;34m'need to call fit or load_model beforehand'\u001b[0m\u001b[1;33m)\u001b[0m\u001b[1;33m\u001b[0m\u001b[1;33m\u001b[0m\u001b[0m\n\u001b[0m\u001b[0;32m    591\u001b[0m         \u001b[1;32mreturn\u001b[0m \u001b[0mself\u001b[0m\u001b[1;33m.\u001b[0m\u001b[0m_Booster\u001b[0m\u001b[1;33m\u001b[0m\u001b[1;33m\u001b[0m\u001b[0m\n\u001b[0;32m    592\u001b[0m \u001b[1;33m\u001b[0m\u001b[0m\n",
      "\u001b[1;31mNotFittedError\u001b[0m: need to call fit or load_model beforehand"
     ]
    }
   ],
   "source": [
    "prediction=clf_xgb.predict(X_test)"
   ]
  },
  {
   "cell_type": "markdown",
   "id": "ec3def5c",
   "metadata": {},
   "source": [
    "## Results from basic XGBoost\n",
    "***\n",
    "\n",
    "Initial results from the XGBoost Model indicate the most promising results for the following subset of outcomes: \n",
    "\n",
    "<ol>\n",
    "    <li>Ischemic Heart Disease</li>\n",
    "    <li>Peripheral Vascular Disease</li>\n",
    "    <li>Myocardial Infarction</li>\n",
    "    <li>Heart Failure</li>\n",
    "</ol>\n",
    "\n",
    "Overall performance was determined by the prioritization of Recall for the prioritization of false negative reduction. Because we are working in a medical domain space, the critical circumstance is to identify positive individuals. Recall as the primary metric is secondarily priortized because of the large skew toward negative cases in the dataset regarding each outcome\n",
    "\n",
    "\n",
    "#### full outcome set:\n",
    "\n",
    "<ul>\n",
    "    <li>Myocardial Infarction</li>\n",
    "    <li>Cardiomyopathies</li>\n",
    "    <li>Ischemic Heart Disease</li>\n",
    "    <li> Heart Failure</li>\n",
    "    <li>Peripheral Vascular Disease</li>\n",
    "    <li>Cardiac Arrest</li>\n",
    "    <li>Cerebral Infarction</li>\n",
    "    <li>Arrhythmia</li>\n",
    "</ul>\n",
    "\n",
    "['outcome_myocardial_infarction','outcome_cardiomyopathies','outcome_ischemic_heart_disease','outcome_heart_failure','outcome_peripheral_vascular_disease','outcome_cardiac_arrest','outcome_cerebral_infarction','outcome_arrhythmia']\n"
   ]
  },
  {
   "cell_type": "code",
   "execution_count": 7,
   "id": "8b28453e",
   "metadata": {},
   "outputs": [],
   "source": [
    "X_train, X_val, X_test, y_train, y_val, y_test = utilities.process_features(df, gv.outcomes[-1], StandardScaler(), one_hot=False, val=True)\n",
    "X_train, y_train= utilities.resample_data(X_train, y_train, 'under')"
   ]
  },
  {
   "cell_type": "code",
   "execution_count": 9,
   "id": "9587a809",
   "metadata": {},
   "outputs": [],
   "source": [
    "X_train.rename(columns=gv.input_mapping, inplace=True)\n",
    "X_val.rename(columns=gv.input_mapping, inplace=True)\n",
    "X_test.rename(columns=gv.input_mapping, inplace=True)"
   ]
  },
  {
   "cell_type": "code",
   "execution_count": null,
   "id": "92aba1bb",
   "metadata": {},
   "outputs": [],
   "source": [
    "from xgboost import XGBClassifier\n",
    "\n",
    "n_estimators = 1000\n",
    "\n",
    "clf_xgb = XGBClassifier(max_depth=8,\n",
    "    learning_rate=0.01,\n",
    "    n_estimators=n_estimators,\n",
    "    verbosity=0,\n",
    "    silent=None,\n",
    "    objective=\"binary:logistic\",\n",
    "    booster='gbtree',\n",
    "    n_jobs=-1,\n",
    "    nthread=None,\n",
    "    gamma=0,\n",
    "    min_child_weight=1,\n",
    "    max_delta_step=0,\n",
    "    subsample=0.7,\n",
    "    colsample_bytree=1,\n",
    "    colsample_bylevel=1,\n",
    "    colsample_bynode=1,\n",
    "    reg_alpha=0,\n",
    "    reg_lambda=1,\n",
    "    scale_pos_weight=1,\n",
    "    base_score=0.5,\n",
    "    random_state=0,\n",
    "    seed=None,)\n",
    "\n",
    "clf_xgb.fit(X_train, y_train,\n",
    "            eval_set=[(X_val, y_val)],\n",
    "            early_stopping_rounds=40,\n",
    "            verbose=20)"
   ]
  },
  {
   "cell_type": "code",
   "execution_count": 30,
   "id": "13b66abf",
   "metadata": {},
   "outputs": [
    {
     "ename": "NotFittedError",
     "evalue": "need to call fit or load_model beforehand",
     "output_type": "error",
     "traceback": [
      "\u001b[1;31m---------------------------------------------------------------------------\u001b[0m",
      "\u001b[1;31mNotFittedError\u001b[0m                            Traceback (most recent call last)",
      "\u001b[1;32m~\\AppData\\Local\\Temp/ipykernel_26500/3056963027.py\u001b[0m in \u001b[0;36m<module>\u001b[1;34m\u001b[0m\n\u001b[1;32m----> 1\u001b[1;33m \u001b[0mprediction\u001b[0m\u001b[1;33m=\u001b[0m\u001b[0mclf_xgb\u001b[0m\u001b[1;33m.\u001b[0m\u001b[0mpredict\u001b[0m\u001b[1;33m(\u001b[0m\u001b[0mX_test\u001b[0m\u001b[1;33m)\u001b[0m\u001b[1;33m\u001b[0m\u001b[1;33m\u001b[0m\u001b[0m\n\u001b[0m\u001b[0;32m      2\u001b[0m \u001b[1;33m\u001b[0m\u001b[0m\n\u001b[0;32m      3\u001b[0m \u001b[1;31m#Measuring accuracy on Testing Data\u001b[0m\u001b[1;33m\u001b[0m\u001b[1;33m\u001b[0m\u001b[1;33m\u001b[0m\u001b[0m\n\u001b[0;32m      4\u001b[0m \u001b[0mprint\u001b[0m\u001b[1;33m(\u001b[0m\u001b[0mmetrics\u001b[0m\u001b[1;33m.\u001b[0m\u001b[0mclassification_report\u001b[0m\u001b[1;33m(\u001b[0m\u001b[0my_test\u001b[0m\u001b[1;33m,\u001b[0m \u001b[0mprediction\u001b[0m\u001b[1;33m)\u001b[0m\u001b[1;33m)\u001b[0m\u001b[1;33m\u001b[0m\u001b[1;33m\u001b[0m\u001b[0m\n\u001b[0;32m      5\u001b[0m \u001b[0mprint\u001b[0m\u001b[1;33m(\u001b[0m\u001b[0mmetrics\u001b[0m\u001b[1;33m.\u001b[0m\u001b[0mconfusion_matrix\u001b[0m\u001b[1;33m(\u001b[0m\u001b[0my_test\u001b[0m\u001b[1;33m,\u001b[0m \u001b[0mprediction\u001b[0m\u001b[1;33m)\u001b[0m\u001b[1;33m)\u001b[0m\u001b[1;33m\u001b[0m\u001b[1;33m\u001b[0m\u001b[0m\n",
      "\u001b[1;32m~\\AppData\\Roaming\\Python\\Python38\\site-packages\\xgboost\\sklearn.py\u001b[0m in \u001b[0;36mpredict\u001b[1;34m(self, X, output_margin, ntree_limit, validate_features, base_margin, iteration_range)\u001b[0m\n\u001b[0;32m   1432\u001b[0m         \u001b[0miteration_range\u001b[0m\u001b[1;33m:\u001b[0m \u001b[0mOptional\u001b[0m\u001b[1;33m[\u001b[0m\u001b[0mTuple\u001b[0m\u001b[1;33m[\u001b[0m\u001b[0mint\u001b[0m\u001b[1;33m,\u001b[0m \u001b[0mint\u001b[0m\u001b[1;33m]\u001b[0m\u001b[1;33m]\u001b[0m \u001b[1;33m=\u001b[0m \u001b[1;32mNone\u001b[0m\u001b[1;33m,\u001b[0m\u001b[1;33m\u001b[0m\u001b[1;33m\u001b[0m\u001b[0m\n\u001b[0;32m   1433\u001b[0m     ) -> np.ndarray:\n\u001b[1;32m-> 1434\u001b[1;33m         class_probs = super().predict(\n\u001b[0m\u001b[0;32m   1435\u001b[0m             \u001b[0mX\u001b[0m\u001b[1;33m=\u001b[0m\u001b[0mX\u001b[0m\u001b[1;33m,\u001b[0m\u001b[1;33m\u001b[0m\u001b[1;33m\u001b[0m\u001b[0m\n\u001b[0;32m   1436\u001b[0m             \u001b[0moutput_margin\u001b[0m\u001b[1;33m=\u001b[0m\u001b[0moutput_margin\u001b[0m\u001b[1;33m,\u001b[0m\u001b[1;33m\u001b[0m\u001b[1;33m\u001b[0m\u001b[0m\n",
      "\u001b[1;32m~\\AppData\\Roaming\\Python\\Python38\\site-packages\\xgboost\\sklearn.py\u001b[0m in \u001b[0;36mpredict\u001b[1;34m(self, X, output_margin, ntree_limit, validate_features, base_margin, iteration_range)\u001b[0m\n\u001b[0;32m   1042\u001b[0m         \"\"\"\n\u001b[0;32m   1043\u001b[0m         iteration_range = _convert_ntree_limit(\n\u001b[1;32m-> 1044\u001b[1;33m             \u001b[0mself\u001b[0m\u001b[1;33m.\u001b[0m\u001b[0mget_booster\u001b[0m\u001b[1;33m(\u001b[0m\u001b[1;33m)\u001b[0m\u001b[1;33m,\u001b[0m \u001b[0mntree_limit\u001b[0m\u001b[1;33m,\u001b[0m \u001b[0miteration_range\u001b[0m\u001b[1;33m\u001b[0m\u001b[1;33m\u001b[0m\u001b[0m\n\u001b[0m\u001b[0;32m   1045\u001b[0m         )\n\u001b[0;32m   1046\u001b[0m         \u001b[0miteration_range\u001b[0m \u001b[1;33m=\u001b[0m \u001b[0mself\u001b[0m\u001b[1;33m.\u001b[0m\u001b[0m_get_iteration_range\u001b[0m\u001b[1;33m(\u001b[0m\u001b[0miteration_range\u001b[0m\u001b[1;33m)\u001b[0m\u001b[1;33m\u001b[0m\u001b[1;33m\u001b[0m\u001b[0m\n",
      "\u001b[1;32m~\\AppData\\Roaming\\Python\\Python38\\site-packages\\xgboost\\sklearn.py\u001b[0m in \u001b[0;36mget_booster\u001b[1;34m(self)\u001b[0m\n\u001b[0;32m    588\u001b[0m         \u001b[1;32mif\u001b[0m \u001b[1;32mnot\u001b[0m \u001b[0mself\u001b[0m\u001b[1;33m.\u001b[0m\u001b[0m__sklearn_is_fitted__\u001b[0m\u001b[1;33m(\u001b[0m\u001b[1;33m)\u001b[0m\u001b[1;33m:\u001b[0m\u001b[1;33m\u001b[0m\u001b[1;33m\u001b[0m\u001b[0m\n\u001b[0;32m    589\u001b[0m             \u001b[1;32mfrom\u001b[0m \u001b[0msklearn\u001b[0m\u001b[1;33m.\u001b[0m\u001b[0mexceptions\u001b[0m \u001b[1;32mimport\u001b[0m \u001b[0mNotFittedError\u001b[0m\u001b[1;33m\u001b[0m\u001b[1;33m\u001b[0m\u001b[0m\n\u001b[1;32m--> 590\u001b[1;33m             \u001b[1;32mraise\u001b[0m \u001b[0mNotFittedError\u001b[0m\u001b[1;33m(\u001b[0m\u001b[1;34m'need to call fit or load_model beforehand'\u001b[0m\u001b[1;33m)\u001b[0m\u001b[1;33m\u001b[0m\u001b[1;33m\u001b[0m\u001b[0m\n\u001b[0m\u001b[0;32m    591\u001b[0m         \u001b[1;32mreturn\u001b[0m \u001b[0mself\u001b[0m\u001b[1;33m.\u001b[0m\u001b[0m_Booster\u001b[0m\u001b[1;33m\u001b[0m\u001b[1;33m\u001b[0m\u001b[0m\n\u001b[0;32m    592\u001b[0m \u001b[1;33m\u001b[0m\u001b[0m\n",
      "\u001b[1;31mNotFittedError\u001b[0m: need to call fit or load_model beforehand"
     ]
    }
   ],
   "source": [
    "prediction=clf_xgb.predict(X_test)\n",
    "\n",
    "#Measuring accuracy on Testing Data\n",
    "print(metrics.classification_report(y_test, prediction))\n",
    "print(metrics.confusion_matrix(y_test, prediction))\n",
    "\n",
    "#Plotting the feature importance for Top 10 most important columns\n",
    "%matplotlib inline\n",
    "feature_importances = pd.Series(clf_xgb.feature_importances_, index=X_train.columns.to_list())\n",
    "feature_importances.nlargest(10).plot(kind='barh')\n",
    "plt.title('Arrhythmia')\n",
    "plt.hlines(feature_importances.nlargest(10).mean(), 0, 0.5, color='red')"
   ]
  },
  {
   "cell_type": "code",
   "execution_count": null,
   "id": "d5d190aa",
   "metadata": {},
   "outputs": [],
   "source": []
  }
 ],
 "metadata": {
  "kernelspec": {
   "display_name": "Python 3",
   "language": "python",
   "name": "python3"
  },
  "language_info": {
   "codemirror_mode": {
    "name": "ipython",
    "version": 3
   },
   "file_extension": ".py",
   "mimetype": "text/x-python",
   "name": "python",
   "nbconvert_exporter": "python",
   "pygments_lexer": "ipython3",
   "version": "3.8.3"
  }
 },
 "nbformat": 4,
 "nbformat_minor": 5
}
